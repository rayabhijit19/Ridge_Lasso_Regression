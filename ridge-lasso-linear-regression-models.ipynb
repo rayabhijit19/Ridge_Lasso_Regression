House Price Prediction - Advanced regression Assignment
------------------------------------------------------------------------------------------------------
The solution is divided into the following sections:

Data understanding and exploration
Data cleaning
Data preparation
Model building and evaluation
Observation and inference
# importing all the important
import numpy as np
import pandas as pd
pd.options.display.max_rows = 100
pd.options.display.max_columns = 100
import matplotlib.pyplot as plt
import seaborn as sns
from sklearn import linear_model
from sklearn.linear_model import LinearRegression
from sklearn.linear_model import Ridge
from sklearn.linear_model import Lasso
from sklearn.model_selection import GridSearchCV
from sklearn.preprocessing import PolynomialFeatures
from sklearn.linear_model import LinearRegression
from sklearn.pipeline import Pipeline
from sklearn import metrics
import os
​
# hide warnings
import warnings
warnings.filterwarnings('ignore')
​
# reading the dataset
data = pd.read_csv("train.csv", encoding = 'utf-8')
data.head()
---------------------------------------------------------------------------
FileNotFoundError                         Traceback (most recent call last)
Cell In[15], line 2
      1 # reading the dataset
----> 2 data = pd.read_csv("train.csv", encoding = 'utf-8')
      3 data.head()

File ~\anaconda3\Lib\site-packages\pandas\io\parsers\readers.py:912, in read_csv(filepath_or_buffer, sep, delimiter, header, names, index_col, usecols, dtype, engine, converters, true_values, false_values, skipinitialspace, skiprows, skipfooter, nrows, na_values, keep_default_na, na_filter, verbose, skip_blank_lines, parse_dates, infer_datetime_format, keep_date_col, date_parser, date_format, dayfirst, cache_dates, iterator, chunksize, compression, thousands, decimal, lineterminator, quotechar, quoting, doublequote, escapechar, comment, encoding, encoding_errors, dialect, on_bad_lines, delim_whitespace, low_memory, memory_map, float_precision, storage_options, dtype_backend)
    899 kwds_defaults = _refine_defaults_read(
    900     dialect,
    901     delimiter,
   (...)
    908     dtype_backend=dtype_backend,
    909 )
    910 kwds.update(kwds_defaults)
--> 912 return _read(filepath_or_buffer, kwds)

File ~\anaconda3\Lib\site-packages\pandas\io\parsers\readers.py:577, in _read(filepath_or_buffer, kwds)
    574 _validate_names(kwds.get("names", None))
    576 # Create the parser.
--> 577 parser = TextFileReader(filepath_or_buffer, **kwds)
    579 if chunksize or iterator:
    580     return parser

File ~\anaconda3\Lib\site-packages\pandas\io\parsers\readers.py:1407, in TextFileReader.__init__(self, f, engine, **kwds)
   1404     self.options["has_index_names"] = kwds["has_index_names"]
   1406 self.handles: IOHandles | None = None
-> 1407 self._engine = self._make_engine(f, self.engine)

File ~\anaconda3\Lib\site-packages\pandas\io\parsers\readers.py:1661, in TextFileReader._make_engine(self, f, engine)
   1659     if "b" not in mode:
   1660         mode += "b"
-> 1661 self.handles = get_handle(
   1662     f,
   1663     mode,
   1664     encoding=self.options.get("encoding", None),
   1665     compression=self.options.get("compression", None),
   1666     memory_map=self.options.get("memory_map", False),
   1667     is_text=is_text,
   1668     errors=self.options.get("encoding_errors", "strict"),
   1669     storage_options=self.options.get("storage_options", None),
   1670 )
   1671 assert self.handles is not None
   1672 f = self.handles.handle

File ~\anaconda3\Lib\site-packages\pandas\io\common.py:868, in get_handle(path_or_buf, mode, encoding, compression, memory_map, is_text, errors, storage_options)
    859         handle = open(
    860             handle,
    861             ioargs.mode,
   (...)
    864             newline="",
    865         )
    866     else:
    867         # Binary mode
--> 868         handle = open(handle, ioargs.mode)
    869     handles.append(handle)
    871 # Convert BytesIO or file objects passed with an encoding

FileNotFoundError: [Errno 2] No such file or directory: 'train.csv'

# Check the dimensions
data.shape
---------------------------------------------------------------------------
NameError                                 Traceback (most recent call last)
Cell In[16], line 2
      1 # Check the dimensions
----> 2 data.shape

NameError: name 'data' is not defined

# Check for column details
data.info()
# To get the description of the dataset
data.describe()
#checking duplicates
sum(data.duplicated(subset = 'Id')) == 0
# Checking for percentage nulls
round(100*(data.isnull().sum()/len(data.index)), 2)
Outlier Check
#Checking for outlier in the numerical columns
data.describe(percentiles=[.25,.5,.75,.90,.95,.99])
---------------------------------------------------------------------------
NameError                                 Traceback (most recent call last)
Cell In[3], line 2
      1 #Checking for outlier in the numerical columns
----> 2 data.describe(percentiles=[.25,.5,.75,.90,.95,.99])

NameError: name 'data' is not defined

Method to remove outliers.
def remove_outliers(x,y):
    q1 = x[y].quantile(0.25)
    q3 = x[y].quantile(0.75)
    value = q3-q1
    lower_value  = q1-1.5*value
    higer_value = q3+1.5*value
    out= x[(x[y]<higer_value) & (x[y]>lower_value)]
    return out
#Checking the shape of the dataframe
data.shape
---------------------------------------------------------------------------
NameError                                 Traceback (most recent call last)
Cell In[5], line 2
      1 #Checking the shape of the dataframe
----> 2 data.shape

NameError: name 'data' is not defined

# since, it is clear that there are multiple columns with high nulls, lets group them together
data.columns[data.isnull().any()] 
​
null = data.isnull().sum()/len(data)*100
null = null[null>0]
null.sort_values(inplace=True, ascending=False)
null
---------------------------------------------------------------------------
NameError                                 Traceback (most recent call last)
Cell In[6], line 2
      1 # since, it is clear that there are multiple columns with high nulls, lets group them together
----> 2 data.columns[data.isnull().any()] 
      4 null = data.isnull().sum()/len(data)*100
      5 null = null[null>0]

NameError: name 'data' is not defined

According to the data dictionary provided, the nulls in these columns indicates the absence of facility which may affect the price
Hence, we will first impute the categorical variables with 'None'
# According to the data dictionary provided, the nulls in these columns indicates the absence of facility which may affect the price
# Hence, we will first impute the categorical variables with 'None'
null_with_meaning = ["Alley", "MasVnrType", "BsmtQual", "BsmtCond", "BsmtExposure", "BsmtFinType1", "BsmtFinType2", "FireplaceQu", "GarageType", "GarageFinish", "GarageQual", "GarageCond", "PoolQC", "Fence", "MiscFeature"]
for i in null_with_meaning:
    data[i].fillna("none", inplace=True)
---------------------------------------------------------------------------
NameError                                 Traceback (most recent call last)
Cell In[7], line 5
      3 null_with_meaning = ["Alley", "MasVnrType", "BsmtQual", "BsmtCond", "BsmtExposure", "BsmtFinType1", "BsmtFinType2", "FireplaceQu", "GarageType", "GarageFinish", "GarageQual", "GarageCond", "PoolQC", "Fence", "MiscFeature"]
      4 for i in null_with_meaning:
----> 5     data[i].fillna("none", inplace=True)

NameError: name 'data' is not defined

# Check nulls once again
​
data.columns[data.isnull().any()] 
​
null_2 = data.isnull().sum()/len(data)*100
null_2 = null_2[null_2>0]
null_2.sort_values(inplace=True, ascending=False)
null_2
---------------------------------------------------------------------------
NameError                                 Traceback (most recent call last)
Cell In[8], line 3
      1 # Check nulls once again
----> 3 data.columns[data.isnull().any()] 
      5 null_2 = data.isnull().sum()/len(data)*100
      6 null_2 = null_2[null_2>0]

NameError: name 'data' is not defined

# Will check these columns one by one
data['LotFrontage'].describe()
---------------------------------------------------------------------------
NameError                                 Traceback (most recent call last)
Cell In[9], line 2
      1 # Will check these columns one by one
----> 2 data['LotFrontage'].describe()

NameError: name 'data' is not defined

data['GarageYrBlt'].describe()
---------------------------------------------------------------------------
NameError                                 Traceback (most recent call last)
Cell In[10], line 1
----> 1 data['GarageYrBlt'].describe()

NameError: name 'data' is not defined

data['MasVnrArea'].describe()
count    1452.000000
mean      103.685262
std       181.066207
min         0.000000
25%         0.000000
50%         0.000000
75%       166.000000
max      1600.000000
Name: MasVnrArea, dtype: float64
data['Electrical'].describe()
count      1459
unique        5
top       SBrkr
freq       1334
Name: Electrical, dtype: object
# As per the data dictionary "LotFrontage" is Linear feet of street connected to property.  
# Since it is a numeric with a fair distribution, it can be imputed with similar 'Neighborhood' values
​
data['LotFrontage'] = data.groupby("Neighborhood")["LotFrontage"].transform(lambda x: x.fillna(x.median()))
data["GarageYrBlt"].fillna(data["GarageYrBlt"].median(), inplace=True)
data["MasVnrArea"].fillna(data["MasVnrArea"].median(), inplace=True)
data["Electrical"].dropna(inplace=True)
# Crosscheck the updated 'LotFrontage' column
data['LotFrontage'].describe()
count    1460.000000
mean       70.199658
std        22.431902
min        21.000000
25%        60.000000
50%        70.000000
75%        80.000000
max       313.000000
Name: LotFrontage, dtype: float64
data['GarageYrBlt'].describe()
count    1460.000000
mean     1978.589041
std        23.997022
min      1900.000000
25%      1962.000000
50%      1980.000000
75%      2001.000000
max      2010.000000
Name: GarageYrBlt, dtype: float64
data['MasVnrArea'].describe()
count    1460.000000
mean      103.117123
std       180.731373
min         0.000000
25%         0.000000
50%         0.000000
75%       164.250000
max      1600.000000
Name: MasVnrArea, dtype: float64
data['Electrical'].describe()
count      1459
unique        5
top       SBrkr
freq       1334
Name: Electrical, dtype: object
# Check the no. of rows retained
len(data.index)
len(data.index)/1460
1.0
Some EDA on the cleaned data
All numeric (float and int) variables in the dataset
data_numeric = data.select_dtypes(include=['float64', 'int64'])
data_numeric.head()
Id	MSSubClass	LotFrontage	LotArea	OverallQual	OverallCond	YearBuilt	YearRemodAdd	MasVnrArea	BsmtFinSF1	BsmtFinSF2	BsmtUnfSF	TotalBsmtSF	1stFlrSF	2ndFlrSF	LowQualFinSF	GrLivArea	BsmtFullBath	BsmtHalfBath	FullBath	HalfBath	BedroomAbvGr	KitchenAbvGr	TotRmsAbvGrd	Fireplaces	GarageYrBlt	GarageCars	GarageArea	WoodDeckSF	OpenPorchSF	EnclosedPorch	3SsnPorch	ScreenPorch	PoolArea	MiscVal	MoSold	YrSold	SalePrice
0	1	60	65.0	8450	7	5	2003	2003	196.0	706	0	150	856	856	854	0	1710	1	0	2	1	3	1	8	0	2003.0	2	548	0	61	0	0	0	0	0	2	2008	208500
1	2	20	80.0	9600	6	8	1976	1976	0.0	978	0	284	1262	1262	0	0	1262	0	1	2	0	3	1	6	1	1976.0	2	460	298	0	0	0	0	0	0	5	2007	181500
2	3	60	68.0	11250	7	5	2001	2002	162.0	486	0	434	920	920	866	0	1786	1	0	2	1	3	1	6	1	2001.0	2	608	0	42	0	0	0	0	0	9	2008	223500
3	4	70	60.0	9550	7	5	1915	1970	0.0	216	0	540	756	961	756	0	1717	1	0	1	0	3	1	7	1	1998.0	3	642	0	35	272	0	0	0	0	2	2006	140000
4	5	60	84.0	14260	8	5	2000	2000	350.0	655	0	490	1145	1145	1053	0	2198	1	0	2	1	4	1	9	1	2000.0	3	836	192	84	0	0	0	0	0	12	2008	250000
# Dropping ID Column
data_numeric = data_numeric.drop(['Id'], axis=1)
data_numeric.head()
MSSubClass	LotFrontage	LotArea	OverallQual	OverallCond	YearBuilt	YearRemodAdd	MasVnrArea	BsmtFinSF1	BsmtFinSF2	BsmtUnfSF	TotalBsmtSF	1stFlrSF	2ndFlrSF	LowQualFinSF	GrLivArea	BsmtFullBath	BsmtHalfBath	FullBath	HalfBath	BedroomAbvGr	KitchenAbvGr	TotRmsAbvGrd	Fireplaces	GarageYrBlt	GarageCars	GarageArea	WoodDeckSF	OpenPorchSF	EnclosedPorch	3SsnPorch	ScreenPorch	PoolArea	MiscVal	MoSold	YrSold	SalePrice
0	60	65.0	8450	7	5	2003	2003	196.0	706	0	150	856	856	854	0	1710	1	0	2	1	3	1	8	0	2003.0	2	548	0	61	0	0	0	0	0	2	2008	208500
1	20	80.0	9600	6	8	1976	1976	0.0	978	0	284	1262	1262	0	0	1262	0	1	2	0	3	1	6	1	1976.0	2	460	298	0	0	0	0	0	0	5	2007	181500
2	60	68.0	11250	7	5	2001	2002	162.0	486	0	434	920	920	866	0	1786	1	0	2	1	3	1	6	1	2001.0	2	608	0	42	0	0	0	0	0	9	2008	223500
3	70	60.0	9550	7	5	1915	1970	0.0	216	0	540	756	961	756	0	1717	1	0	1	0	3	1	7	1	1998.0	3	642	0	35	272	0	0	0	0	2	2006	140000
4	60	84.0	14260	8	5	2000	2000	350.0	655	0	490	1145	1145	1053	0	2198	1	0	2	1	4	1	9	1	2000.0	3	836	192	84	0	0	0	0	0	12	2008	250000
Target variable 'sale Price' vs a few select columns
# plot 'Sale Price' with respect to 'Neighborhood'
​
plt.figure(figsize=(20, 8))
sns.barplot(x="Neighborhood", y="SalePrice", data= data)
plt.title("Sales Price with respect to Neighbourhood")
plt.xticks(rotation=90)
(array([ 0,  1,  2,  3,  4,  5,  6,  7,  8,  9, 10, 11, 12, 13, 14, 15, 16,
        17, 18, 19, 20, 21, 22, 23, 24]),
 <a list of 25 Text xticklabel objects>)

Properties in some of the Neighborhoods are high priced.
# plot 'overall condition' with respect to 'Saleprice'
​
plt.figure(figsize=(20, 8))
sns.barplot(x="OverallCond", y="SalePrice", data= data)
plt.title("Sales Price with respect to Overall Condition")
plt.xticks(rotation=90)
(array([0, 1, 2, 3, 4, 5, 6, 7, 8]), <a list of 9 Text xticklabel objects>)

# plot 'overall quality' with respect to 'Saleprice'
​
plt.figure(figsize=(20, 8))
sns.barplot(x="OverallQual", y="SalePrice", data= data)
plt.title("Sales Price with respect to Overall Quality")
plt.xticks(rotation=90)
(array([0, 1, 2, 3, 4, 5, 6, 7, 8, 9]), <a list of 10 Text xticklabel objects>)

Increase in the overall quality has a direct positive effect on the sale price
sns.distplot(data['SalePrice'])
<matplotlib.axes._subplots.AxesSubplot at 0x1b94171e7b8>

data_raw = data.copy
Since the Saleprice figures are skewed towards left, we will apply the log transformation to obtain a centralized data
#Log Transformation
data['SalePrice']=np.log1p(data['SalePrice'])
sns.distplot(data['SalePrice'])
<matplotlib.axes._subplots.AxesSubplot at 0x1b9413cbe10>

# correlation matrix
cor = data_numeric.corr()
cor
MSSubClass	LotFrontage	LotArea	OverallQual	OverallCond	YearBuilt	YearRemodAdd	MasVnrArea	BsmtFinSF1	BsmtFinSF2	BsmtUnfSF	TotalBsmtSF	1stFlrSF	2ndFlrSF	LowQualFinSF	GrLivArea	BsmtFullBath	BsmtHalfBath	FullBath	HalfBath	BedroomAbvGr	KitchenAbvGr	TotRmsAbvGrd	Fireplaces	GarageYrBlt	GarageCars	GarageArea	WoodDeckSF	OpenPorchSF	EnclosedPorch	3SsnPorch	ScreenPorch	PoolArea	MiscVal	MoSold	YrSold	SalePrice
MSSubClass	1.000000	-0.370367	-0.139781	0.032628	-0.059316	0.027850	0.040581	0.023573	-0.069836	-0.065649	-0.140759	-0.238518	-0.251758	0.307886	0.046474	0.074853	0.003491	-0.002333	0.131608	0.177354	-0.023438	0.281721	0.040380	-0.045569	0.081396	-0.040110	-0.098672	-0.012579	-0.006100	-0.012037	-0.043825	-0.026030	0.008283	-0.007683	-0.013585	-0.021407	-0.084284
LotFrontage	-0.370367	1.000000	0.335957	0.239546	-0.043595	0.120999	0.084550	0.195830	0.232576	0.052237	0.119174	0.381038	0.434109	0.075686	0.031873	0.385190	0.107226	0.006620	0.186561	0.054190	0.245232	-0.005627	0.332619	0.249295	0.062380	0.281393	0.339085	0.088736	0.141734	0.008057	0.064654	0.041063	0.174567	0.005332	0.007370	0.004756	0.349876
LotArea	-0.139781	0.335957	1.000000	0.105806	-0.005636	0.014228	0.013788	0.103321	0.214103	0.111170	-0.002618	0.260833	0.299475	0.050986	0.004779	0.263116	0.158155	0.048046	0.126031	0.014259	0.119690	-0.017784	0.190015	0.271364	-0.025865	0.154871	0.180403	0.171698	0.084774	-0.018340	0.020423	0.043160	0.077672	0.038068	0.001205	-0.014261	0.263843
OverallQual	0.032628	0.239546	0.105806	1.000000	-0.091932	0.572323	0.550684	0.407252	0.239666	-0.059119	0.308159	0.537808	0.476224	0.295493	-0.030429	0.593007	0.111098	-0.040150	0.550600	0.273458	0.101676	-0.183882	0.427452	0.396765	0.514231	0.600671	0.562022	0.238923	0.308819	-0.113937	0.030371	0.064886	0.065166	-0.031406	0.070815	-0.027347	0.790982
OverallCond	-0.059316	-0.043595	-0.005636	-0.091932	1.000000	-0.375983	0.073741	-0.125694	-0.046231	0.040229	-0.136841	-0.171098	-0.144203	0.028942	0.025494	-0.079686	-0.054942	0.117821	-0.194149	-0.060769	0.012980	-0.087001	-0.057583	-0.023820	-0.306276	-0.185758	-0.151521	-0.003334	-0.032589	0.070356	0.025504	0.054811	-0.001985	0.068777	-0.003511	0.043950	-0.077856
YearBuilt	0.027850	0.120999	0.014228	0.572323	-0.375983	1.000000	0.592855	0.311600	0.249503	-0.049107	0.149040	0.391452	0.281986	0.010308	-0.183784	0.199010	0.187599	-0.038162	0.468271	0.242656	-0.070651	-0.174800	0.095589	0.147716	0.777182	0.537850	0.478954	0.224880	0.188686	-0.387268	0.031355	-0.050364	0.004950	-0.034383	0.012398	-0.013618	0.522897
YearRemodAdd	0.040581	0.084550	0.013788	0.550684	0.073741	0.592855	1.000000	0.176529	0.128451	-0.067759	0.181133	0.291066	0.240379	0.140024	-0.062419	0.287389	0.119470	-0.012337	0.439046	0.183331	-0.040581	-0.149598	0.191740	0.112581	0.616444	0.420622	0.371600	0.205726	0.226298	-0.193919	0.045286	-0.038740	0.005829	-0.010286	0.021490	0.035743	0.507101
MasVnrArea	0.023573	0.195830	0.103321	0.407252	-0.125694	0.311600	0.176529	1.000000	0.261256	-0.071330	0.113862	0.360067	0.339850	0.173800	-0.068628	0.388052	0.083010	0.027403	0.272999	0.199108	0.102775	-0.038450	0.279568	0.247015	0.244444	0.361945	0.370884	0.159991	0.122528	-0.109907	0.019144	0.062248	0.011928	-0.029512	-0.006723	-0.008317	0.472614
BsmtFinSF1	-0.069836	0.232576	0.214103	0.239666	-0.046231	0.249503	0.128451	0.261256	1.000000	-0.050117	-0.495251	0.522396	0.445863	-0.137079	-0.064503	0.208171	0.649212	0.067418	0.058543	0.004262	-0.107355	-0.081007	0.044316	0.260011	0.148782	0.224054	0.296970	0.204306	0.111761	-0.102303	0.026451	0.062021	0.140491	0.003571	-0.015727	0.014359	0.386420
BsmtFinSF2	-0.065649	0.052237	0.111170	-0.059119	0.040229	-0.049107	-0.067759	-0.071330	-0.050117	1.000000	-0.209294	0.104810	0.097117	-0.099260	0.014807	-0.009640	0.158678	0.070948	-0.076444	-0.032148	-0.015728	-0.040751	-0.035227	0.046921	-0.087684	-0.038264	-0.018227	0.067898	0.003093	0.036543	-0.029993	0.088871	0.041709	0.004940	-0.015211	0.031706	-0.011378
BsmtUnfSF	-0.140759	0.119174	-0.002618	0.308159	-0.136841	0.149040	0.181133	0.113862	-0.495251	-0.209294	1.000000	0.415360	0.317987	0.004469	0.028167	0.240257	-0.422900	-0.095804	0.288886	-0.041118	0.166643	0.030086	0.250647	0.051575	0.185610	0.214175	0.183303	-0.005316	0.129005	-0.002538	0.020764	-0.012579	-0.035092	-0.023837	0.034888	-0.041258	0.214479
TotalBsmtSF	-0.238518	0.381038	0.260833	0.537808	-0.171098	0.391452	0.291066	0.360067	0.522396	0.104810	0.415360	1.000000	0.819530	-0.174512	-0.033245	0.454868	0.307351	-0.000315	0.323722	-0.048804	0.050450	-0.068901	0.285573	0.339519	0.309386	0.434585	0.486665	0.232019	0.247264	-0.095478	0.037384	0.084489	0.126053	-0.018479	0.013196	-0.014969	0.613581
1stFlrSF	-0.251758	0.434109	0.299475	0.476224	-0.144203	0.281986	0.240379	0.339850	0.445863	0.097117	0.317987	0.819530	1.000000	-0.202646	-0.014241	0.566024	0.244671	0.001956	0.380637	-0.119916	0.127401	0.068101	0.409516	0.410531	0.224897	0.439317	0.489782	0.235459	0.211671	-0.065292	0.056104	0.088758	0.131525	-0.021096	0.031372	-0.013604	0.605852
2ndFlrSF	0.307886	0.075686	0.050986	0.295493	0.028942	0.010308	0.140024	0.173800	-0.137079	-0.099260	0.004469	-0.174512	-0.202646	1.000000	0.063353	0.687501	-0.169494	-0.023855	0.421378	0.609707	0.502901	0.059306	0.616423	0.194561	0.068441	0.183926	0.138347	0.092165	0.208026	0.061989	-0.024358	0.040606	0.081487	0.016197	0.035164	-0.028700	0.319334
LowQualFinSF	0.046474	0.031873	0.004779	-0.030429	0.025494	-0.183784	-0.062419	-0.068628	-0.064503	0.014807	0.028167	-0.033245	-0.014241	0.063353	1.000000	0.134683	-0.047143	-0.005842	-0.000710	-0.027080	0.105607	0.007522	0.131185	-0.021272	-0.027095	-0.094480	-0.067601	-0.025444	0.018251	0.061081	-0.004296	0.026799	0.062157	-0.003793	-0.022174	-0.028921	-0.025606
GrLivArea	0.074853	0.385190	0.263116	0.593007	-0.079686	0.199010	0.287389	0.388052	0.208171	-0.009640	0.240257	0.454868	0.566024	0.687501	0.134683	1.000000	0.034836	-0.018918	0.630012	0.415772	0.521270	0.100063	0.825489	0.461679	0.219801	0.467247	0.468997	0.247433	0.330224	0.009113	0.020643	0.101510	0.170205	-0.002416	0.050240	-0.036526	0.708624
BsmtFullBath	0.003491	0.107226	0.158155	0.111098	-0.054942	0.187599	0.119470	0.083010	0.649212	0.158678	-0.422900	0.307351	0.244671	-0.169494	-0.047143	0.034836	1.000000	-0.147871	-0.064512	-0.030905	-0.150673	-0.041503	-0.053275	0.137928	0.119287	0.131881	0.179189	0.175315	0.067341	-0.049911	-0.000106	0.023148	0.067616	-0.023047	-0.025361	0.067049	0.227122
BsmtHalfBath	-0.002333	0.006620	0.048046	-0.040150	0.117821	-0.038162	-0.012337	0.027403	0.067418	0.070948	-0.095804	-0.000315	0.001956	-0.023855	-0.005842	-0.018918	-0.147871	1.000000	-0.054536	-0.012340	0.046519	-0.037944	-0.023836	0.028976	-0.075424	-0.020891	-0.024536	0.040161	-0.025324	-0.008555	0.035114	0.032121	0.020025	-0.007367	0.032873	-0.046524	-0.016844
FullBath	0.131608	0.186561	0.126031	0.550600	-0.194149	0.468271	0.439046	0.272999	0.058543	-0.076444	0.288886	0.323722	0.380637	0.421378	-0.000710	0.630012	-0.064512	-0.054536	1.000000	0.136381	0.363252	0.133115	0.554784	0.243671	0.466809	0.469672	0.405656	0.187703	0.259977	-0.115093	0.035353	-0.008106	0.049604	-0.014290	0.055872	-0.019669	0.560664
HalfBath	0.177354	0.054190	0.014259	0.273458	-0.060769	0.242656	0.183331	0.199108	0.004262	-0.032148	-0.041118	-0.048804	-0.119916	0.609707	-0.027080	0.415772	-0.030905	-0.012340	0.136381	1.000000	0.226651	-0.068263	0.343415	0.203649	0.189513	0.219178	0.163549	0.108080	0.199740	-0.095317	-0.004972	0.072426	0.022381	0.001290	-0.009050	-0.010269	0.284108
BedroomAbvGr	-0.023438	0.245232	0.119690	0.101676	0.012980	-0.070651	-0.040581	0.102775	-0.107355	-0.015728	0.166643	0.050450	0.127401	0.502901	0.105607	0.521270	-0.150673	0.046519	0.363252	0.226651	1.000000	0.198597	0.676620	0.107570	-0.060155	0.086106	0.065253	0.046854	0.093810	0.041570	-0.024478	0.044300	0.070703	0.007767	0.046544	-0.036014	0.168213
KitchenAbvGr	0.281721	-0.005627	-0.017784	-0.183882	-0.087001	-0.174800	-0.149598	-0.038450	-0.081007	-0.040751	0.030086	-0.068901	0.068101	0.059306	0.007522	0.100063	-0.041503	-0.037944	0.133115	-0.068263	0.198597	1.000000	0.256045	-0.123936	-0.105394	-0.050634	-0.064433	-0.090130	-0.070091	0.037312	-0.024600	-0.051613	-0.014525	0.062341	0.026589	0.031687	-0.135907
TotRmsAbvGrd	0.040380	0.332619	0.190015	0.427452	-0.057583	0.095589	0.191740	0.279568	0.044316	-0.035227	0.250647	0.285573	0.409516	0.616423	0.131185	0.825489	-0.053275	-0.023836	0.554784	0.343415	0.676620	0.256045	1.000000	0.326114	0.139519	0.362289	0.337822	0.165984	0.234192	0.004151	-0.006683	0.059383	0.083757	0.024763	0.036907	-0.034516	0.533723
Fireplaces	-0.045569	0.249295	0.271364	0.396765	-0.023820	0.147716	0.112581	0.247015	0.260011	0.046921	0.051575	0.339519	0.410531	0.194561	-0.021272	0.461679	0.137928	0.028976	0.243671	0.203649	0.107570	-0.123936	0.326114	1.000000	0.042967	0.300789	0.269141	0.200019	0.169405	-0.024822	0.011257	0.184530	0.095074	0.001409	0.046357	-0.024096	0.466929
GarageYrBlt	0.081396	0.062380	-0.025865	0.514231	-0.306276	0.777182	0.616444	0.244444	0.148782	-0.087684	0.185610	0.309386	0.224897	0.068441	-0.027095	0.219801	0.119287	-0.075424	0.466809	0.189513	-0.060155	-0.105394	0.139519	0.042967	1.000000	0.474313	0.468804	0.219093	0.217921	-0.284972	0.023130	-0.076181	-0.014735	-0.031779	0.004903	-0.000829	0.466754
GarageCars	-0.040110	0.281393	0.154871	0.600671	-0.185758	0.537850	0.420622	0.361945	0.224054	-0.038264	0.214175	0.434585	0.439317	0.183926	-0.094480	0.467247	0.131881	-0.020891	0.469672	0.219178	0.086106	-0.050634	0.362289	0.300789	0.474313	1.000000	0.882475	0.226342	0.213569	-0.151434	0.035765	0.050494	0.020934	-0.043080	0.040522	-0.039117	0.640409
GarageArea	-0.098672	0.339085	0.180403	0.562022	-0.151521	0.478954	0.371600	0.370884	0.296970	-0.018227	0.183303	0.486665	0.489782	0.138347	-0.067601	0.468997	0.179189	-0.024536	0.405656	0.163549	0.065253	-0.064433	0.337822	0.269141	0.468804	0.882475	1.000000	0.224666	0.241435	-0.121777	0.035087	0.051412	0.061047	-0.027400	0.027974	-0.027378	0.623431
WoodDeckSF	-0.012579	0.088736	0.171698	0.238923	-0.003334	0.224880	0.205726	0.159991	0.204306	0.067898	-0.005316	0.232019	0.235459	0.092165	-0.025444	0.247433	0.175315	0.040161	0.187703	0.108080	0.046854	-0.090130	0.165984	0.200019	0.219093	0.226342	0.224666	1.000000	0.058661	-0.125989	-0.032771	-0.074181	0.073378	-0.009551	0.021011	0.022270	0.324413
OpenPorchSF	-0.006100	0.141734	0.084774	0.308819	-0.032589	0.188686	0.226298	0.122528	0.111761	0.003093	0.129005	0.247264	0.211671	0.208026	0.018251	0.330224	0.067341	-0.025324	0.259977	0.199740	0.093810	-0.070091	0.234192	0.169405	0.217921	0.213569	0.241435	0.058661	1.000000	-0.093079	-0.005842	0.074304	0.060762	-0.018584	0.071255	-0.057619	0.315856
EnclosedPorch	-0.012037	0.008057	-0.018340	-0.113937	0.070356	-0.387268	-0.193919	-0.109907	-0.102303	0.036543	-0.002538	-0.095478	-0.065292	0.061989	0.061081	0.009113	-0.049911	-0.008555	-0.115093	-0.095317	0.041570	0.037312	0.004151	-0.024822	-0.284972	-0.151434	-0.121777	-0.125989	-0.093079	1.000000	-0.037305	-0.082864	0.054203	0.018361	-0.028887	-0.009916	-0.128578
3SsnPorch	-0.043825	0.064654	0.020423	0.030371	0.025504	0.031355	0.045286	0.019144	0.026451	-0.029993	0.020764	0.037384	0.056104	-0.024358	-0.004296	0.020643	-0.000106	0.035114	0.035353	-0.004972	-0.024478	-0.024600	-0.006683	0.011257	0.023130	0.035765	0.035087	-0.032771	-0.005842	-0.037305	1.000000	-0.031436	-0.007992	0.000354	0.029474	0.018645	0.044584
ScreenPorch	-0.026030	0.041063	0.043160	0.064886	0.054811	-0.050364	-0.038740	0.062248	0.062021	0.088871	-0.012579	0.084489	0.088758	0.040606	0.026799	0.101510	0.023148	0.032121	-0.008106	0.072426	0.044300	-0.051613	0.059383	0.184530	-0.076181	0.050494	0.051412	-0.074181	0.074304	-0.082864	-0.031436	1.000000	0.051307	0.031946	0.023217	0.010694	0.111447
PoolArea	0.008283	0.174567	0.077672	0.065166	-0.001985	0.004950	0.005829	0.011928	0.140491	0.041709	-0.035092	0.126053	0.131525	0.081487	0.062157	0.170205	0.067616	0.020025	0.049604	0.022381	0.070703	-0.014525	0.083757	0.095074	-0.014735	0.020934	0.061047	0.073378	0.060762	0.054203	-0.007992	0.051307	1.000000	0.029669	-0.033737	-0.059689	0.092404
MiscVal	-0.007683	0.005332	0.038068	-0.031406	0.068777	-0.034383	-0.010286	-0.029512	0.003571	0.004940	-0.023837	-0.018479	-0.021096	0.016197	-0.003793	-0.002416	-0.023047	-0.007367	-0.014290	0.001290	0.007767	0.062341	0.024763	0.001409	-0.031779	-0.043080	-0.027400	-0.009551	-0.018584	0.018361	0.000354	0.031946	0.029669	1.000000	-0.006495	0.004906	-0.021190
MoSold	-0.013585	0.007370	0.001205	0.070815	-0.003511	0.012398	0.021490	-0.006723	-0.015727	-0.015211	0.034888	0.013196	0.031372	0.035164	-0.022174	0.050240	-0.025361	0.032873	0.055872	-0.009050	0.046544	0.026589	0.036907	0.046357	0.004903	0.040522	0.027974	0.021011	0.071255	-0.028887	0.029474	0.023217	-0.033737	-0.006495	1.000000	-0.145721	0.046432
YrSold	-0.021407	0.004756	-0.014261	-0.027347	0.043950	-0.013618	0.035743	-0.008317	0.014359	0.031706	-0.041258	-0.014969	-0.013604	-0.028700	-0.028921	-0.036526	0.067049	-0.046524	-0.019669	-0.010269	-0.036014	0.031687	-0.034516	-0.024096	-0.000829	-0.039117	-0.027378	0.022270	-0.057619	-0.009916	0.018645	0.010694	-0.059689	0.004906	-0.145721	1.000000	-0.028923
SalePrice	-0.084284	0.349876	0.263843	0.790982	-0.077856	0.522897	0.507101	0.472614	0.386420	-0.011378	0.214479	0.613581	0.605852	0.319334	-0.025606	0.708624	0.227122	-0.016844	0.560664	0.284108	0.168213	-0.135907	0.533723	0.466929	0.466754	0.640409	0.623431	0.324413	0.315856	-0.128578	0.044584	0.111447	0.092404	-0.021190	0.046432	-0.028923	1.000000
# plotting correlations on a heatmap
​
# figure size
plt.figure(figsize=(30,20))
​
# heatmap
sns.heatmap(cor, cmap="YlGnBu", annot=True)
plt.show()

We can see that some of the variables are correlated
Before dropping these columns, we will first check their predictive power
# Checking the same with a pairplot 
sns.set()
cols = ['SalePrice', 'GrLivArea', 'GarageCars', 'BsmtUnfSF', 'BsmtFinSF1', 'GarageArea', 'TotalBsmtSF', 'YearBuilt', 'TotRmsAbvGrd', 'GarageYrBlt']
sns.pairplot(data[cols], size = 2.5)
plt.show()

Drop columns that are correlated and not contributing to 'SalePrice'
data = data.drop(['GarageCars'], axis = 1)
data = data.drop(['BsmtUnfSF'], axis = 1)
data = data.drop(['TotRmsAbvGrd'], axis = 1)
data = data.drop(['GarageYrBlt'], axis = 1)    
​
data.head()
Id	MSSubClass	MSZoning	LotFrontage	LotArea	Street	Alley	LotShape	LandContour	Utilities	LotConfig	LandSlope	Neighborhood	Condition1	Condition2	BldgType	HouseStyle	OverallQual	OverallCond	YearBuilt	YearRemodAdd	RoofStyle	RoofMatl	Exterior1st	Exterior2nd	MasVnrType	MasVnrArea	ExterQual	ExterCond	Foundation	BsmtQual	BsmtCond	BsmtExposure	BsmtFinType1	BsmtFinSF1	BsmtFinType2	BsmtFinSF2	TotalBsmtSF	Heating	HeatingQC	CentralAir	Electrical	1stFlrSF	2ndFlrSF	LowQualFinSF	GrLivArea	BsmtFullBath	BsmtHalfBath	FullBath	HalfBath	BedroomAbvGr	KitchenAbvGr	KitchenQual	Functional	Fireplaces	FireplaceQu	GarageType	GarageFinish	GarageArea	GarageQual	GarageCond	PavedDrive	WoodDeckSF	OpenPorchSF	EnclosedPorch	3SsnPorch	ScreenPorch	PoolArea	PoolQC	Fence	MiscFeature	MiscVal	MoSold	YrSold	SaleType	SaleCondition	SalePrice
0	1	60	RL	65.0	8450	Pave	none	Reg	Lvl	AllPub	Inside	Gtl	CollgCr	Norm	Norm	1Fam	2Story	7	5	2003	2003	Gable	CompShg	VinylSd	VinylSd	BrkFace	196.0	Gd	TA	PConc	Gd	TA	No	GLQ	706	Unf	0	856	GasA	Ex	Y	SBrkr	856	854	0	1710	1	0	2	1	3	1	Gd	Typ	0	none	Attchd	RFn	548	TA	TA	Y	0	61	0	0	0	0	none	none	none	0	2	2008	WD	Normal	12.247699
1	2	20	RL	80.0	9600	Pave	none	Reg	Lvl	AllPub	FR2	Gtl	Veenker	Feedr	Norm	1Fam	1Story	6	8	1976	1976	Gable	CompShg	MetalSd	MetalSd	None	0.0	TA	TA	CBlock	Gd	TA	Gd	ALQ	978	Unf	0	1262	GasA	Ex	Y	SBrkr	1262	0	0	1262	0	1	2	0	3	1	TA	Typ	1	TA	Attchd	RFn	460	TA	TA	Y	298	0	0	0	0	0	none	none	none	0	5	2007	WD	Normal	12.109016
2	3	60	RL	68.0	11250	Pave	none	IR1	Lvl	AllPub	Inside	Gtl	CollgCr	Norm	Norm	1Fam	2Story	7	5	2001	2002	Gable	CompShg	VinylSd	VinylSd	BrkFace	162.0	Gd	TA	PConc	Gd	TA	Mn	GLQ	486	Unf	0	920	GasA	Ex	Y	SBrkr	920	866	0	1786	1	0	2	1	3	1	Gd	Typ	1	TA	Attchd	RFn	608	TA	TA	Y	0	42	0	0	0	0	none	none	none	0	9	2008	WD	Normal	12.317171
3	4	70	RL	60.0	9550	Pave	none	IR1	Lvl	AllPub	Corner	Gtl	Crawfor	Norm	Norm	1Fam	2Story	7	5	1915	1970	Gable	CompShg	Wd Sdng	Wd Shng	None	0.0	TA	TA	BrkTil	TA	Gd	No	ALQ	216	Unf	0	756	GasA	Gd	Y	SBrkr	961	756	0	1717	1	0	1	0	3	1	Gd	Typ	1	Gd	Detchd	Unf	642	TA	TA	Y	0	35	272	0	0	0	none	none	none	0	2	2006	WD	Abnorml	11.849405
4	5	60	RL	84.0	14260	Pave	none	IR1	Lvl	AllPub	FR2	Gtl	NoRidge	Norm	Norm	1Fam	2Story	8	5	2000	2000	Gable	CompShg	VinylSd	VinylSd	BrkFace	350.0	Gd	TA	PConc	Gd	TA	Av	GLQ	655	Unf	0	1145	GasA	Ex	Y	SBrkr	1145	1053	0	2198	1	0	2	1	4	1	Gd	Typ	1	TA	Attchd	RFn	836	TA	TA	Y	192	84	0	0	0	0	none	none	none	0	12	2008	WD	Normal	12.429220
#Numeric columns
data.select_dtypes(exclude=['object'])
Id	MSSubClass	LotFrontage	LotArea	OverallQual	OverallCond	YearBuilt	YearRemodAdd	MasVnrArea	BsmtFinSF1	BsmtFinSF2	TotalBsmtSF	1stFlrSF	2ndFlrSF	LowQualFinSF	GrLivArea	BsmtFullBath	BsmtHalfBath	FullBath	HalfBath	BedroomAbvGr	KitchenAbvGr	Fireplaces	GarageArea	WoodDeckSF	OpenPorchSF	EnclosedPorch	3SsnPorch	ScreenPorch	PoolArea	MiscVal	MoSold	YrSold	SalePrice
0	1	60	65.0	8450	7	5	2003	2003	196.0	706	0	856	856	854	0	1710	1	0	2	1	3	1	0	548	0	61	0	0	0	0	0	2	2008	12.247699
1	2	20	80.0	9600	6	8	1976	1976	0.0	978	0	1262	1262	0	0	1262	0	1	2	0	3	1	1	460	298	0	0	0	0	0	0	5	2007	12.109016
2	3	60	68.0	11250	7	5	2001	2002	162.0	486	0	920	920	866	0	1786	1	0	2	1	3	1	1	608	0	42	0	0	0	0	0	9	2008	12.317171
3	4	70	60.0	9550	7	5	1915	1970	0.0	216	0	756	961	756	0	1717	1	0	1	0	3	1	1	642	0	35	272	0	0	0	0	2	2006	11.849405
4	5	60	84.0	14260	8	5	2000	2000	350.0	655	0	1145	1145	1053	0	2198	1	0	2	1	4	1	1	836	192	84	0	0	0	0	0	12	2008	12.429220
5	6	50	85.0	14115	5	5	1993	1995	0.0	732	0	796	796	566	0	1362	1	0	1	1	1	1	0	480	40	30	0	320	0	0	700	10	2009	11.870607
6	7	20	75.0	10084	8	5	2004	2005	186.0	1369	0	1686	1694	0	0	1694	1	0	2	0	3	1	1	636	255	57	0	0	0	0	0	8	2007	12.634606
7	8	60	80.0	10382	7	6	1973	1973	240.0	859	32	1107	1107	983	0	2090	1	0	2	1	3	1	2	484	235	204	228	0	0	0	350	11	2009	12.206078
8	9	50	51.0	6120	7	5	1931	1950	0.0	0	0	952	1022	752	0	1774	0	0	2	0	2	2	2	468	90	0	205	0	0	0	0	4	2008	11.774528
9	10	190	50.0	7420	5	6	1939	1950	0.0	851	0	991	1077	0	0	1077	1	0	1	0	2	2	2	205	0	4	0	0	0	0	0	1	2008	11.678448
10	11	20	70.0	11200	5	5	1965	1965	0.0	906	0	1040	1040	0	0	1040	1	0	1	0	3	1	0	384	0	0	0	0	0	0	0	2	2008	11.771444
11	12	60	85.0	11924	9	5	2005	2006	286.0	998	0	1175	1182	1142	0	2324	1	0	3	0	4	1	2	736	147	21	0	0	0	0	0	7	2006	12.751303
12	13	20	71.0	12968	5	6	1962	1962	0.0	737	0	912	912	0	0	912	1	0	1	0	2	1	0	352	140	0	0	0	176	0	0	9	2008	11.877576
13	14	20	91.0	10652	7	5	2006	2007	306.0	0	0	1494	1494	0	0	1494	0	0	2	0	3	1	1	840	160	33	0	0	0	0	0	8	2007	12.540761
14	15	20	73.0	10920	6	5	1960	1960	212.0	733	0	1253	1253	0	0	1253	1	0	1	1	2	1	1	352	0	213	176	0	0	0	0	5	2008	11.964007
15	16	45	51.0	6120	7	8	1929	2001	0.0	0	0	832	854	0	0	854	0	0	1	0	2	1	0	576	48	112	0	0	0	0	0	7	2007	11.790565
16	17	20	73.0	11241	6	7	1970	1970	180.0	578	0	1004	1004	0	0	1004	1	0	1	0	2	1	1	480	0	0	0	0	0	0	700	3	2010	11.911708
17	18	90	72.0	10791	4	5	1967	1967	0.0	0	0	0	1296	0	0	1296	0	0	2	0	2	2	0	516	0	0	0	0	0	0	500	10	2006	11.407576
18	19	20	66.0	13695	5	5	2004	2004	0.0	646	0	1114	1114	0	0	1114	1	0	1	1	3	1	0	576	0	102	0	0	0	0	0	6	2008	11.976666
19	20	20	70.0	7560	5	6	1958	1965	0.0	504	0	1029	1339	0	0	1339	0	0	1	0	3	1	0	294	0	0	0	0	0	0	0	5	2009	11.842236
20	21	60	101.0	14215	8	5	2005	2006	380.0	0	0	1158	1158	1218	0	2376	0	0	3	1	4	1	1	853	240	154	0	0	0	0	0	11	2006	12.692506
21	22	45	57.0	7449	7	7	1930	1950	0.0	0	0	637	1108	0	0	1108	0	0	1	0	3	1	1	280	0	0	205	0	0	0	0	6	2007	11.845110
22	23	20	75.0	9742	8	5	2002	2002	281.0	0	0	1777	1795	0	0	1795	0	0	2	0	3	1	1	534	171	159	0	0	0	0	0	9	2008	12.345839
23	24	120	44.0	4224	5	7	1976	1976	0.0	840	0	1040	1060	0	0	1060	1	0	1	0	3	1	1	572	100	110	0	0	0	0	0	6	2007	11.774528
24	25	20	71.0	8246	5	8	1968	2001	0.0	188	668	1060	1060	0	0	1060	1	0	1	0	3	1	1	270	406	90	0	0	0	0	0	5	2010	11.944714
25	26	20	110.0	14230	8	5	2007	2007	640.0	0	0	1566	1600	0	0	1600	0	0	2	0	3	1	1	890	0	56	0	0	0	0	0	7	2009	12.454108
26	27	20	60.0	7200	5	7	1951	2000	0.0	234	486	900	900	0	0	900	0	1	1	0	3	1	0	576	222	32	0	0	0	0	0	5	2010	11.811555
27	28	20	98.0	11478	8	5	2007	2008	200.0	1218	0	1704	1704	0	0	1704	1	0	2	0	3	1	1	772	0	50	0	0	0	0	0	5	2010	12.631344
28	29	20	47.0	16321	5	6	1957	1997	0.0	1277	0	1484	1600	0	0	1600	1	0	1	0	2	1	2	319	288	258	0	0	0	0	0	12	2006	12.242891
29	30	30	60.0	6324	4	6	1927	1950	0.0	0	0	520	520	0	0	520	0	0	1	0	1	1	0	240	49	0	87	0	0	0	0	5	2008	11.134604
30	31	70	50.0	8500	4	4	1920	1950	0.0	0	0	649	649	668	0	1317	0	0	1	0	3	1	0	250	0	54	172	0	0	0	0	7	2008	10.596660
31	32	20	71.0	8544	5	6	1966	2006	0.0	0	0	1228	1228	0	0	1228	0	0	1	1	3	1	0	271	0	65	0	0	0	0	0	6	2008	11.914055
32	33	20	85.0	11049	8	5	2007	2007	0.0	0	0	1234	1234	0	0	1234	0	0	2	0	3	1	0	484	0	30	0	0	0	0	0	1	2008	12.100162
33	34	20	70.0	10552	5	5	1959	1959	0.0	1018	0	1398	1700	0	0	1700	0	1	1	1	4	1	1	447	0	38	0	0	0	0	0	4	2010	12.016733
34	35	120	60.0	7313	9	5	2005	2005	246.0	1153	0	1561	1561	0	0	1561	1	0	2	0	2	1	1	556	203	47	0	0	0	0	0	8	2007	12.533580
35	36	60	108.0	13418	8	5	2004	2005	132.0	0	0	1117	1132	1320	0	2452	0	0	3	1	4	1	1	691	113	32	0	0	0	0	0	9	2006	12.641100
36	37	20	112.0	10859	5	5	1994	1995	0.0	0	0	1097	1097	0	0	1097	0	0	1	1	3	1	0	672	392	64	0	0	0	0	0	6	2009	11.884496
37	38	20	74.0	8532	5	6	1954	1990	650.0	1213	0	1297	1297	0	0	1297	0	1	1	0	3	1	1	498	0	0	0	0	0	0	0	10	2009	11.938200
38	39	20	68.0	7922	5	7	1953	2007	0.0	731	0	1057	1057	0	0	1057	1	0	1	0	3	1	0	246	0	52	0	0	0	0	0	1	2010	11.599112
39	40	90	65.0	6040	4	5	1955	1955	0.0	0	0	0	1152	0	0	1152	0	0	2	0	2	2	0	0	0	0	0	0	0	0	0	6	2008	11.314487
40	41	20	84.0	8658	6	5	1965	1965	101.0	643	0	1088	1324	0	0	1324	0	0	2	0	3	1	1	440	0	138	0	0	0	0	0	12	2006	11.982935
41	42	20	115.0	16905	5	6	1959	1959	0.0	967	0	1350	1328	0	0	1328	0	1	1	1	2	1	2	308	0	104	0	0	0	0	0	7	2007	12.043560
42	43	85	66.5	9180	5	7	1983	1983	0.0	747	93	840	884	0	0	884	1	0	1	0	2	1	0	504	240	0	0	0	0	0	0	12	2007	11.877576
43	44	20	70.0	9200	5	6	1975	1980	0.0	280	491	938	938	0	0	938	1	0	1	0	3	1	0	308	145	0	0	0	0	0	0	7	2008	11.777219
44	45	20	70.0	7945	5	6	1959	1959	0.0	179	506	1150	1150	0	0	1150	1	0	1	0	3	1	0	300	0	0	0	0	0	0	0	5	2006	11.856522
45	46	120	61.0	7658	9	5	2005	2005	412.0	456	0	1752	1752	0	0	1752	1	0	2	0	2	1	1	576	196	82	0	0	0	0	0	2	2010	12.675767
46	47	50	48.0	12822	7	5	2003	2003	0.0	1351	0	1434	1518	631	0	2149	1	0	1	1	1	1	1	670	168	43	0	0	198	0	0	8	2009	12.387089
47	48	20	84.0	11096	8	5	2006	2006	0.0	24	0	1656	1656	0	0	1656	0	0	2	0	3	1	0	826	0	146	0	0	0	0	0	7	2007	12.428019
48	49	190	33.0	4456	4	5	1920	2008	0.0	0	0	736	736	716	0	1452	0	0	2	0	2	3	0	0	0	0	102	0	0	0	0	6	2009	11.635152
49	50	20	66.0	7742	5	7	1966	1966	0.0	763	0	955	955	0	0	955	1	0	1	0	3	1	0	386	0	0	0	0	0	0	0	1	2007	11.751950
...	...	...	...	...	...	...	...	...	...	...	...	...	...	...	...	...	...	...	...	...	...	...	...	...	...	...	...	...	...	...	...	...	...	...
1410	1411	60	79.0	12420	7	5	2001	2001	0.0	666	0	944	944	896	0	1840	1	0	2	1	3	1	0	622	0	45	0	0	0	0	0	6	2009	12.345839
1411	1412	50	80.0	9600	6	8	1950	2005	0.0	120	0	856	1112	556	0	1668	0	0	1	1	3	1	0	271	0	0	0	0	0	0	0	9	2009	11.849405
1412	1413	90	60.0	7200	4	5	1949	1950	0.0	0	0	0	1040	0	0	1040	0	0	2	0	2	2	0	420	0	0	0	0	0	0	0	6	2009	11.407576
1413	1414	20	88.0	10994	8	5	2005	2006	366.0	976	0	1844	1844	0	0	1844	1	0	2	0	2	1	1	620	165	44	0	0	0	0	0	9	2009	12.456835
1414	1415	50	64.0	13053	6	7	1923	2000	0.0	0	0	833	1053	795	0	1848	0	0	1	1	4	1	1	370	0	0	0	0	220	0	0	6	2008	12.240479
1415	1416	120	51.0	3635	7	5	2007	2007	130.0	988	0	1386	1569	0	0	1569	0	1	2	0	1	1	1	660	143	20	0	0	0	0	0	5	2009	12.077677
1416	1417	190	60.0	11340	4	6	1885	1950	0.0	0	0	777	1246	1044	0	2290	0	0	2	0	4	2	0	560	0	0	114	0	0	0	0	4	2010	11.715874
1417	1418	60	91.0	16545	8	5	1998	1998	731.0	781	0	1284	1310	1140	0	2450	1	0	2	1	3	1	1	1069	0	126	0	0	0	0	0	5	2009	12.736704
1418	1419	20	71.0	9204	5	5	1963	1963	0.0	25	872	1144	1144	0	0	1144	1	0	1	1	3	1	0	336	0	88	0	0	0	0	0	8	2008	11.728045
1419	1420	20	74.0	16381	6	5	1969	1969	312.0	1110	0	1844	1844	0	0	1844	1	0	2	0	3	1	1	540	0	73	216	0	0	0	0	12	2006	12.314932
1420	1421	60	90.0	11700	6	6	1968	1968	420.0	404	0	708	708	708	0	1416	0	0	2	1	3	1	1	776	0	169	0	0	119	0	0	5	2006	12.100162
1421	1422	120	53.0	4043	6	5	1977	1977	0.0	360	0	1069	1069	0	0	1069	0	0	2	0	2	1	1	440	0	55	0	0	165	0	0	7	2010	11.755879
1422	1423	120	37.0	4435	6	5	2003	2003	170.0	686	0	848	848	0	0	848	1	0	1	0	1	1	0	420	140	0	0	0	0	0	0	3	2008	11.824087
1423	1424	80	65.5	19690	6	7	1966	1966	0.0	0	0	697	1575	626	0	2201	0	0	2	0	4	1	1	432	586	236	0	0	0	738	0	8	2006	12.524421
1424	1425	20	73.0	9503	5	5	1958	1983	0.0	457	374	1024	1344	0	0	1344	1	0	1	0	2	1	1	484	316	28	0	0	0	0	0	6	2007	11.877576
1425	1426	20	80.0	10721	6	6	1959	1959	243.0	0	0	1252	1252	0	0	1252	0	0	1	0	3	1	0	528	0	39	0	0	0	0	0	10	2008	11.863589
1426	1427	60	81.0	10944	7	5	1994	1994	448.0	1000	0	1223	1223	904	0	2127	1	0	2	1	3	1	2	525	171	132	0	0	0	0	0	8	2008	12.509878
1427	1428	50	60.0	10930	5	6	1945	1950	0.0	580	0	913	1048	510	0	1558	1	0	1	1	3	1	1	288	0	0	0	0	0	0	0	4	2008	11.849405
1428	1429	30	60.0	7200	5	7	1940	1992	294.0	510	0	788	804	0	0	804	1	0	1	0	2	1	2	240	0	0	154	0	0	0	0	2	2010	11.686887
1429	1430	20	80.0	12546	6	7	1981	1981	310.0	678	0	1440	1440	0	0	1440	0	0	2	0	3	1	1	467	0	0	99	0	0	0	0	4	2007	12.116700
1430	1431	60	60.0	21930	5	5	2005	2005	0.0	0	0	732	734	1104	0	1838	0	0	2	1	4	1	1	372	100	40	0	0	0	0	0	7	2006	12.165985
1431	1432	120	24.0	4928	6	6	1976	1976	0.0	958	0	958	958	0	0	958	0	0	2	0	2	1	0	440	0	60	0	0	0	0	0	10	2009	11.875838
1432	1433	30	60.0	10800	4	6	1927	2007	0.0	0	0	656	968	0	0	968	0	0	2	0	4	1	0	216	0	0	0	0	0	0	0	8	2007	11.074436
1433	1434	60	93.0	10261	6	5	2000	2000	318.0	0	0	936	962	830	0	1792	1	0	2	1	3	1	1	451	0	0	0	0	0	0	0	5	2008	12.136192
1434	1435	20	80.0	17400	5	5	1977	1977	0.0	936	0	1126	1126	0	0	1126	1	0	2	0	3	1	1	484	295	41	0	0	0	0	0	5	2006	11.982935
1435	1436	20	80.0	8400	6	9	1962	2005	237.0	0	0	1319	1537	0	0	1537	1	0	1	1	3	1	1	462	0	36	0	0	0	0	0	7	2008	12.066816
1436	1437	20	60.0	9000	4	6	1971	1971	0.0	616	0	864	864	0	0	864	0	0	1	0	3	1	0	528	0	0	0	0	0	0	0	5	2007	11.699413
1437	1438	20	96.0	12444	8	5	2008	2008	426.0	1336	0	1932	1932	0	0	1932	1	0	2	0	2	1	1	774	0	66	0	304	0	0	0	11	2008	12.885673
1438	1439	20	90.0	7407	6	7	1957	1996	0.0	600	0	912	1236	0	0	1236	1	0	1	0	2	1	0	923	0	158	158	0	0	0	0	4	2010	11.916395
1439	1440	60	80.0	11584	7	6	1979	1979	96.0	315	110	539	1040	685	0	1725	0	0	2	1	3	1	1	550	0	88	216	0	0	0	0	11	2007	12.190964
1440	1441	70	79.0	11526	6	7	1922	1994	0.0	0	0	588	1423	748	384	2555	0	0	2	0	3	1	1	672	431	0	0	0	0	0	0	9	2008	12.160034
1441	1442	120	70.0	4426	6	5	2004	2004	147.0	697	0	848	848	0	0	848	1	0	1	0	1	1	1	420	149	0	0	0	0	0	0	5	2008	11.913720
1442	1443	60	85.0	11003	10	5	2008	2008	160.0	765	0	1017	1026	981	0	2007	1	0	2	1	3	1	1	812	168	52	0	0	0	0	0	4	2009	12.644331
1443	1444	30	52.0	8854	6	6	1916	1950	0.0	0	0	952	952	0	0	952	0	0	1	0	2	1	1	192	0	98	0	0	40	0	0	5	2009	11.703554
1444	1445	20	63.0	8500	7	5	2004	2004	106.0	0	0	1422	1422	0	0	1422	0	0	2	0	3	1	0	626	192	60	0	0	0	0	0	11	2007	12.098493
1445	1446	85	70.0	8400	6	5	1966	1966	0.0	187	627	814	913	0	0	913	1	0	1	0	3	1	0	240	0	0	252	0	0	0	0	5	2007	11.767575
1446	1447	20	73.0	26142	5	7	1962	1962	189.0	593	0	1188	1188	0	0	1188	0	0	1	0	3	1	0	312	261	39	0	0	0	0	0	4	2010	11.969724
1447	1448	60	80.0	10000	8	5	1995	1996	438.0	1079	0	1220	1220	870	0	2090	1	0	2	1	3	1	1	556	0	65	0	0	0	0	0	12	2007	12.388398
1448	1449	50	70.0	11767	4	7	1910	2000	0.0	0	0	560	796	550	0	1346	0	0	1	1	2	1	0	384	168	24	0	0	0	0	0	5	2007	11.626263
1449	1450	180	21.0	1533	5	7	1970	1970	0.0	553	0	630	630	0	0	630	1	0	1	0	1	1	0	0	0	0	0	0	0	0	0	8	2006	11.429555
1450	1451	90	60.0	9000	5	5	1974	1974	0.0	0	0	896	896	896	0	1792	0	0	2	2	4	2	0	0	32	45	0	0	0	0	0	9	2009	11.820418
1451	1452	20	78.0	9262	8	5	2008	2009	194.0	0	0	1573	1578	0	0	1578	0	0	2	0	3	1	1	840	0	36	0	0	0	0	0	5	2009	12.567555
1452	1453	180	35.0	3675	5	5	2005	2005	80.0	547	0	547	1072	0	0	1072	1	0	1	0	2	1	0	525	0	28	0	0	0	0	0	5	2006	11.884496
1453	1454	20	90.0	17217	5	5	2006	2006	0.0	0	0	1140	1140	0	0	1140	0	0	1	0	3	1	0	0	36	56	0	0	0	0	0	7	2006	11.344519
1454	1455	20	62.0	7500	7	5	2004	2005	0.0	410	0	1221	1221	0	0	1221	1	0	2	0	2	1	0	400	0	113	0	0	0	0	0	10	2009	12.128117
1455	1456	60	62.0	7917	6	5	1999	2000	0.0	0	0	953	953	694	0	1647	0	0	2	1	3	1	1	460	0	40	0	0	0	0	0	8	2007	12.072547
1456	1457	20	85.0	13175	6	6	1978	1988	119.0	790	163	1542	2073	0	0	2073	1	0	2	0	3	1	2	500	349	0	0	0	0	0	0	2	2010	12.254868
1457	1458	70	66.0	9042	7	9	1941	2006	0.0	275	0	1152	1188	1152	0	2340	0	0	2	0	4	1	2	252	0	60	0	0	0	0	2500	5	2010	12.493133
1458	1459	20	68.0	9717	5	6	1950	1996	0.0	49	1029	1078	1078	0	0	1078	1	0	1	0	2	1	0	240	366	0	112	0	0	0	0	4	2010	11.864469
1459	1460	20	75.0	9937	5	6	1965	1965	0.0	830	290	1256	1256	0	0	1256	1	0	1	1	3	1	0	276	736	68	0	0	0	0	0	6	2008	11.901590
1460 rows × 34 columns

# Analyse some important numeric columns
sns.jointplot(x='GrLivArea', y='SalePrice', data=data)
plt.show()

# Removing some outliers on lower right side of 'GrLivArea'
data = remove_outliers(data,'GrLivArea')
Since the dataset is small it isn't advisable to do remove outliers.
data.shape
(1429, 77)
# Again plotting GeLivArea vs SalePrice
sns.jointplot(x = data['GrLivArea'], y = data['SalePrice'])
plt.show()

# Lot frontage vs SalePrice 
sns.jointplot(x = data['LotFrontage'], y = data['SalePrice'])
plt.show()

# LotArea vs SalePrice
sns.jointplot(x = data['LotArea'], y = data['SalePrice'])
plt.show()

# 1stFlrSF vs SalePrice
sns.jointplot(x = data['1stFlrSF'], y = data['SalePrice'])
plt.show()

# 2ndFlrSF vs SalePrice
sns.jointplot(x = data['2ndFlrSF'], y = data['SalePrice'])
plt.show()

# OverallQual vs SalePrice
sns.jointplot(x = data['OverallQual'], y = data['SalePrice'])
plt.show()

# OverallCond vs SalePrice
sns.jointplot(x=data['OverallCond'], y = data['SalePrice'])
plt.show()

Ground or First level houses i.e. '0' second floor Sq.Ft has also a steady increase
We can derive a column for 'Age of the property' when it was sold: Name it as 'PropAge'
# PropAge -  Property Age from yearsold - yearbuilt
data['PropAge'] = (data['YrSold'] - data['YearBuilt'])
data.head()
Id	MSSubClass	MSZoning	LotFrontage	LotArea	Street	Alley	LotShape	LandContour	Utilities	LotConfig	LandSlope	Neighborhood	Condition1	Condition2	BldgType	HouseStyle	OverallQual	OverallCond	YearBuilt	YearRemodAdd	RoofStyle	RoofMatl	Exterior1st	Exterior2nd	MasVnrType	MasVnrArea	ExterQual	ExterCond	Foundation	BsmtQual	BsmtCond	BsmtExposure	BsmtFinType1	BsmtFinSF1	BsmtFinType2	BsmtFinSF2	TotalBsmtSF	Heating	HeatingQC	CentralAir	Electrical	1stFlrSF	2ndFlrSF	LowQualFinSF	GrLivArea	BsmtFullBath	BsmtHalfBath	FullBath	HalfBath	BedroomAbvGr	KitchenAbvGr	KitchenQual	Functional	Fireplaces	FireplaceQu	GarageType	GarageFinish	GarageArea	GarageQual	GarageCond	PavedDrive	WoodDeckSF	OpenPorchSF	EnclosedPorch	3SsnPorch	ScreenPorch	PoolArea	PoolQC	Fence	MiscFeature	MiscVal	MoSold	YrSold	SaleType	SaleCondition	SalePrice	PropAge
0	1	60	RL	65.0	8450	Pave	none	Reg	Lvl	AllPub	Inside	Gtl	CollgCr	Norm	Norm	1Fam	2Story	7	5	2003	2003	Gable	CompShg	VinylSd	VinylSd	BrkFace	196.0	Gd	TA	PConc	Gd	TA	No	GLQ	706	Unf	0	856	GasA	Ex	Y	SBrkr	856	854	0	1710	1	0	2	1	3	1	Gd	Typ	0	none	Attchd	RFn	548	TA	TA	Y	0	61	0	0	0	0	none	none	none	0	2	2008	WD	Normal	12.247699	5
1	2	20	RL	80.0	9600	Pave	none	Reg	Lvl	AllPub	FR2	Gtl	Veenker	Feedr	Norm	1Fam	1Story	6	8	1976	1976	Gable	CompShg	MetalSd	MetalSd	None	0.0	TA	TA	CBlock	Gd	TA	Gd	ALQ	978	Unf	0	1262	GasA	Ex	Y	SBrkr	1262	0	0	1262	0	1	2	0	3	1	TA	Typ	1	TA	Attchd	RFn	460	TA	TA	Y	298	0	0	0	0	0	none	none	none	0	5	2007	WD	Normal	12.109016	31
2	3	60	RL	68.0	11250	Pave	none	IR1	Lvl	AllPub	Inside	Gtl	CollgCr	Norm	Norm	1Fam	2Story	7	5	2001	2002	Gable	CompShg	VinylSd	VinylSd	BrkFace	162.0	Gd	TA	PConc	Gd	TA	Mn	GLQ	486	Unf	0	920	GasA	Ex	Y	SBrkr	920	866	0	1786	1	0	2	1	3	1	Gd	Typ	1	TA	Attchd	RFn	608	TA	TA	Y	0	42	0	0	0	0	none	none	none	0	9	2008	WD	Normal	12.317171	7
3	4	70	RL	60.0	9550	Pave	none	IR1	Lvl	AllPub	Corner	Gtl	Crawfor	Norm	Norm	1Fam	2Story	7	5	1915	1970	Gable	CompShg	Wd Sdng	Wd Shng	None	0.0	TA	TA	BrkTil	TA	Gd	No	ALQ	216	Unf	0	756	GasA	Gd	Y	SBrkr	961	756	0	1717	1	0	1	0	3	1	Gd	Typ	1	Gd	Detchd	Unf	642	TA	TA	Y	0	35	272	0	0	0	none	none	none	0	2	2006	WD	Abnorml	11.849405	91
4	5	60	RL	84.0	14260	Pave	none	IR1	Lvl	AllPub	FR2	Gtl	NoRidge	Norm	Norm	1Fam	2Story	8	5	2000	2000	Gable	CompShg	VinylSd	VinylSd	BrkFace	350.0	Gd	TA	PConc	Gd	TA	Av	GLQ	655	Unf	0	1145	GasA	Ex	Y	SBrkr	1145	1053	0	2198	1	0	2	1	4	1	Gd	Typ	1	TA	Attchd	RFn	836	TA	TA	Y	192	84	0	0	0	0	none	none	none	0	12	2008	WD	Normal	12.429220	8
# PropAge vs SalePrice
sns.jointplot(x = data['PropAge'], y = data['SalePrice'])
plt.show()

Increase in Property Age shows a decreasing saleprice trend i.e newer the property, high is the value
Now we can drop the column Month sold and Year Sold, Year built and Year remodelled since it will not be required further
data = data.drop(['MoSold'], axis = 1)
data = data.drop(['YrSold'], axis = 1)
data = data.drop(['YearBuilt'], axis = 1)
data = data.drop(['YearRemodAdd'], axis = 1)
data.head()
Id	MSSubClass	MSZoning	LotFrontage	LotArea	Street	Alley	LotShape	LandContour	Utilities	LotConfig	LandSlope	Neighborhood	Condition1	Condition2	BldgType	HouseStyle	OverallQual	OverallCond	RoofStyle	RoofMatl	Exterior1st	Exterior2nd	MasVnrType	MasVnrArea	ExterQual	ExterCond	Foundation	BsmtQual	BsmtCond	BsmtExposure	BsmtFinType1	BsmtFinSF1	BsmtFinType2	BsmtFinSF2	TotalBsmtSF	Heating	HeatingQC	CentralAir	Electrical	1stFlrSF	2ndFlrSF	LowQualFinSF	GrLivArea	BsmtFullBath	BsmtHalfBath	FullBath	HalfBath	BedroomAbvGr	KitchenAbvGr	KitchenQual	Functional	Fireplaces	FireplaceQu	GarageType	GarageFinish	GarageArea	GarageQual	GarageCond	PavedDrive	WoodDeckSF	OpenPorchSF	EnclosedPorch	3SsnPorch	ScreenPorch	PoolArea	PoolQC	Fence	MiscFeature	MiscVal	SaleType	SaleCondition	SalePrice	PropAge
0	1	60	RL	65.0	8450	Pave	none	Reg	Lvl	AllPub	Inside	Gtl	CollgCr	Norm	Norm	1Fam	2Story	7	5	Gable	CompShg	VinylSd	VinylSd	BrkFace	196.0	Gd	TA	PConc	Gd	TA	No	GLQ	706	Unf	0	856	GasA	Ex	Y	SBrkr	856	854	0	1710	1	0	2	1	3	1	Gd	Typ	0	none	Attchd	RFn	548	TA	TA	Y	0	61	0	0	0	0	none	none	none	0	WD	Normal	12.247699	5
1	2	20	RL	80.0	9600	Pave	none	Reg	Lvl	AllPub	FR2	Gtl	Veenker	Feedr	Norm	1Fam	1Story	6	8	Gable	CompShg	MetalSd	MetalSd	None	0.0	TA	TA	CBlock	Gd	TA	Gd	ALQ	978	Unf	0	1262	GasA	Ex	Y	SBrkr	1262	0	0	1262	0	1	2	0	3	1	TA	Typ	1	TA	Attchd	RFn	460	TA	TA	Y	298	0	0	0	0	0	none	none	none	0	WD	Normal	12.109016	31
2	3	60	RL	68.0	11250	Pave	none	IR1	Lvl	AllPub	Inside	Gtl	CollgCr	Norm	Norm	1Fam	2Story	7	5	Gable	CompShg	VinylSd	VinylSd	BrkFace	162.0	Gd	TA	PConc	Gd	TA	Mn	GLQ	486	Unf	0	920	GasA	Ex	Y	SBrkr	920	866	0	1786	1	0	2	1	3	1	Gd	Typ	1	TA	Attchd	RFn	608	TA	TA	Y	0	42	0	0	0	0	none	none	none	0	WD	Normal	12.317171	7
3	4	70	RL	60.0	9550	Pave	none	IR1	Lvl	AllPub	Corner	Gtl	Crawfor	Norm	Norm	1Fam	2Story	7	5	Gable	CompShg	Wd Sdng	Wd Shng	None	0.0	TA	TA	BrkTil	TA	Gd	No	ALQ	216	Unf	0	756	GasA	Gd	Y	SBrkr	961	756	0	1717	1	0	1	0	3	1	Gd	Typ	1	Gd	Detchd	Unf	642	TA	TA	Y	0	35	272	0	0	0	none	none	none	0	WD	Abnorml	11.849405	91
4	5	60	RL	84.0	14260	Pave	none	IR1	Lvl	AllPub	FR2	Gtl	NoRidge	Norm	Norm	1Fam	2Story	8	5	Gable	CompShg	VinylSd	VinylSd	BrkFace	350.0	Gd	TA	PConc	Gd	TA	Av	GLQ	655	Unf	0	1145	GasA	Ex	Y	SBrkr	1145	1053	0	2198	1	0	2	1	4	1	Gd	Typ	1	TA	Attchd	RFn	836	TA	TA	Y	192	84	0	0	0	0	none	none	none	0	WD	Normal	12.429220	8
data.Street.value_counts()
Pave    1423
Grvl       6
Name: Street, dtype: int64
data.Utilities.value_counts()
AllPub    1428
NoSeWa       1
Name: Utilities, dtype: int64
# We can also drop columns that show very low variance and thus not required for predictions
data = data.drop(['Street'], axis = 1)
data = data.drop(['Utilities'], axis = 1)
Just to check the variance of these columns
​
# l1 = ['Condition2', 'Heating', 'PoolQC', 'RoofMatl', 'BsmtCond', 'GarageQual', 'GarageCond', 'MiscVal', '3SsnPorch', 'FireplaceQu', 'BsmtHalfBath', 'BsmtFinSF2', 'Alley', 'MiscFeature', 'Fence', 'Functional']
l2= data.select_dtypes(include=['float64', 'int64'])
l2
​
​
Id	MSSubClass	LotFrontage	LotArea	OverallQual	OverallCond	MasVnrArea	BsmtFinSF1	BsmtFinSF2	TotalBsmtSF	1stFlrSF	2ndFlrSF	LowQualFinSF	GrLivArea	BsmtFullBath	BsmtHalfBath	FullBath	HalfBath	BedroomAbvGr	KitchenAbvGr	Fireplaces	GarageArea	WoodDeckSF	OpenPorchSF	EnclosedPorch	3SsnPorch	ScreenPorch	PoolArea	MiscVal	SalePrice	PropAge
0	1	60	65.0	8450	7	5	196.0	706	0	856	856	854	0	1710	1	0	2	1	3	1	0	548	0	61	0	0	0	0	0	12.247699	5
1	2	20	80.0	9600	6	8	0.0	978	0	1262	1262	0	0	1262	0	1	2	0	3	1	1	460	298	0	0	0	0	0	0	12.109016	31
2	3	60	68.0	11250	7	5	162.0	486	0	920	920	866	0	1786	1	0	2	1	3	1	1	608	0	42	0	0	0	0	0	12.317171	7
3	4	70	60.0	9550	7	5	0.0	216	0	756	961	756	0	1717	1	0	1	0	3	1	1	642	0	35	272	0	0	0	0	11.849405	91
4	5	60	84.0	14260	8	5	350.0	655	0	1145	1145	1053	0	2198	1	0	2	1	4	1	1	836	192	84	0	0	0	0	0	12.429220	8
5	6	50	85.0	14115	5	5	0.0	732	0	796	796	566	0	1362	1	0	1	1	1	1	0	480	40	30	0	320	0	0	700	11.870607	16
6	7	20	75.0	10084	8	5	186.0	1369	0	1686	1694	0	0	1694	1	0	2	0	3	1	1	636	255	57	0	0	0	0	0	12.634606	3
7	8	60	80.0	10382	7	6	240.0	859	32	1107	1107	983	0	2090	1	0	2	1	3	1	2	484	235	204	228	0	0	0	350	12.206078	36
8	9	50	51.0	6120	7	5	0.0	0	0	952	1022	752	0	1774	0	0	2	0	2	2	2	468	90	0	205	0	0	0	0	11.774528	77
9	10	190	50.0	7420	5	6	0.0	851	0	991	1077	0	0	1077	1	0	1	0	2	2	2	205	0	4	0	0	0	0	0	11.678448	69
10	11	20	70.0	11200	5	5	0.0	906	0	1040	1040	0	0	1040	1	0	1	0	3	1	0	384	0	0	0	0	0	0	0	11.771444	43
11	12	60	85.0	11924	9	5	286.0	998	0	1175	1182	1142	0	2324	1	0	3	0	4	1	2	736	147	21	0	0	0	0	0	12.751303	1
12	13	20	71.0	12968	5	6	0.0	737	0	912	912	0	0	912	1	0	1	0	2	1	0	352	140	0	0	0	176	0	0	11.877576	46
13	14	20	91.0	10652	7	5	306.0	0	0	1494	1494	0	0	1494	0	0	2	0	3	1	1	840	160	33	0	0	0	0	0	12.540761	1
14	15	20	73.0	10920	6	5	212.0	733	0	1253	1253	0	0	1253	1	0	1	1	2	1	1	352	0	213	176	0	0	0	0	11.964007	48
15	16	45	51.0	6120	7	8	0.0	0	0	832	854	0	0	854	0	0	1	0	2	1	0	576	48	112	0	0	0	0	0	11.790565	78
16	17	20	73.0	11241	6	7	180.0	578	0	1004	1004	0	0	1004	1	0	1	0	2	1	1	480	0	0	0	0	0	0	700	11.911708	40
17	18	90	72.0	10791	4	5	0.0	0	0	0	1296	0	0	1296	0	0	2	0	2	2	0	516	0	0	0	0	0	0	500	11.407576	39
18	19	20	66.0	13695	5	5	0.0	646	0	1114	1114	0	0	1114	1	0	1	1	3	1	0	576	0	102	0	0	0	0	0	11.976666	4
19	20	20	70.0	7560	5	6	0.0	504	0	1029	1339	0	0	1339	0	0	1	0	3	1	0	294	0	0	0	0	0	0	0	11.842236	51
20	21	60	101.0	14215	8	5	380.0	0	0	1158	1158	1218	0	2376	0	0	3	1	4	1	1	853	240	154	0	0	0	0	0	12.692506	1
21	22	45	57.0	7449	7	7	0.0	0	0	637	1108	0	0	1108	0	0	1	0	3	1	1	280	0	0	205	0	0	0	0	11.845110	77
22	23	20	75.0	9742	8	5	281.0	0	0	1777	1795	0	0	1795	0	0	2	0	3	1	1	534	171	159	0	0	0	0	0	12.345839	6
23	24	120	44.0	4224	5	7	0.0	840	0	1040	1060	0	0	1060	1	0	1	0	3	1	1	572	100	110	0	0	0	0	0	11.774528	31
24	25	20	71.0	8246	5	8	0.0	188	668	1060	1060	0	0	1060	1	0	1	0	3	1	1	270	406	90	0	0	0	0	0	11.944714	42
25	26	20	110.0	14230	8	5	640.0	0	0	1566	1600	0	0	1600	0	0	2	0	3	1	1	890	0	56	0	0	0	0	0	12.454108	2
26	27	20	60.0	7200	5	7	0.0	234	486	900	900	0	0	900	0	1	1	0	3	1	0	576	222	32	0	0	0	0	0	11.811555	59
27	28	20	98.0	11478	8	5	200.0	1218	0	1704	1704	0	0	1704	1	0	2	0	3	1	1	772	0	50	0	0	0	0	0	12.631344	3
28	29	20	47.0	16321	5	6	0.0	1277	0	1484	1600	0	0	1600	1	0	1	0	2	1	2	319	288	258	0	0	0	0	0	12.242891	49
29	30	30	60.0	6324	4	6	0.0	0	0	520	520	0	0	520	0	0	1	0	1	1	0	240	49	0	87	0	0	0	0	11.134604	81
30	31	70	50.0	8500	4	4	0.0	0	0	649	649	668	0	1317	0	0	1	0	3	1	0	250	0	54	172	0	0	0	0	10.596660	88
31	32	20	71.0	8544	5	6	0.0	0	0	1228	1228	0	0	1228	0	0	1	1	3	1	0	271	0	65	0	0	0	0	0	11.914055	42
32	33	20	85.0	11049	8	5	0.0	0	0	1234	1234	0	0	1234	0	0	2	0	3	1	0	484	0	30	0	0	0	0	0	12.100162	1
33	34	20	70.0	10552	5	5	0.0	1018	0	1398	1700	0	0	1700	0	1	1	1	4	1	1	447	0	38	0	0	0	0	0	12.016733	51
34	35	120	60.0	7313	9	5	246.0	1153	0	1561	1561	0	0	1561	1	0	2	0	2	1	1	556	203	47	0	0	0	0	0	12.533580	2
35	36	60	108.0	13418	8	5	132.0	0	0	1117	1132	1320	0	2452	0	0	3	1	4	1	1	691	113	32	0	0	0	0	0	12.641100	2
36	37	20	112.0	10859	5	5	0.0	0	0	1097	1097	0	0	1097	0	0	1	1	3	1	0	672	392	64	0	0	0	0	0	11.884496	15
37	38	20	74.0	8532	5	6	650.0	1213	0	1297	1297	0	0	1297	0	1	1	0	3	1	1	498	0	0	0	0	0	0	0	11.938200	55
38	39	20	68.0	7922	5	7	0.0	731	0	1057	1057	0	0	1057	1	0	1	0	3	1	0	246	0	52	0	0	0	0	0	11.599112	57
39	40	90	65.0	6040	4	5	0.0	0	0	0	1152	0	0	1152	0	0	2	0	2	2	0	0	0	0	0	0	0	0	0	11.314487	53
40	41	20	84.0	8658	6	5	101.0	643	0	1088	1324	0	0	1324	0	0	2	0	3	1	1	440	0	138	0	0	0	0	0	11.982935	41
41	42	20	115.0	16905	5	6	0.0	967	0	1350	1328	0	0	1328	0	1	1	1	2	1	2	308	0	104	0	0	0	0	0	12.043560	48
42	43	85	66.5	9180	5	7	0.0	747	93	840	884	0	0	884	1	0	1	0	2	1	0	504	240	0	0	0	0	0	0	11.877576	24
43	44	20	70.0	9200	5	6	0.0	280	491	938	938	0	0	938	1	0	1	0	3	1	0	308	145	0	0	0	0	0	0	11.777219	33
44	45	20	70.0	7945	5	6	0.0	179	506	1150	1150	0	0	1150	1	0	1	0	3	1	0	300	0	0	0	0	0	0	0	11.856522	47
45	46	120	61.0	7658	9	5	412.0	456	0	1752	1752	0	0	1752	1	0	2	0	2	1	1	576	196	82	0	0	0	0	0	12.675767	5
46	47	50	48.0	12822	7	5	0.0	1351	0	1434	1518	631	0	2149	1	0	1	1	1	1	1	670	168	43	0	0	198	0	0	12.387089	6
47	48	20	84.0	11096	8	5	0.0	24	0	1656	1656	0	0	1656	0	0	2	0	3	1	0	826	0	146	0	0	0	0	0	12.428019	1
48	49	190	33.0	4456	4	5	0.0	0	0	736	736	716	0	1452	0	0	2	0	2	3	0	0	0	0	102	0	0	0	0	11.635152	89
49	50	20	66.0	7742	5	7	0.0	763	0	955	955	0	0	955	1	0	1	0	3	1	0	386	0	0	0	0	0	0	0	11.751950	41
...	...	...	...	...	...	...	...	...	...	...	...	...	...	...	...	...	...	...	...	...	...	...	...	...	...	...	...	...	...	...	...
1410	1411	60	79.0	12420	7	5	0.0	666	0	944	944	896	0	1840	1	0	2	1	3	1	0	622	0	45	0	0	0	0	0	12.345839	8
1411	1412	50	80.0	9600	6	8	0.0	120	0	856	1112	556	0	1668	0	0	1	1	3	1	0	271	0	0	0	0	0	0	0	11.849405	59
1412	1413	90	60.0	7200	4	5	0.0	0	0	0	1040	0	0	1040	0	0	2	0	2	2	0	420	0	0	0	0	0	0	0	11.407576	60
1413	1414	20	88.0	10994	8	5	366.0	976	0	1844	1844	0	0	1844	1	0	2	0	2	1	1	620	165	44	0	0	0	0	0	12.456835	4
1414	1415	50	64.0	13053	6	7	0.0	0	0	833	1053	795	0	1848	0	0	1	1	4	1	1	370	0	0	0	0	220	0	0	12.240479	85
1415	1416	120	51.0	3635	7	5	130.0	988	0	1386	1569	0	0	1569	0	1	2	0	1	1	1	660	143	20	0	0	0	0	0	12.077677	2
1416	1417	190	60.0	11340	4	6	0.0	0	0	777	1246	1044	0	2290	0	0	2	0	4	2	0	560	0	0	114	0	0	0	0	11.715874	125
1417	1418	60	91.0	16545	8	5	731.0	781	0	1284	1310	1140	0	2450	1	0	2	1	3	1	1	1069	0	126	0	0	0	0	0	12.736704	11
1418	1419	20	71.0	9204	5	5	0.0	25	872	1144	1144	0	0	1144	1	0	1	1	3	1	0	336	0	88	0	0	0	0	0	11.728045	45
1419	1420	20	74.0	16381	6	5	312.0	1110	0	1844	1844	0	0	1844	1	0	2	0	3	1	1	540	0	73	216	0	0	0	0	12.314932	37
1420	1421	60	90.0	11700	6	6	420.0	404	0	708	708	708	0	1416	0	0	2	1	3	1	1	776	0	169	0	0	119	0	0	12.100162	38
1421	1422	120	53.0	4043	6	5	0.0	360	0	1069	1069	0	0	1069	0	0	2	0	2	1	1	440	0	55	0	0	165	0	0	11.755879	33
1422	1423	120	37.0	4435	6	5	170.0	686	0	848	848	0	0	848	1	0	1	0	1	1	0	420	140	0	0	0	0	0	0	11.824087	5
1423	1424	80	65.5	19690	6	7	0.0	0	0	697	1575	626	0	2201	0	0	2	0	4	1	1	432	586	236	0	0	0	738	0	12.524421	40
1424	1425	20	73.0	9503	5	5	0.0	457	374	1024	1344	0	0	1344	1	0	1	0	2	1	1	484	316	28	0	0	0	0	0	11.877576	49
1425	1426	20	80.0	10721	6	6	243.0	0	0	1252	1252	0	0	1252	0	0	1	0	3	1	0	528	0	39	0	0	0	0	0	11.863589	49
1426	1427	60	81.0	10944	7	5	448.0	1000	0	1223	1223	904	0	2127	1	0	2	1	3	1	2	525	171	132	0	0	0	0	0	12.509878	14
1427	1428	50	60.0	10930	5	6	0.0	580	0	913	1048	510	0	1558	1	0	1	1	3	1	1	288	0	0	0	0	0	0	0	11.849405	63
1428	1429	30	60.0	7200	5	7	294.0	510	0	788	804	0	0	804	1	0	1	0	2	1	2	240	0	0	154	0	0	0	0	11.686887	70
1429	1430	20	80.0	12546	6	7	310.0	678	0	1440	1440	0	0	1440	0	0	2	0	3	1	1	467	0	0	99	0	0	0	0	12.116700	26
1430	1431	60	60.0	21930	5	5	0.0	0	0	732	734	1104	0	1838	0	0	2	1	4	1	1	372	100	40	0	0	0	0	0	12.165985	1
1431	1432	120	24.0	4928	6	6	0.0	958	0	958	958	0	0	958	0	0	2	0	2	1	0	440	0	60	0	0	0	0	0	11.875838	33
1432	1433	30	60.0	10800	4	6	0.0	0	0	656	968	0	0	968	0	0	2	0	4	1	0	216	0	0	0	0	0	0	0	11.074436	80
1433	1434	60	93.0	10261	6	5	318.0	0	0	936	962	830	0	1792	1	0	2	1	3	1	1	451	0	0	0	0	0	0	0	12.136192	8
1434	1435	20	80.0	17400	5	5	0.0	936	0	1126	1126	0	0	1126	1	0	2	0	3	1	1	484	295	41	0	0	0	0	0	11.982935	29
1435	1436	20	80.0	8400	6	9	237.0	0	0	1319	1537	0	0	1537	1	0	1	1	3	1	1	462	0	36	0	0	0	0	0	12.066816	46
1436	1437	20	60.0	9000	4	6	0.0	616	0	864	864	0	0	864	0	0	1	0	3	1	0	528	0	0	0	0	0	0	0	11.699413	36
1437	1438	20	96.0	12444	8	5	426.0	1336	0	1932	1932	0	0	1932	1	0	2	0	2	1	1	774	0	66	0	304	0	0	0	12.885673	0
1438	1439	20	90.0	7407	6	7	0.0	600	0	912	1236	0	0	1236	1	0	1	0	2	1	0	923	0	158	158	0	0	0	0	11.916395	53
1439	1440	60	80.0	11584	7	6	96.0	315	110	539	1040	685	0	1725	0	0	2	1	3	1	1	550	0	88	216	0	0	0	0	12.190964	28
1440	1441	70	79.0	11526	6	7	0.0	0	0	588	1423	748	384	2555	0	0	2	0	3	1	1	672	431	0	0	0	0	0	0	12.160034	86
1441	1442	120	70.0	4426	6	5	147.0	697	0	848	848	0	0	848	1	0	1	0	1	1	1	420	149	0	0	0	0	0	0	11.913720	4
1442	1443	60	85.0	11003	10	5	160.0	765	0	1017	1026	981	0	2007	1	0	2	1	3	1	1	812	168	52	0	0	0	0	0	12.644331	1
1443	1444	30	52.0	8854	6	6	0.0	0	0	952	952	0	0	952	0	0	1	0	2	1	1	192	0	98	0	0	40	0	0	11.703554	93
1444	1445	20	63.0	8500	7	5	106.0	0	0	1422	1422	0	0	1422	0	0	2	0	3	1	0	626	192	60	0	0	0	0	0	12.098493	3
1445	1446	85	70.0	8400	6	5	0.0	187	627	814	913	0	0	913	1	0	1	0	3	1	0	240	0	0	252	0	0	0	0	11.767575	41
1446	1447	20	73.0	26142	5	7	189.0	593	0	1188	1188	0	0	1188	0	0	1	0	3	1	0	312	261	39	0	0	0	0	0	11.969724	48
1447	1448	60	80.0	10000	8	5	438.0	1079	0	1220	1220	870	0	2090	1	0	2	1	3	1	1	556	0	65	0	0	0	0	0	12.388398	12
1448	1449	50	70.0	11767	4	7	0.0	0	0	560	796	550	0	1346	0	0	1	1	2	1	0	384	168	24	0	0	0	0	0	11.626263	97
1449	1450	180	21.0	1533	5	7	0.0	553	0	630	630	0	0	630	1	0	1	0	1	1	0	0	0	0	0	0	0	0	0	11.429555	36
1450	1451	90	60.0	9000	5	5	0.0	0	0	896	896	896	0	1792	0	0	2	2	4	2	0	0	32	45	0	0	0	0	0	11.820418	35
1451	1452	20	78.0	9262	8	5	194.0	0	0	1573	1578	0	0	1578	0	0	2	0	3	1	1	840	0	36	0	0	0	0	0	12.567555	1
1452	1453	180	35.0	3675	5	5	80.0	547	0	547	1072	0	0	1072	1	0	1	0	2	1	0	525	0	28	0	0	0	0	0	11.884496	1
1453	1454	20	90.0	17217	5	5	0.0	0	0	1140	1140	0	0	1140	0	0	1	0	3	1	0	0	36	56	0	0	0	0	0	11.344519	0
1454	1455	20	62.0	7500	7	5	0.0	410	0	1221	1221	0	0	1221	1	0	2	0	2	1	0	400	0	113	0	0	0	0	0	12.128117	5
1455	1456	60	62.0	7917	6	5	0.0	0	0	953	953	694	0	1647	0	0	2	1	3	1	1	460	0	40	0	0	0	0	0	12.072547	8
1456	1457	20	85.0	13175	6	6	119.0	790	163	1542	2073	0	0	2073	1	0	2	0	3	1	2	500	349	0	0	0	0	0	0	12.254868	32
1457	1458	70	66.0	9042	7	9	0.0	275	0	1152	1188	1152	0	2340	0	0	2	0	4	1	2	252	0	60	0	0	0	0	2500	12.493133	69
1458	1459	20	68.0	9717	5	6	0.0	49	1029	1078	1078	0	0	1078	1	0	1	0	2	1	0	240	366	0	112	0	0	0	0	11.864469	60
1459	1460	20	75.0	9937	5	6	0.0	830	290	1256	1256	0	0	1256	1	0	1	1	3	1	0	276	736	68	0	0	0	0	0	11.901590	43
1429 rows × 31 columns

for i in l2:
    print(data[i].value_counts())
1460    1
498     1
477     1
478     1
479     1
480     1
481     1
482     1
483     1
484     1
485     1
486     1
487     1
488     1
489     1
490     1
491     1
492     1
493     1
494     1
495     1
476     1
475     1
474     1
463     1
455     1
456     1
457     1
458     1
459     1
460     1
461     1
462     1
464     1
473     1
465     1
466     1
467     1
468     1
469     1
470     1
471     1
472     1
496     1
499     1
544     1
500     1
523     1
525     1
526     1
       ..
925     1
926     1
927     1
928     1
929     1
953     1
954     1
955     1
988     1
980     1
981     1
982     1
983     1
984     1
985     1
986     1
987     1
989     1
978     1
990     1
991     1
992     1
993     1
994     1
995     1
996     1
997     1
979     1
977     1
956     1
966     1
957     1
958     1
959     1
960     1
961     1
963     1
964     1
965     1
967     1
976     1
968     1
969     1
970     1
971     1
972     1
973     1
974     1
975     1
1       1
Name: Id, Length: 1429, dtype: int64
20     534
60     283
50     139
120     87
30      69
160     63
70      59
80      57
90      52
190     29
85      20
45      12
75      11
180     10
40       4
Name: MSSubClass, dtype: int64
60.0     150
80.0     110
70.0      94
65.0      74
73.0      70
50.0      57
75.0      52
85.0      45
71.0      38
21.0      25
78.0      24
74.0      24
68.0      23
52.0      21
24.0      21
90.0      21
64.0      19
55.0      17
79.0      17
72.0      17
63.0      17
100.0     16
51.0      15
43.0      15
66.0      14
59.0      13
57.0      12
40.0      12
91.0      12
67.0      12
82.0      12
69.0      11
76.0      11
34.0      10
53.0      10
92.0      10
88.0      10
86.0      10
62.0       9
84.0       9
44.0       9
66.5       9
35.0       9
65.5       8
77.0       8
61.0       8
98.0       8
73.5       8
93.0       8
96.0       7
        ... 
105.0      6
107.0      6
32.0       5
61.5       5
37.0       5
83.0       5
47.0       4
56.0       4
49.0       4
87.0       4
42.0       4
108.0      3
103.0      3
102.0      3
45.0       3
99.0       3
101.0      2
115.0      2
121.0      2
134.0      2
97.0       2
124.0      2
114.0      2
109.0      2
122.0      2
130.0      2
129.0      2
116.0      2
150.0      1
111.0      1
141.0      1
182.0      1
149.0      1
140.0      1
313.0      1
112.0      1
153.0      1
137.0      1
118.0      1
33.0       1
46.0       1
152.0      1
168.0      1
104.0      1
128.0      1
144.0      1
39.0       1
106.0      1
38.0       1
88.5       1
Name: LotFrontage, Length: 112, dtype: int64
7200     25
9600     24
6000     17
9000     14
8400     14
10800    14
1680     10
7500      9
6240      8
8125      8
9100      8
6120      8
3182      7
8450      6
7800      6
4500      5
9750      5
10140     5
4435      5
10000     5
5400      5
5000      5
10400     5
8544      4
8500      4
8800      4
9375      4
13125     4
10625     4
7000      4
9900      4
8750      4
8520      4
11250     4
8640      4
11700     4
7018      4
6600      4
4426      3
8012      3
11600     3
2522      3
6762      3
7875      3
3675      3
9200      3
8000      3
12090     3
7750      3
8712      3
         ..
13515     1
4118      1
9416      1
14587     1
11457     1
17600     1
5310      1
21780     1
13501     1
13500     1
5306      1
7350      1
11443     1
11409     1
11435     1
6970      1
9382      1
11428     1
15523     1
11426     1
15578     1
7388      1
7390      1
9439      1
5395      1
9490      1
7438      1
5389      1
5100      1
9480      1
17671     1
11526     1
5381      1
9473      1
13568     1
9464      1
7415      1
3316      1
15602     1
7407      1
7406      1
9453      1
9450      1
15593     1
7399      1
5350      1
9986      1
9452      1
12180     1
7150      1
Name: LotArea, Length: 1047, dtype: int64
5     396
6     371
7     314
8     157
4     116
9      40
3      20
10     10
2       3
1       2
Name: OverallQual, dtype: int64
5    804
6    248
7    201
8     72
4     56
3     24
9     18
2      5
1      1
Name: OverallCond, dtype: int64
0.0       856
180.0       8
108.0       8
72.0        8
120.0       7
16.0        7
80.0        6
106.0       6
200.0       6
84.0        5
170.0       5
320.0       5
360.0       5
132.0       5
340.0       5
168.0       4
220.0       4
270.0       4
178.0       4
268.0       4
183.0       4
246.0       4
100.0       4
216.0       4
160.0       4
252.0       4
210.0       4
288.0       4
196.0       4
456.0       4
40.0        4
76.0        4
186.0       3
110.0       3
44.0        3
166.0       3
104.0       3
82.0        3
85.0        3
42.0        3
130.0       3
256.0       3
226.0       3
99.0        3
312.0       3
420.0       3
176.0       3
300.0       3
272.0       3
240.0       3
         ... 
772.0       1
247.0       1
278.0       1
370.0       1
150.0       1
604.0       1
594.0       1
290.0       1
299.0       1
167.0       1
309.0       1
1129.0      1
651.0       1
415.0       1
293.0       1
259.0       1
562.0       1
365.0       1
297.0       1
479.0       1
435.0       1
894.0       1
564.0       1
788.0       1
348.0       1
254.0       1
137.0       1
127.0       1
142.0       1
138.0       1
258.0       1
664.0       1
436.0       1
359.0       1
510.0       1
600.0       1
468.0       1
381.0       1
262.0       1
412.0       1
481.0       1
380.0       1
286.0       1
573.0       1
1047.0      1
975.0       1
391.0       1
451.0       1
554.0       1
151.0       1
Name: MasVnrArea, Length: 315, dtype: int64
0       460
24       12
16        9
936       5
686       5
662       5
616       5
20        5
655       4
312       4
641       4
553       4
360       4
442       4
1200      4
495       4
300       4
588       4
384       4
504       4
697       4
560       4
400       4
600       4
547       4
648       3
659       3
210       3
378       3
828       3
1201      3
660       3
1218      3
685       3
280       3
595       3
196       3
690       3
450       3
500       3
633       3
375       3
28        3
338       3
340       3
624       3
247       3
625       3
425       3
626       3
       ... 
860       1
862       1
863       1
865       1
867       1
871       1
874       1
883       1
885       1
892       1
894       1
895       1
897       1
899       1
900       1
903       1
905       1
906       1
832       1
827       1
734       1
824       1
737       1
742       1
746       1
748       1
750       1
751       1
756       1
759       1
762       1
769       1
772       1
773       1
774       1
775       1
776       1
778       1
781       1
783       1
787       1
790       1
795       1
803       1
804       1
806       1
808       1
810       1
819       1
630       1
Name: BsmtFinSF1, Length: 622, dtype: int64
0       1266
180        5
374        3
539        2
287        2
468        2
147        2
712        2
117        2
279        2
96         2
93         2
391        2
290        2
294        2
64         2
41         2
182        2
551        2
480        2
228        1
202        1
208        1
193        1
210        1
211        1
215        1
219        1
181        1
1085       1
230        1
232        1
239        1
240        1
1120       1
264        1
273        1
276        1
306        1
311        1
324        1
334        1
258        1
174        1
177        1
123        1
28         1
32         1
35         1
40         1
        ... 
723        1
764        1
768        1
791        1
820        1
823        1
841        1
869        1
872        1
906        1
972        1
1029       1
1031       1
1057       1
1061       1
1063       1
608        1
600        1
352        1
580        1
1080       1
362        1
1127       1
375        1
377        1
380        1
396        1
411        1
420        1
435        1
438        1
441        1
465        1
466        1
472        1
479        1
486        1
491        1
492        1
495        1
499        1
500        1
506        1
531        1
532        1
544        1
546        1
547        1
557        1
1474       1
Name: BsmtFinSF2, Length: 141, dtype: int64
0       37
864     35
672     17
912     15
1040    14
816     13
768     12
780     11
894     11
728     11
848     11
832     10
756      9
630      9
952      9
936      8
1056     8
840      7
720      7
1008     7
483      7
384      7
600      7
796      6
1362     6
876      6
884      6
858      6
1144     5
1728     5
928      5
793      5
686      5
960      5
1092     5
684      5
970      5
1392     5
990      5
992      5
896      5
1494     4
880      4
1440     4
1057     4
1314     4
924      4
1188     4
980      4
1080     4
        ..
1116     1
1567     1
1125     1
1563     1
1561     1
1132     1
1138     1
1560     1
1559     1
1148     1
1149     1
1150     1
1151     1
1554     1
1153     1
1154     1
1157     1
1552     1
1160     1
1161     1
1162     1
1106     1
1105     1
1103     1
1581     1
1042     1
3094     1
1048     1
1595     1
1594     1
1593     1
1058     1
1059     1
1060     1
1062     1
1582     1
1067     1
1100     1
1070     1
1074     1
1075     1
1575     1
1079     1
1574     1
1084     1
1085     1
1571     1
2042     1
1098     1
2046     1
Name: TotalBsmtSF, Length: 704, dtype: int64
864     25
1040    16
912     14
848     12
894     12
672     11
630      9
816      9
936      7
483      7
832      7
960      7
882      6
720      6
1056     6
840      6
1728     6
764      6
728      6
990      6
774      5
988      5
804      5
1120     5
1088     5
798      5
796      5
1422     5
1080     5
520      5
780      5
1144     5
1026     5
858      5
1072     5
768      5
1314     5
948      5
1236     5
958      5
980      5
698      5
1200     5
1494     5
616      5
1048     4
1306     4
1092     4
884      4
847      4
        ..
1007     1
1074     1
1498     1
1058     1
1493     1
1061     1
1063     1
1064     1
1486     1
1068     1
1071     1
1473     1
1075     1
1533     1
1472     1
1470     1
1465     1
1085     1
1462     1
1089     1
1090     1
1091     1
1459     1
1456     1
1501     1
1505     1
1051     1
1507     1
1010     1
1532     1
1013     1
1015     1
1526     1
1021     1
1525     1
1024     1
1523     1
1520     1
1029     1
1034     1
1035     1
1036     1
1038     1
1039     1
1512     1
1042     1
1044     1
1047     1
1509     1
2046     1
Name: 1stFlrSF, Length: 734, dtype: int64
0       827
728      10
504       9
672       8
546       8
600       7
720       7
896       6
780       5
756       5
689       5
840       5
862       5
741       4
878       4
702       4
804       4
551       4
739       4
832       3
684       3
596       3
668       3
677       3
846       3
670       3
793       3
795       3
807       3
866       3
880       3
858       3
704       3
660       3
742       3
888       3
886       3
871       3
915       3
729       3
1032      2
678       2
568       2
567       2
887       2
676       2
550       2
564       2
885       2
560       2
       ... 
767       1
1540      1
768       1
769       1
772       1
776       1
778       1
779       1
784       1
873       1
874       1
875       1
960       1
932       1
933       1
936       1
939       1
940       1
954       1
956       1
966       1
929       1
977       1
979       1
980       1
981       1
984       1
985       1
988       1
930       1
928       1
876       1
903       1
881       1
882       1
883       1
892       1
895       1
898       1
901       1
904       1
925       1
908       1
910       1
913       1
914       1
918       1
920       1
924       1
787       1
Name: 2ndFlrSF, Length: 393, dtype: int64
0      1408
80        3
360       2
481       1
473       1
420       1
390       1
384       1
371       1
514       1
234       1
232       1
205       1
156       1
144       1
120       1
513       1
53        1
528       1
Name: LowQualFinSF, dtype: int64
864     22
1040    14
894     11
1456    10
848     10
1200     9
912      9
1092     8
816      8
987      7
1728     7
1344     7
1484     6
1494     6
630      6
1056     6
1768     6
1224     6
1302     5
988      5
1218     5
990      5
1656     5
960      5
1314     5
1392     5
1144     5
1252     5
1710     5
1250     4
1668     4
1258     4
1479     4
1382     4
1716     4
1208     4
1664     4
1442     4
1680     4
1414     4
1632     4
1646     4
1652     4
1800     4
1416     4
1792     4
1440     4
1734     4
882      4
1694     4
        ..
1265     1
1739     1
1738     1
1271     1
1274     1
1276     1
1277     1
1279     1
1283     1
1284     1
2042     1
1287     1
1288     1
1291     1
1732     1
1726     1
1240     1
1234     1
1166     1
1756     1
1811     1
1173     1
1804     1
1803     1
1180     1
1181     1
1183     1
1184     1
1802     1
1190     1
1797     1
1198     1
1199     1
1203     1
1204     1
1211     1
1787     1
1784     1
1215     1
1775     1
1771     1
1767     1
1223     1
1766     1
1225     1
1226     1
1764     1
1762     1
1761     1
2054     1
Name: GrLivArea, Length: 831, dtype: int64
0    840
1    574
2     14
3      1
Name: BsmtFullBath, dtype: int64
0    1349
1      78
2       2
Name: BsmtHalfBath, dtype: int64
2    754
1    650
3     16
0      9
Name: FullBath, dtype: int64
0    904
1    513
2     12
Name: HalfBath, dtype: int64
3    798
2    357
4    195
1     50
5     16
6      7
0      6
Name: BedroomAbvGr, dtype: int64
1    1362
2      64
3       2
0       1
Name: KitchenAbvGr, dtype: int64
0    689
1    631
2    105
3      4
Name: Fireplaces, dtype: int64
0       79
440     49
576     47
240     38
484     34
528     33
288     27
400     25
264     24
480     24
308     20
420     19
280     16
672     14
336     12
352     12
216     12
504     12
360     11
462     10
300     10
540     10
572     10
384      9
312      9
286      9
564      9
180      9
660      9
539      9
432      8
588      8
550      8
520      7
648      7
624      7
474      7
460      7
506      7
525      6
500      6
478      6
492      6
490      6
390      6
461      6
472      6
396      6
544      5
297      5
        ..
459      1
458      1
804      1
455      1
808      1
816      1
445      1
444      1
820      1
784      1
437      1
435      1
824      1
825      1
830      1
831      1
427      1
426      1
425      1
424      1
423      1
788      1
475      1
740      1
510      1
748      1
749      1
902      1
752      1
526      1
753      1
523      1
518      1
754      1
515      1
756      1
509      1
477      1
757      1
905      1
766      1
501      1
768      1
770      1
494      1
481      1
912      1
479      1
782      1
1390     1
Name: GarageArea, Length: 428, dtype: int64
0      752
192     37
100     36
144     32
120     31
168     28
140     15
224     14
240      9
216      9
208      9
180      8
160      8
156      6
143      6
132      6
96       6
250      6
288      5
196      5
48       5
264      5
210      5
147      4
36       4
158      4
104      4
171      4
105      4
182      4
74       4
64       4
220      4
80       3
150      3
280      3
149      3
188      3
198      3
88       3
270      3
72       3
268      3
108      3
164      3
112      3
113      3
201      3
203      3
239      3
      ... 
379      1
371      1
298      1
294      1
170      1
495      1
218      1
474      1
215      1
736      1
476      1
207      1
202      1
199      1
195      1
190      1
439      1
187      1
183      1
181      1
509      1
179      1
177      1
176      1
175      1
173      1
468      1
227      1
229      1
232      1
278      1
269      1
265      1
441      1
263      1
260      1
257      1
255      1
448      1
248      1
245      1
243      1
242      1
241      1
466      1
236      1
235      1
234      1
233      1
857      1
Name: WoodDeckSF, Length: 266, dtype: int64
0      649
36      28
48      22
20      21
45      19
40      19
24      16
30      16
60      15
39      14
28      14
54      13
44      13
50      12
72      11
32      11
35      11
98      11
42      10
96      10
63      10
120     10
75       9
64       9
66       9
70       8
84       8
68       8
38       8
56       8
25       7
16       7
102      7
130      7
27       7
80       7
114      7
140      6
55       6
144      6
51       6
116      6
22       6
78       6
100      6
33       6
26       6
46       6
59       5
74       5
      ... 
341      1
319      1
304      1
291      1
288      1
285      1
252      1
274      1
267      1
265      1
263      1
262      1
258      1
195      1
191      1
189      1
118      1
131      1
129      1
126      1
125      1
123      1
119      1
418      1
134      1
106      1
103      1
101      1
95       1
94       1
93       1
133      1
135      1
188      1
174      1
187      1
185      1
182      1
180      1
176      1
175      1
170      1
137      1
159      1
156      1
148      1
146      1
142      1
141      1
117      1
Name: OpenPorchSF, Length: 195, dtype: int64
0      1226
112      15
96        6
216       5
144       5
120       5
192       5
156       4
252       4
116       4
228       3
102       3
184       3
176       3
40        3
164       3
126       3
128       3
150       3
34        2
185       2
180       2
168       2
32        2
160       2
158       2
84        2
36        2
100       2
137       2
39        2
115       2
114       2
77        2
80        2
108       2
190       2
154       2
244       2
264       2
240       2
205       2
236       2
234       2
224       2
272       1
68        1
70        1
280       1
275       1
       ... 
318       1
301       1
294       1
286       1
60        1
42        1
44        1
48        1
50        1
52        1
54        1
56        1
259       1
196       1
254       1
248       1
218       1
162       1
214       1
212       1
169       1
170       1
172       1
210       1
177       1
208       1
183       1
202       1
189       1
200       1
198       1
220       1
221       1
330       1
134       1
194       1
242       1
239       1
123       1
129       1
130       1
136       1
148       1
230       1
138       1
140       1
143       1
226       1
145       1
386       1
Name: EnclosedPorch, Length: 116, dtype: int64
0      1405
168       3
216       2
144       2
180       2
245       1
238       1
290       1
196       1
182       1
407       1
304       1
162       1
153       1
320       1
140       1
130       1
96        1
23        1
508       1
Name: 3SsnPorch, dtype: int64
0      1318
192       5
120       5
224       5
189       4
180       4
147       3
168       3
160       3
144       3
126       3
90        3
142       2
170       2
184       2
100       2
198       2
200       2
216       2
176       2
288       2
259       2
225       1
312       1
276       1
145       1
287       1
143       1
140       1
130       1
128       1
291       1
122       1
119       1
153       1
116       1
322       1
99        1
95        1
374       1
80        1
63        1
60        1
53        1
40        1
152       1
154       1
222       1
182       1
220       1
233       1
204       1
234       1
252       1
197       1
190       1
260       1
185       1
263       1
265       1
155       1
178       1
385       1
175       1
266       1
271       1
165       1
163       1
161       1
273       1
156       1
396       1
Name: ScreenPorch, dtype: int64
0      1426
738       1
648       1
576       1
Name: PoolArea, dtype: int64
0        1379
400        11
500         8
700         5
450         4
600         4
2000        3
1200        2
480         2
800         1
620         1
15500       1
3500        1
2500        1
1300        1
1400        1
350         1
8300        1
54          1
560         1
Name: MiscVal, dtype: int64
11.849405    20
11.813037    17
11.884496    14
11.951187    14
12.154785    13
11.608245    13
11.652696    12
11.982935    11
11.775297    11
11.842236    11
11.877576    10
12.128117    10
11.736077    10
11.870607    10
12.100718    10
12.072547     9
11.512935     9
11.898195     9
11.751950     9
12.043560     8
12.345839     8
12.278398     8
11.856522     8
12.078245     8
11.767575     8
12.013707     8
12.066816     7
11.686887     7
12.089544     7
12.106258     7
11.904974     7
11.759793     7
12.429220     7
12.061053     7
12.206078     7
11.695255     7
11.626263     7
12.384223     6
12.141539     6
11.798112     6
11.794345     6
12.367345     6
12.468441     6
11.728045     6
11.755879     6
12.149508     6
11.964007     6
11.678448     6
11.970357     6
12.230770     6
             ..
12.176654     1
11.396403     1
12.879020     1
12.118339     1
12.198549     1
12.106998     1
11.940400     1
11.883806     1
11.355113     1
12.219315     1
11.530775     1
12.588194     1
12.469978     1
12.653962     1
11.894788     1
12.206578     1
12.230282     1
12.387089     1
12.727841     1
12.069686     1
12.659737     1
12.387982     1
12.442306     1
12.431538     1
11.459008     1
11.104972     1
11.875838     1
12.017337     1
11.827050     1
12.013101     1
11.542494     1
11.566476     1
12.675767     1
12.437188     1
12.759961     1
12.286906     1
11.982279     1
11.998439     1
11.685693     1
12.410445     1
12.111218     1
12.182809     1
12.359527     1
11.850832     1
12.091789     1
12.200562     1
12.574185     1
11.198228     1
11.544434     1
11.841423     1
Name: SalePrice, Length: 646, dtype: int64
1      96
0      61
4      41
2      39
3      36
6      30
31     30
5      30
37     25
8      25
51     24
39     24
9      23
47     23
7      23
10     22
42     22
32     22
49     21
53     20
36     20
11     20
30     19
43     18
48     18
54     17
41     17
45     17
15     17
44     16
12     16
50     16
38     16
59     16
52     15
33     15
34     15
40     15
46     15
29     14
13     14
84     13
14     13
58     13
89     13
81     13
83     12
16     12
70     12
69     12
       ..
25      7
62      7
96      6
90      6
91      6
66      6
93      6
94      6
65      6
21      6
24      5
80      5
82      5
85      5
27      5
28      4
99      4
76      4
20      4
61      4
92      4
23      3
108     3
106     3
95      3
71      3
100     3
98      3
72      3
74      3
110     2
127     2
63      2
64      2
117     2
75      2
125     1
122     1
104     1
126     1
129     1
119     1
107     1
111     1
109     1
79      1
103     1
135     1
102     1
136     1
Name: PropAge, Length: 119, dtype: int64
 data = data.drop(['PoolQC','MiscVal', 'Alley', 'RoofMatl', 'Condition2', 'Heating', 'GarageCond', 'Fence', 'Functional' ], axis = 1)
​
These Columns were having high null values, some of which were imputed. After imputing, it was found that there was very little variance in the data. So we have decided to drop these columns.
data.shape
(1429, 63)
3. Data Preparation
Data Preparation
Let's now prepare the data and build the model.

# Drop 'Id' from Dataframe
​
data = data.drop(['Id'], axis=1)
data.head()
MSSubClass	MSZoning	LotFrontage	LotArea	LotShape	LandContour	LotConfig	LandSlope	Neighborhood	Condition1	BldgType	HouseStyle	OverallQual	OverallCond	RoofStyle	Exterior1st	Exterior2nd	MasVnrType	MasVnrArea	ExterQual	ExterCond	Foundation	BsmtQual	BsmtCond	BsmtExposure	BsmtFinType1	BsmtFinSF1	BsmtFinType2	BsmtFinSF2	TotalBsmtSF	HeatingQC	CentralAir	Electrical	1stFlrSF	2ndFlrSF	LowQualFinSF	GrLivArea	BsmtFullBath	BsmtHalfBath	FullBath	HalfBath	BedroomAbvGr	KitchenAbvGr	KitchenQual	Fireplaces	FireplaceQu	GarageType	GarageFinish	GarageArea	GarageQual	PavedDrive	WoodDeckSF	OpenPorchSF	EnclosedPorch	3SsnPorch	ScreenPorch	PoolArea	MiscFeature	SaleType	SaleCondition	SalePrice	PropAge
0	60	RL	65.0	8450	Reg	Lvl	Inside	Gtl	CollgCr	Norm	1Fam	2Story	7	5	Gable	VinylSd	VinylSd	BrkFace	196.0	Gd	TA	PConc	Gd	TA	No	GLQ	706	Unf	0	856	Ex	Y	SBrkr	856	854	0	1710	1	0	2	1	3	1	Gd	0	none	Attchd	RFn	548	TA	Y	0	61	0	0	0	0	none	WD	Normal	12.247699	5
1	20	RL	80.0	9600	Reg	Lvl	FR2	Gtl	Veenker	Feedr	1Fam	1Story	6	8	Gable	MetalSd	MetalSd	None	0.0	TA	TA	CBlock	Gd	TA	Gd	ALQ	978	Unf	0	1262	Ex	Y	SBrkr	1262	0	0	1262	0	1	2	0	3	1	TA	1	TA	Attchd	RFn	460	TA	Y	298	0	0	0	0	0	none	WD	Normal	12.109016	31
2	60	RL	68.0	11250	IR1	Lvl	Inside	Gtl	CollgCr	Norm	1Fam	2Story	7	5	Gable	VinylSd	VinylSd	BrkFace	162.0	Gd	TA	PConc	Gd	TA	Mn	GLQ	486	Unf	0	920	Ex	Y	SBrkr	920	866	0	1786	1	0	2	1	3	1	Gd	1	TA	Attchd	RFn	608	TA	Y	0	42	0	0	0	0	none	WD	Normal	12.317171	7
3	70	RL	60.0	9550	IR1	Lvl	Corner	Gtl	Crawfor	Norm	1Fam	2Story	7	5	Gable	Wd Sdng	Wd Shng	None	0.0	TA	TA	BrkTil	TA	Gd	No	ALQ	216	Unf	0	756	Gd	Y	SBrkr	961	756	0	1717	1	0	1	0	3	1	Gd	1	Gd	Detchd	Unf	642	TA	Y	0	35	272	0	0	0	none	WD	Abnorml	11.849405	91
4	60	RL	84.0	14260	IR1	Lvl	FR2	Gtl	NoRidge	Norm	1Fam	2Story	8	5	Gable	VinylSd	VinylSd	BrkFace	350.0	Gd	TA	PConc	Gd	TA	Av	GLQ	655	Unf	0	1145	Ex	Y	SBrkr	1145	1053	0	2198	1	0	2	1	4	1	Gd	1	TA	Attchd	RFn	836	TA	Y	192	84	0	0	0	0	none	WD	Normal	12.429220	8
#type of each feature in data: int, float, object
types = data.dtypes
#numerical values are either type int or float
numeric_type = types[(types == 'int64') | (types == float)] 
#categorical values are type object
categorical_type = types[types == object]
pd.DataFrame(types).reset_index().set_index(0).reset_index()[0].value_counts()
object     33
int64      26
float64     3
Name: 0, dtype: int64
#we should convert numeric_type to a list to make it easier to work with
numerical_columns = list(numeric_type.index)
print(numerical_columns)
['MSSubClass', 'LotFrontage', 'LotArea', 'OverallQual', 'OverallCond', 'MasVnrArea', 'BsmtFinSF1', 'BsmtFinSF2', 'TotalBsmtSF', '1stFlrSF', '2ndFlrSF', 'LowQualFinSF', 'GrLivArea', 'BsmtFullBath', 'BsmtHalfBath', 'FullBath', 'HalfBath', 'BedroomAbvGr', 'KitchenAbvGr', 'Fireplaces', 'GarageArea', 'WoodDeckSF', 'OpenPorchSF', 'EnclosedPorch', '3SsnPorch', 'ScreenPorch', 'PoolArea', 'SalePrice', 'PropAge']
#Categorical columns
categorical_columns = list(categorical_type.index)
print(categorical_columns)
['MSZoning', 'LotShape', 'LandContour', 'LotConfig', 'LandSlope', 'Neighborhood', 'Condition1', 'BldgType', 'HouseStyle', 'RoofStyle', 'Exterior1st', 'Exterior2nd', 'MasVnrType', 'ExterQual', 'ExterCond', 'Foundation', 'BsmtQual', 'BsmtCond', 'BsmtExposure', 'BsmtFinType1', 'BsmtFinType2', 'HeatingQC', 'CentralAir', 'Electrical', 'KitchenQual', 'FireplaceQu', 'GarageType', 'GarageFinish', 'GarageQual', 'PavedDrive', 'MiscFeature', 'SaleType', 'SaleCondition']
Creating Dummy columns to convert categorical into numerical
data = pd.get_dummies(data, drop_first=True )
data.head()
MSSubClass	LotFrontage	LotArea	OverallQual	OverallCond	MasVnrArea	BsmtFinSF1	BsmtFinSF2	TotalBsmtSF	1stFlrSF	2ndFlrSF	LowQualFinSF	GrLivArea	BsmtFullBath	BsmtHalfBath	FullBath	HalfBath	BedroomAbvGr	KitchenAbvGr	Fireplaces	GarageArea	WoodDeckSF	OpenPorchSF	EnclosedPorch	3SsnPorch	ScreenPorch	PoolArea	SalePrice	PropAge	MSZoning_FV	MSZoning_RH	MSZoning_RL	MSZoning_RM	LotShape_IR2	LotShape_IR3	LotShape_Reg	LandContour_HLS	LandContour_Low	LandContour_Lvl	LotConfig_CulDSac	LotConfig_FR2	LotConfig_FR3	LotConfig_Inside	LandSlope_Mod	LandSlope_Sev	Neighborhood_Blueste	Neighborhood_BrDale	Neighborhood_BrkSide	Neighborhood_ClearCr	Neighborhood_CollgCr	...	BsmtFinType2_none	HeatingQC_Fa	HeatingQC_Gd	HeatingQC_Po	HeatingQC_TA	CentralAir_Y	Electrical_FuseF	Electrical_FuseP	Electrical_Mix	Electrical_SBrkr	KitchenQual_Fa	KitchenQual_Gd	KitchenQual_TA	FireplaceQu_Fa	FireplaceQu_Gd	FireplaceQu_Po	FireplaceQu_TA	FireplaceQu_none	GarageType_Attchd	GarageType_Basment	GarageType_BuiltIn	GarageType_CarPort	GarageType_Detchd	GarageType_none	GarageFinish_RFn	GarageFinish_Unf	GarageFinish_none	GarageQual_Fa	GarageQual_Gd	GarageQual_Po	GarageQual_TA	GarageQual_none	PavedDrive_P	PavedDrive_Y	MiscFeature_Othr	MiscFeature_Shed	MiscFeature_none	SaleType_CWD	SaleType_Con	SaleType_ConLD	SaleType_ConLI	SaleType_ConLw	SaleType_New	SaleType_Oth	SaleType_WD	SaleCondition_AdjLand	SaleCondition_Alloca	SaleCondition_Family	SaleCondition_Normal	SaleCondition_Partial
0	60	65.0	8450	7	5	196.0	706	0	856	856	854	0	1710	1	0	2	1	3	1	0	548	0	61	0	0	0	0	12.247699	5	0	0	1	0	0	0	1	0	0	1	0	0	0	1	0	0	0	0	0	0	1	...	0	0	0	0	0	1	0	0	0	1	0	1	0	0	0	0	0	1	1	0	0	0	0	0	1	0	0	0	0	0	1	0	0	1	0	0	1	0	0	0	0	0	0	0	1	0	0	0	1	0
1	20	80.0	9600	6	8	0.0	978	0	1262	1262	0	0	1262	0	1	2	0	3	1	1	460	298	0	0	0	0	0	12.109016	31	0	0	1	0	0	0	1	0	0	1	0	1	0	0	0	0	0	0	0	0	0	...	0	0	0	0	0	1	0	0	0	1	0	0	1	0	0	0	1	0	1	0	0	0	0	0	1	0	0	0	0	0	1	0	0	1	0	0	1	0	0	0	0	0	0	0	1	0	0	0	1	0
2	60	68.0	11250	7	5	162.0	486	0	920	920	866	0	1786	1	0	2	1	3	1	1	608	0	42	0	0	0	0	12.317171	7	0	0	1	0	0	0	0	0	0	1	0	0	0	1	0	0	0	0	0	0	1	...	0	0	0	0	0	1	0	0	0	1	0	1	0	0	0	0	1	0	1	0	0	0	0	0	1	0	0	0	0	0	1	0	0	1	0	0	1	0	0	0	0	0	0	0	1	0	0	0	1	0
3	70	60.0	9550	7	5	0.0	216	0	756	961	756	0	1717	1	0	1	0	3	1	1	642	0	35	272	0	0	0	11.849405	91	0	0	1	0	0	0	0	0	0	1	0	0	0	0	0	0	0	0	0	0	0	...	0	0	1	0	0	1	0	0	0	1	0	1	0	0	1	0	0	0	0	0	0	0	1	0	0	1	0	0	0	0	1	0	0	1	0	0	1	0	0	0	0	0	0	0	1	0	0	0	0	0
4	60	84.0	14260	8	5	350.0	655	0	1145	1145	1053	0	2198	1	0	2	1	4	1	1	836	192	84	0	0	0	0	12.429220	8	0	0	1	0	0	0	0	0	0	1	0	1	0	0	0	0	0	0	0	0	0	...	0	0	0	0	0	1	0	0	0	1	0	1	0	0	0	0	1	0	1	0	0	0	0	0	1	0	0	0	0	0	1	0	0	1	0	0	1	0	0	0	0	0	0	0	1	0	0	0	1	0
5 rows × 211 columns

X = data.drop(['SalePrice'], axis=1)
​
X.head()
MSSubClass	LotFrontage	LotArea	OverallQual	OverallCond	MasVnrArea	BsmtFinSF1	BsmtFinSF2	TotalBsmtSF	1stFlrSF	2ndFlrSF	LowQualFinSF	GrLivArea	BsmtFullBath	BsmtHalfBath	FullBath	HalfBath	BedroomAbvGr	KitchenAbvGr	Fireplaces	GarageArea	WoodDeckSF	OpenPorchSF	EnclosedPorch	3SsnPorch	ScreenPorch	PoolArea	PropAge	MSZoning_FV	MSZoning_RH	MSZoning_RL	MSZoning_RM	LotShape_IR2	LotShape_IR3	LotShape_Reg	LandContour_HLS	LandContour_Low	LandContour_Lvl	LotConfig_CulDSac	LotConfig_FR2	LotConfig_FR3	LotConfig_Inside	LandSlope_Mod	LandSlope_Sev	Neighborhood_Blueste	Neighborhood_BrDale	Neighborhood_BrkSide	Neighborhood_ClearCr	Neighborhood_CollgCr	Neighborhood_Crawfor	...	BsmtFinType2_none	HeatingQC_Fa	HeatingQC_Gd	HeatingQC_Po	HeatingQC_TA	CentralAir_Y	Electrical_FuseF	Electrical_FuseP	Electrical_Mix	Electrical_SBrkr	KitchenQual_Fa	KitchenQual_Gd	KitchenQual_TA	FireplaceQu_Fa	FireplaceQu_Gd	FireplaceQu_Po	FireplaceQu_TA	FireplaceQu_none	GarageType_Attchd	GarageType_Basment	GarageType_BuiltIn	GarageType_CarPort	GarageType_Detchd	GarageType_none	GarageFinish_RFn	GarageFinish_Unf	GarageFinish_none	GarageQual_Fa	GarageQual_Gd	GarageQual_Po	GarageQual_TA	GarageQual_none	PavedDrive_P	PavedDrive_Y	MiscFeature_Othr	MiscFeature_Shed	MiscFeature_none	SaleType_CWD	SaleType_Con	SaleType_ConLD	SaleType_ConLI	SaleType_ConLw	SaleType_New	SaleType_Oth	SaleType_WD	SaleCondition_AdjLand	SaleCondition_Alloca	SaleCondition_Family	SaleCondition_Normal	SaleCondition_Partial
0	60	65.0	8450	7	5	196.0	706	0	856	856	854	0	1710	1	0	2	1	3	1	0	548	0	61	0	0	0	0	5	0	0	1	0	0	0	1	0	0	1	0	0	0	1	0	0	0	0	0	0	1	0	...	0	0	0	0	0	1	0	0	0	1	0	1	0	0	0	0	0	1	1	0	0	0	0	0	1	0	0	0	0	0	1	0	0	1	0	0	1	0	0	0	0	0	0	0	1	0	0	0	1	0
1	20	80.0	9600	6	8	0.0	978	0	1262	1262	0	0	1262	0	1	2	0	3	1	1	460	298	0	0	0	0	0	31	0	0	1	0	0	0	1	0	0	1	0	1	0	0	0	0	0	0	0	0	0	0	...	0	0	0	0	0	1	0	0	0	1	0	0	1	0	0	0	1	0	1	0	0	0	0	0	1	0	0	0	0	0	1	0	0	1	0	0	1	0	0	0	0	0	0	0	1	0	0	0	1	0
2	60	68.0	11250	7	5	162.0	486	0	920	920	866	0	1786	1	0	2	1	3	1	1	608	0	42	0	0	0	0	7	0	0	1	0	0	0	0	0	0	1	0	0	0	1	0	0	0	0	0	0	1	0	...	0	0	0	0	0	1	0	0	0	1	0	1	0	0	0	0	1	0	1	0	0	0	0	0	1	0	0	0	0	0	1	0	0	1	0	0	1	0	0	0	0	0	0	0	1	0	0	0	1	0
3	70	60.0	9550	7	5	0.0	216	0	756	961	756	0	1717	1	0	1	0	3	1	1	642	0	35	272	0	0	0	91	0	0	1	0	0	0	0	0	0	1	0	0	0	0	0	0	0	0	0	0	0	1	...	0	0	1	0	0	1	0	0	0	1	0	1	0	0	1	0	0	0	0	0	0	0	1	0	0	1	0	0	0	0	1	0	0	1	0	0	1	0	0	0	0	0	0	0	1	0	0	0	0	0
4	60	84.0	14260	8	5	350.0	655	0	1145	1145	1053	0	2198	1	0	2	1	4	1	1	836	192	84	0	0	0	0	8	0	0	1	0	0	0	0	0	0	1	0	1	0	0	0	0	0	0	0	0	0	0	...	0	0	0	0	0	1	0	0	0	1	0	1	0	0	0	0	1	0	1	0	0	0	0	0	1	0	0	0	0	0	1	0	0	1	0	0	1	0	0	0	0	0	0	0	1	0	0	0	1	0
5 rows × 210 columns

# Putting response variable to y
y = data['SalePrice']
​
y.head()
0    12.247699
1    12.109016
2    12.317171
3    11.849405
4    12.429220
Name: SalePrice, dtype: float64
# Splitting the data into train and test
from sklearn.model_selection import train_test_split
​
X_train, X_test, y_train, y_test = train_test_split(X, y, train_size=0.7, test_size=0.3, random_state=50)
from sklearn.preprocessing import StandardScaler
scaler = StandardScaler()
​
X_train[['MSSubClass', 'LotFrontage', 'LotArea', 'OverallQual', 'OverallCond', 'MasVnrArea', 'BsmtFinSF1', 'BsmtFinSF2', 'TotalBsmtSF', '1stFlrSF', '2ndFlrSF', 'LowQualFinSF', 'GrLivArea', 'BsmtFullBath', 'BsmtHalfBath', 'FullBath', 'HalfBath', 'BedroomAbvGr', 'KitchenAbvGr', 'Fireplaces', 'GarageArea', 'WoodDeckSF', 'OpenPorchSF', 'EnclosedPorch', '3SsnPorch', 'ScreenPorch', 'PoolArea', 'PropAge']] = scaler.fit_transform(X_train[['MSSubClass', 'LotFrontage', 'LotArea', 'OverallQual', 'OverallCond', 'MasVnrArea', 'BsmtFinSF1', 'BsmtFinSF2', 'TotalBsmtSF', '1stFlrSF', '2ndFlrSF', 'LowQualFinSF', 'GrLivArea', 'BsmtFullBath', 'BsmtHalfBath', 'FullBath', 'HalfBath', 'BedroomAbvGr', 'KitchenAbvGr', 'Fireplaces', 'GarageArea', 'WoodDeckSF', 'OpenPorchSF', 'EnclosedPorch', '3SsnPorch', 'ScreenPorch', 'PoolArea', 'PropAge']])
​
X_test[['MSSubClass', 'LotFrontage', 'LotArea', 'OverallQual', 'OverallCond', 'MasVnrArea', 'BsmtFinSF1', 'BsmtFinSF2', 'TotalBsmtSF', '1stFlrSF', '2ndFlrSF', 'LowQualFinSF', 'GrLivArea', 'BsmtFullBath', 'BsmtHalfBath', 'FullBath', 'HalfBath', 'BedroomAbvGr', 'KitchenAbvGr', 'Fireplaces', 'GarageArea', 'WoodDeckSF', 'OpenPorchSF', 'EnclosedPorch', '3SsnPorch', 'ScreenPorch', 'PoolArea', 'PropAge']] = scaler.fit_transform(X_test[['MSSubClass', 'LotFrontage', 'LotArea', 'OverallQual', 'OverallCond', 'MasVnrArea', 'BsmtFinSF1', 'BsmtFinSF2', 'TotalBsmtSF', '1stFlrSF', '2ndFlrSF', 'LowQualFinSF', 'GrLivArea', 'BsmtFullBath', 'BsmtHalfBath', 'FullBath', 'HalfBath', 'BedroomAbvGr', 'KitchenAbvGr', 'Fireplaces', 'GarageArea', 'WoodDeckSF', 'OpenPorchSF', 'EnclosedPorch', '3SsnPorch', 'ScreenPorch', 'PoolArea', 'PropAge']])
​
​
X_train.head()
MSSubClass	LotFrontage	LotArea	OverallQual	OverallCond	MasVnrArea	BsmtFinSF1	BsmtFinSF2	TotalBsmtSF	1stFlrSF	2ndFlrSF	LowQualFinSF	GrLivArea	BsmtFullBath	BsmtHalfBath	FullBath	HalfBath	BedroomAbvGr	KitchenAbvGr	Fireplaces	GarageArea	WoodDeckSF	OpenPorchSF	EnclosedPorch	3SsnPorch	ScreenPorch	PoolArea	PropAge	MSZoning_FV	MSZoning_RH	MSZoning_RL	MSZoning_RM	LotShape_IR2	LotShape_IR3	LotShape_Reg	LandContour_HLS	LandContour_Low	LandContour_Lvl	LotConfig_CulDSac	LotConfig_FR2	LotConfig_FR3	LotConfig_Inside	LandSlope_Mod	LandSlope_Sev	Neighborhood_Blueste	Neighborhood_BrDale	Neighborhood_BrkSide	Neighborhood_ClearCr	Neighborhood_CollgCr	Neighborhood_Crawfor	...	BsmtFinType2_none	HeatingQC_Fa	HeatingQC_Gd	HeatingQC_Po	HeatingQC_TA	CentralAir_Y	Electrical_FuseF	Electrical_FuseP	Electrical_Mix	Electrical_SBrkr	KitchenQual_Fa	KitchenQual_Gd	KitchenQual_TA	FireplaceQu_Fa	FireplaceQu_Gd	FireplaceQu_Po	FireplaceQu_TA	FireplaceQu_none	GarageType_Attchd	GarageType_Basment	GarageType_BuiltIn	GarageType_CarPort	GarageType_Detchd	GarageType_none	GarageFinish_RFn	GarageFinish_Unf	GarageFinish_none	GarageQual_Fa	GarageQual_Gd	GarageQual_Po	GarageQual_TA	GarageQual_none	PavedDrive_P	PavedDrive_Y	MiscFeature_Othr	MiscFeature_Shed	MiscFeature_none	SaleType_CWD	SaleType_Con	SaleType_ConLD	SaleType_ConLI	SaleType_ConLw	SaleType_New	SaleType_Oth	SaleType_WD	SaleCondition_AdjLand	SaleCondition_Alloca	SaleCondition_Family	SaleCondition_Normal	SaleCondition_Partial
11	0.085645	0.746261	0.154684	2.241710	-0.513939	1.145212	1.323938	-0.300737	0.345478	0.113320	1.995226	-0.111211	1.923409	1.131973	-0.250936	2.754667	-0.727119	1.478865	-0.222797	2.231812	1.267298	0.485675	-0.351334	-0.378185	-0.115383	-0.268919	-0.054574	-1.209026	0	0	1	0	0	0	0	0	0	1	0	0	0	1	0	0	0	0	0	0	0	0	...	0	0	0	0	0	1	0	0	0	1	0	0	0	0	1	0	0	0	0	0	1	0	0	0	0	0	0	0	0	0	1	0	0	1	0	0	1	0	0	0	0	0	1	0	0	0	0	0	0	1
1070	-0.869945	0.130905	-0.020017	-0.764271	-0.513939	0.152993	0.360916	-0.300737	0.030191	-0.267693	-0.769750	-0.111211	-0.932170	1.131973	-0.250936	-0.990631	-0.727119	0.212713	-0.222797	-0.918240	-0.857140	-0.758474	-0.368801	-0.378185	-0.115383	3.351363	-0.054574	0.445587	0	0	1	0	0	0	1	0	0	1	0	0	0	1	0	0	0	0	0	0	0	0	...	0	0	0	0	1	1	0	0	0	1	0	0	1	0	0	0	0	1	1	0	0	0	0	0	0	1	0	0	0	0	1	0	0	1	0	0	1	0	0	0	0	0	0	0	1	0	0	0	1	0
513	-0.869945	0.083570	-0.115156	-0.012775	-0.513939	-0.564274	-0.223442	-0.300737	0.119563	-0.176705	-0.769750	-0.111211	-0.860557	-0.816345	-0.250936	-0.990631	1.275964	0.212713	-0.222797	-0.918240	0.077613	0.257158	-0.718144	2.265177	-0.115383	-0.268919	-0.054574	-0.447904	0	0	1	0	0	0	1	0	0	0	0	0	0	0	0	0	0	0	0	0	0	0	...	0	0	0	0	1	1	0	0	0	1	0	0	1	0	0	0	0	1	1	0	0	0	0	0	0	1	0	0	0	0	1	0	0	1	0	0	1	0	0	0	0	0	0	0	1	0	0	0	1	0
467	0.324542	0.462250	-0.086269	-0.764271	1.258264	0.774624	-0.106571	-0.300737	-0.764234	-0.722635	1.060654	-0.111211	0.401627	-0.816345	-0.250936	-0.990631	1.275964	0.212713	-0.222797	2.231812	-0.734395	0.663411	-0.718144	-0.378185	-0.115383	-0.268919	-0.054574	0.908879	0	0	1	0	0	0	1	0	0	1	0	0	0	1	0	0	0	0	0	0	0	0	...	0	0	0	0	0	1	0	0	0	1	0	1	0	0	1	0	0	0	1	0	0	0	0	0	0	1	0	0	0	0	1	0	0	1	0	0	1	0	0	0	0	0	0	0	1	0	0	0	1	0
993	0.085645	-0.058435	-0.148775	-0.012775	-0.513939	-0.564274	-1.008820	-0.300737	-0.709617	-1.115022	1.046127	-0.111211	0.079368	-0.816345	-0.250936	0.882018	1.275964	0.212713	-0.222797	-0.918240	0.455291	-0.758474	-0.106794	-0.378185	-0.115383	-0.268919	-0.054574	-1.209026	0	0	1	0	0	0	1	0	0	1	0	0	0	1	0	0	0	0	0	0	1	0	...	0	0	0	0	0	1	0	0	0	1	0	1	0	0	0	0	0	1	1	0	0	0	0	0	1	0	0	0	0	0	1	0	0	1	0	0	1	0	0	0	0	0	1	0	0	0	0	0	0	1
5 rows × 210 columns

X_test.head()
MSSubClass	LotFrontage	LotArea	OverallQual	OverallCond	MasVnrArea	BsmtFinSF1	BsmtFinSF2	TotalBsmtSF	1stFlrSF	2ndFlrSF	LowQualFinSF	GrLivArea	BsmtFullBath	BsmtHalfBath	FullBath	HalfBath	BedroomAbvGr	KitchenAbvGr	Fireplaces	GarageArea	WoodDeckSF	OpenPorchSF	EnclosedPorch	3SsnPorch	ScreenPorch	PoolArea	PropAge	MSZoning_FV	MSZoning_RH	MSZoning_RL	MSZoning_RM	LotShape_IR2	LotShape_IR3	LotShape_Reg	LandContour_HLS	LandContour_Low	LandContour_Lvl	LotConfig_CulDSac	LotConfig_FR2	LotConfig_FR3	LotConfig_Inside	LandSlope_Mod	LandSlope_Sev	Neighborhood_Blueste	Neighborhood_BrDale	Neighborhood_BrkSide	Neighborhood_ClearCr	Neighborhood_CollgCr	Neighborhood_Crawfor	...	BsmtFinType2_none	HeatingQC_Fa	HeatingQC_Gd	HeatingQC_Po	HeatingQC_TA	CentralAir_Y	Electrical_FuseF	Electrical_FuseP	Electrical_Mix	Electrical_SBrkr	KitchenQual_Fa	KitchenQual_Gd	KitchenQual_TA	FireplaceQu_Fa	FireplaceQu_Gd	FireplaceQu_Po	FireplaceQu_TA	FireplaceQu_none	GarageType_Attchd	GarageType_Basment	GarageType_BuiltIn	GarageType_CarPort	GarageType_Detchd	GarageType_none	GarageFinish_RFn	GarageFinish_Unf	GarageFinish_none	GarageQual_Fa	GarageQual_Gd	GarageQual_Po	GarageQual_TA	GarageQual_none	PavedDrive_P	PavedDrive_Y	MiscFeature_Othr	MiscFeature_Shed	MiscFeature_none	SaleType_CWD	SaleType_Con	SaleType_ConLD	SaleType_ConLI	SaleType_ConLw	SaleType_New	SaleType_Oth	SaleType_WD	SaleCondition_AdjLand	SaleCondition_Alloca	SaleCondition_Family	SaleCondition_Normal	SaleCondition_Partial
461	0.282163	-0.495702	-0.339155	0.620334	3.325664	-0.606456	-0.211663	0.997135	-1.205047	-1.556925	0.506037	-0.09698	-0.813247	1.073876	-0.215271	-1.099305	-0.803081	0.172438	-0.185172	-0.988037	0.530538	1.165362	-0.747921	-0.328244	-0.127886	-0.27671	0.0	1.326790	0	0	1	0	0	0	1	0	0	1	0	0	0	1	0	0	0	0	0	0	0	0	...	0	0	0	0	0	1	0	0	0	1	0	1	0	0	0	0	0	1	0	0	0	0	1	0	1	0	0	0	0	0	1	0	0	1	0	0	1	0	0	0	0	0	0	0	1	0	0	0	1	0
335	3.002345	0.729276	17.009026	-0.825989	0.435637	-0.606456	1.881258	0.620602	1.075768	1.258064	-0.435654	-0.09698	0.616745	2.969732	-0.215271	0.802316	-0.803081	0.172438	-0.185172	2.151725	0.299231	4.227488	-0.747921	-0.328244	-0.127886	-0.27671	0.0	0.303675	0	0	1	0	0	0	0	1	0	0	0	0	0	0	0	1	0	0	0	0	0	0	...	0	0	0	0	0	1	0	0	0	1	0	0	1	0	1	0	0	0	1	0	0	0	0	0	0	0	0	0	0	0	1	0	0	1	0	1	0	0	0	0	0	0	0	0	1	0	0	0	1	0
200	-0.851246	0.484280	-0.190859	-1.549150	-0.527705	-0.606456	-1.026482	-0.257974	0.157612	-0.084718	-0.835813	-0.09698	-0.843999	-0.821980	-0.215271	0.802316	-0.803081	-1.081391	-0.185172	-0.988037	-0.138775	0.248203	0.135073	-0.328244	-0.127886	-0.27671	0.0	-0.924063	0	0	0	1	0	0	1	0	0	1	0	0	0	0	0	0	0	0	0	0	0	0	...	0	0	0	0	0	1	0	0	0	1	0	0	1	0	0	0	0	1	1	0	0	0	0	0	1	0	0	0	0	0	1	0	0	1	0	0	1	0	0	0	0	0	0	0	1	0	0	0	1	0
214	0.055482	-0.005711	0.068493	-0.102827	1.398980	0.272709	-0.146477	-0.257974	-0.891708	-1.249541	0.848688	-0.09698	-0.248718	-0.821980	-0.215271	-1.099305	1.176929	0.172438	-0.185172	-0.988037	-0.832694	-0.728127	-0.251236	-0.328244	-0.127886	-0.27671	0.0	-0.037363	0	0	1	0	0	0	0	0	0	1	0	1	0	0	0	0	0	0	0	0	1	0	...	0	0	0	0	0	1	0	0	0	1	0	0	1	0	0	0	0	1	1	0	0	0	0	0	0	0	0	0	0	0	1	0	0	1	0	1	0	0	0	0	0	0	0	0	1	0	0	0	1	0
1003	0.735527	0.484280	0.134598	-0.825989	0.435637	0.335917	-1.026482	-0.257974	1.515413	1.422541	-0.835813	-0.09698	0.383905	-0.821980	-0.215271	0.802316	-0.803081	1.426267	4.779760	-0.988037	0.294310	-0.728127	-0.747921	-0.328244	-0.127886	-0.27671	0.0	-0.105571	0	0	1	0	0	0	0	0	0	1	0	0	0	0	0	0	0	0	0	0	0	0	...	0	1	0	0	0	1	0	0	0	1	0	0	1	0	0	0	0	1	0	0	0	0	1	0	0	1	0	0	0	0	1	0	0	1	0	0	1	0	0	0	0	0	0	0	1	0	0	0	1	0
5 rows × 210 columns

3. Model Building and Evaluation
Lets first check the model using Linear Regression and RFE (OPTIONAL)
# Importing RFE and LinearRegression
# Since there are more variables to be analysed, we will used the automated feature elimination process (RFE)
​
from sklearn.feature_selection import RFE
from sklearn.linear_model import LinearRegression
import statsmodels.api as sm
# Running RFE 
# Since there are more than 250 variables for analysis, we will run RFE to select some that have high predictive power
lm = LinearRegression()
lm.fit(X_train, y_train)
 # running RFE for top 100 variables
rfe = RFE(lm, 100)            
rfe = rfe.fit(X_train, y_train)
# Check the ranks
list(zip(X_train.columns,rfe.support_,rfe.ranking_))
[('MSSubClass', False, 28),
 ('LotFrontage', False, 84),
 ('LotArea', True, 1),
 ('OverallQual', True, 1),
 ('OverallCond', True, 1),
 ('MasVnrArea', False, 98),
 ('BsmtFinSF1', True, 1),
 ('BsmtFinSF2', False, 86),
 ('TotalBsmtSF', True, 1),
 ('1stFlrSF', True, 1),
 ('2ndFlrSF', True, 1),
 ('LowQualFinSF', True, 1),
 ('GrLivArea', True, 1),
 ('BsmtFullBath', False, 56),
 ('BsmtHalfBath', False, 108),
 ('FullBath', False, 80),
 ('HalfBath', False, 71),
 ('BedroomAbvGr', False, 105),
 ('KitchenAbvGr', False, 101),
 ('Fireplaces', False, 104),
 ('GarageArea', False, 6),
 ('WoodDeckSF', False, 47),
 ('OpenPorchSF', False, 111),
 ('EnclosedPorch', False, 55),
 ('3SsnPorch', False, 88),
 ('ScreenPorch', False, 50),
 ('PoolArea', False, 79),
 ('PropAge', True, 1),
 ('MSZoning_FV', True, 1),
 ('MSZoning_RH', True, 1),
 ('MSZoning_RL', True, 1),
 ('MSZoning_RM', True, 1),
 ('LotShape_IR2', False, 95),
 ('LotShape_IR3', True, 1),
 ('LotShape_Reg', False, 110),
 ('LandContour_HLS', False, 48),
 ('LandContour_Low', False, 19),
 ('LandContour_Lvl', False, 99),
 ('LotConfig_CulDSac', False, 83),
 ('LotConfig_FR2', False, 23),
 ('LotConfig_FR3', True, 1),
 ('LotConfig_Inside', False, 3),
 ('LandSlope_Mod', False, 7),
 ('LandSlope_Sev', True, 1),
 ('Neighborhood_Blueste', False, 39),
 ('Neighborhood_BrDale', False, 32),
 ('Neighborhood_BrkSide', False, 66),
 ('Neighborhood_ClearCr', False, 89),
 ('Neighborhood_CollgCr', False, 65),
 ('Neighborhood_Crawfor', True, 1),
 ('Neighborhood_Edwards', True, 1),
 ('Neighborhood_Gilbert', False, 67),
 ('Neighborhood_IDOTRR', False, 17),
 ('Neighborhood_MeadowV', True, 1),
 ('Neighborhood_Mitchel', True, 1),
 ('Neighborhood_NAmes', True, 1),
 ('Neighborhood_NPkVill', False, 27),
 ('Neighborhood_NWAmes', False, 68),
 ('Neighborhood_NoRidge', True, 1),
 ('Neighborhood_NridgHt', True, 1),
 ('Neighborhood_OldTown', True, 1),
 ('Neighborhood_SWISU', True, 1),
 ('Neighborhood_Sawyer', False, 52),
 ('Neighborhood_SawyerW', False, 62),
 ('Neighborhood_Somerst', False, 63),
 ('Neighborhood_StoneBr', True, 1),
 ('Neighborhood_Timber', False, 64),
 ('Neighborhood_Veenker', True, 1),
 ('Condition1_Feedr', False, 8),
 ('Condition1_Norm', True, 1),
 ('Condition1_PosA', False, 49),
 ('Condition1_PosN', True, 1),
 ('Condition1_RRAe', True, 1),
 ('Condition1_RRAn', True, 1),
 ('Condition1_RRNe', True, 1),
 ('Condition1_RRNn', True, 1),
 ('BldgType_2fmCon', False, 26),
 ('BldgType_Duplex', False, 60),
 ('BldgType_Twnhs', True, 1),
 ('BldgType_TwnhsE', False, 69),
 ('HouseStyle_1.5Unf', False, 41),
 ('HouseStyle_1Story', False, 96),
 ('HouseStyle_2.5Fin', True, 1),
 ('HouseStyle_2.5Unf', False, 2),
 ('HouseStyle_2Story', False, 70),
 ('HouseStyle_SFoyer', False, 24),
 ('HouseStyle_SLvl', False, 11),
 ('RoofStyle_Gable', True, 1),
 ('RoofStyle_Gambrel', True, 1),
 ('RoofStyle_Hip', True, 1),
 ('RoofStyle_Mansard', True, 1),
 ('RoofStyle_Shed', False, 100),
 ('Exterior1st_AsphShn', True, 1),
 ('Exterior1st_BrkComm', True, 1),
 ('Exterior1st_BrkFace', False, 42),
 ('Exterior1st_CBlock', True, 1),
 ('Exterior1st_CemntBd', True, 1),
 ('Exterior1st_HdBoard', True, 1),
 ('Exterior1st_ImStucc', False, 53),
 ('Exterior1st_MetalSd', False, 97),
 ('Exterior1st_Plywood', True, 1),
 ('Exterior1st_Stone', False, 91),
 ('Exterior1st_Stucco', False, 44),
 ('Exterior1st_VinylSd', True, 1),
 ('Exterior1st_Wd Sdng', True, 1),
 ('Exterior1st_WdShing', True, 1),
 ('Exterior2nd_AsphShn', False, 22),
 ('Exterior2nd_Brk Cmn', False, 16),
 ('Exterior2nd_BrkFace', False, 73),
 ('Exterior2nd_CBlock', True, 1),
 ('Exterior2nd_CmentBd', True, 1),
 ('Exterior2nd_HdBoard', False, 18),
 ('Exterior2nd_ImStucc', False, 106),
 ('Exterior2nd_MetalSd', False, 45),
 ('Exterior2nd_Other', True, 1),
 ('Exterior2nd_Plywood', False, 12),
 ('Exterior2nd_Stone', True, 1),
 ('Exterior2nd_Stucco', False, 76),
 ('Exterior2nd_VinylSd', True, 1),
 ('Exterior2nd_Wd Sdng', True, 1),
 ('Exterior2nd_Wd Shng', False, 20),
 ('MasVnrType_BrkFace', True, 1),
 ('MasVnrType_None', True, 1),
 ('MasVnrType_Stone', True, 1),
 ('MasVnrType_none', False, 61),
 ('ExterQual_Fa', False, 29),
 ('ExterQual_Gd', False, 31),
 ('ExterQual_TA', False, 30),
 ('ExterCond_Fa', True, 1),
 ('ExterCond_Gd', True, 1),
 ('ExterCond_Po', True, 1),
 ('ExterCond_TA', True, 1),
 ('Foundation_CBlock', False, 34),
 ('Foundation_PConc', True, 1),
 ('Foundation_Slab', False, 102),
 ('Foundation_Stone', True, 1),
 ('Foundation_Wood', True, 1),
 ('BsmtQual_Fa', False, 57),
 ('BsmtQual_Gd', False, 36),
 ('BsmtQual_TA', False, 35),
 ('BsmtQual_none', True, 1),
 ('BsmtCond_Gd', False, 78),
 ('BsmtCond_Po', True, 1),
 ('BsmtCond_TA', False, 58),
 ('BsmtCond_none', True, 1),
 ('BsmtExposure_Gd', True, 1),
 ('BsmtExposure_Mn', False, 103),
 ('BsmtExposure_No', False, 59),
 ('BsmtExposure_none', False, 25),
 ('BsmtFinType1_BLQ', False, 14),
 ('BsmtFinType1_GLQ', False, 15),
 ('BsmtFinType1_LwQ', False, 51),
 ('BsmtFinType1_Rec', False, 75),
 ('BsmtFinType1_Unf', False, 74),
 ('BsmtFinType1_none', True, 1),
 ('BsmtFinType2_BLQ', False, 72),
 ('BsmtFinType2_GLQ', True, 1),
 ('BsmtFinType2_LwQ', False, 77),
 ('BsmtFinType2_Rec', False, 13),
 ('BsmtFinType2_Unf', False, 87),
 ('BsmtFinType2_none', True, 1),
 ('HeatingQC_Fa', False, 38),
 ('HeatingQC_Gd', False, 37),
 ('HeatingQC_Po', False, 33),
 ('HeatingQC_TA', False, 10),
 ('CentralAir_Y', True, 1),
 ('Electrical_FuseF', True, 1),
 ('Electrical_FuseP', False, 9),
 ('Electrical_Mix', True, 1),
 ('Electrical_SBrkr', False, 109),
 ('KitchenQual_Fa', True, 1),
 ('KitchenQual_Gd', True, 1),
 ('KitchenQual_TA', True, 1),
 ('FireplaceQu_Fa', False, 81),
 ('FireplaceQu_Gd', False, 5),
 ('FireplaceQu_Po', True, 1),
 ('FireplaceQu_TA', False, 40),
 ('FireplaceQu_none', False, 82),
 ('GarageType_Attchd', True, 1),
 ('GarageType_Basment', True, 1),
 ('GarageType_BuiltIn', True, 1),
 ('GarageType_CarPort', True, 1),
 ('GarageType_Detchd', True, 1),
 ('GarageType_none', True, 1),
 ('GarageFinish_RFn', False, 107),
 ('GarageFinish_Unf', False, 92),
 ('GarageFinish_none', True, 1),
 ('GarageQual_Fa', True, 1),
 ('GarageQual_Gd', False, 54),
 ('GarageQual_Po', False, 21),
 ('GarageQual_TA', True, 1),
 ('GarageQual_none', True, 1),
 ('PavedDrive_P', True, 1),
 ('PavedDrive_Y', False, 85),
 ('MiscFeature_Othr', True, 1),
 ('MiscFeature_Shed', True, 1),
 ('MiscFeature_none', True, 1),
 ('SaleType_CWD', True, 1),
 ('SaleType_Con', True, 1),
 ('SaleType_ConLD', True, 1),
 ('SaleType_ConLI', True, 1),
 ('SaleType_ConLw', False, 93),
 ('SaleType_New', False, 4),
 ('SaleType_Oth', False, 94),
 ('SaleType_WD', False, 43),
 ('SaleCondition_AdjLand', True, 1),
 ('SaleCondition_Alloca', False, 90),
 ('SaleCondition_Family', False, 46),
 ('SaleCondition_Normal', True, 1),
 ('SaleCondition_Partial', True, 1)]
# Select the top 100 variables
​
col = X_train.columns[rfe.support_]
col
Index(['LotArea', 'OverallQual', 'OverallCond', 'BsmtFinSF1', 'TotalBsmtSF',
       '1stFlrSF', '2ndFlrSF', 'LowQualFinSF', 'GrLivArea', 'PropAge',
       'MSZoning_FV', 'MSZoning_RH', 'MSZoning_RL', 'MSZoning_RM',
       'LotShape_IR3', 'LotConfig_FR3', 'LandSlope_Sev',
       'Neighborhood_Crawfor', 'Neighborhood_Edwards', 'Neighborhood_MeadowV',
       'Neighborhood_Mitchel', 'Neighborhood_NAmes', 'Neighborhood_NoRidge',
       'Neighborhood_NridgHt', 'Neighborhood_OldTown', 'Neighborhood_SWISU',
       'Neighborhood_StoneBr', 'Neighborhood_Veenker', 'Condition1_Norm',
       'Condition1_PosN', 'Condition1_RRAe', 'Condition1_RRAn',
       'Condition1_RRNe', 'Condition1_RRNn', 'BldgType_Twnhs',
       'HouseStyle_2.5Fin', 'RoofStyle_Gable', 'RoofStyle_Gambrel',
       'RoofStyle_Hip', 'RoofStyle_Mansard', 'Exterior1st_AsphShn',
       'Exterior1st_BrkComm', 'Exterior1st_CBlock', 'Exterior1st_CemntBd',
       'Exterior1st_HdBoard', 'Exterior1st_Plywood', 'Exterior1st_VinylSd',
       'Exterior1st_Wd Sdng', 'Exterior1st_WdShing', 'Exterior2nd_CBlock',
       'Exterior2nd_CmentBd', 'Exterior2nd_Other', 'Exterior2nd_Stone',
       'Exterior2nd_VinylSd', 'Exterior2nd_Wd Sdng', 'MasVnrType_BrkFace',
       'MasVnrType_None', 'MasVnrType_Stone', 'ExterCond_Fa', 'ExterCond_Gd',
       'ExterCond_Po', 'ExterCond_TA', 'Foundation_PConc', 'Foundation_Stone',
       'Foundation_Wood', 'BsmtQual_none', 'BsmtCond_Po', 'BsmtCond_none',
       'BsmtExposure_Gd', 'BsmtFinType1_none', 'BsmtFinType2_GLQ',
       'BsmtFinType2_none', 'CentralAir_Y', 'Electrical_FuseF',
       'Electrical_Mix', 'KitchenQual_Fa', 'KitchenQual_Gd', 'KitchenQual_TA',
       'FireplaceQu_Po', 'GarageType_Attchd', 'GarageType_Basment',
       'GarageType_BuiltIn', 'GarageType_CarPort', 'GarageType_Detchd',
       'GarageType_none', 'GarageFinish_none', 'GarageQual_Fa',
       'GarageQual_TA', 'GarageQual_none', 'PavedDrive_P', 'MiscFeature_Othr',
       'MiscFeature_Shed', 'MiscFeature_none', 'SaleType_CWD', 'SaleType_Con',
       'SaleType_ConLD', 'SaleType_ConLI', 'SaleCondition_AdjLand',
       'SaleCondition_Normal', 'SaleCondition_Partial'],
      dtype='object')
X_train.columns[~rfe.support_]
Index(['MSSubClass', 'LotFrontage', 'MasVnrArea', 'BsmtFinSF2', 'BsmtFullBath',
       'BsmtHalfBath', 'FullBath', 'HalfBath', 'BedroomAbvGr', 'KitchenAbvGr',
       ...
       'GarageFinish_Unf', 'GarageQual_Gd', 'GarageQual_Po', 'PavedDrive_Y',
       'SaleType_ConLw', 'SaleType_New', 'SaleType_Oth', 'SaleType_WD',
       'SaleCondition_Alloca', 'SaleCondition_Family'],
      dtype='object', length=110)
# Creating X_test dataframe with RFE selected variables
X_train_rfe = X_train[col]
X_train_rfe = pd.DataFrame(X_train[col])
X_train_rfe.head()
LotArea	OverallQual	OverallCond	BsmtFinSF1	TotalBsmtSF	1stFlrSF	2ndFlrSF	LowQualFinSF	GrLivArea	PropAge	MSZoning_FV	MSZoning_RH	MSZoning_RL	MSZoning_RM	LotShape_IR3	LotConfig_FR3	LandSlope_Sev	Neighborhood_Crawfor	Neighborhood_Edwards	Neighborhood_MeadowV	Neighborhood_Mitchel	Neighborhood_NAmes	Neighborhood_NoRidge	Neighborhood_NridgHt	Neighborhood_OldTown	Neighborhood_SWISU	Neighborhood_StoneBr	Neighborhood_Veenker	Condition1_Norm	Condition1_PosN	Condition1_RRAe	Condition1_RRAn	Condition1_RRNe	Condition1_RRNn	BldgType_Twnhs	HouseStyle_2.5Fin	RoofStyle_Gable	RoofStyle_Gambrel	RoofStyle_Hip	RoofStyle_Mansard	Exterior1st_AsphShn	Exterior1st_BrkComm	Exterior1st_CBlock	Exterior1st_CemntBd	Exterior1st_HdBoard	Exterior1st_Plywood	Exterior1st_VinylSd	Exterior1st_Wd Sdng	Exterior1st_WdShing	Exterior2nd_CBlock	Exterior2nd_CmentBd	Exterior2nd_Other	Exterior2nd_Stone	Exterior2nd_VinylSd	Exterior2nd_Wd Sdng	MasVnrType_BrkFace	MasVnrType_None	MasVnrType_Stone	ExterCond_Fa	ExterCond_Gd	ExterCond_Po	ExterCond_TA	Foundation_PConc	Foundation_Stone	Foundation_Wood	BsmtQual_none	BsmtCond_Po	BsmtCond_none	BsmtExposure_Gd	BsmtFinType1_none	BsmtFinType2_GLQ	BsmtFinType2_none	CentralAir_Y	Electrical_FuseF	Electrical_Mix	KitchenQual_Fa	KitchenQual_Gd	KitchenQual_TA	FireplaceQu_Po	GarageType_Attchd	GarageType_Basment	GarageType_BuiltIn	GarageType_CarPort	GarageType_Detchd	GarageType_none	GarageFinish_none	GarageQual_Fa	GarageQual_TA	GarageQual_none	PavedDrive_P	MiscFeature_Othr	MiscFeature_Shed	MiscFeature_none	SaleType_CWD	SaleType_Con	SaleType_ConLD	SaleType_ConLI	SaleCondition_AdjLand	SaleCondition_Normal	SaleCondition_Partial
11	0.154684	2.241710	-0.513939	1.323938	0.345478	0.113320	1.995226	-0.111211	1.923409	-1.209026	0	0	1	0	0	0	0	0	0	0	0	0	0	1	0	0	0	0	1	0	0	0	0	0	0	0	0	0	1	0	0	0	0	0	0	0	0	0	1	0	0	0	0	0	0	0	0	1	0	0	0	1	1	0	0	0	0	0	0	0	0	0	1	0	0	0	0	0	0	0	0	1	0	0	0	0	0	1	0	0	0	0	1	0	0	0	0	0	0	1
1070	-0.020017	-0.764271	-0.513939	0.360916	0.030191	-0.267693	-0.769750	-0.111211	-0.932170	0.445587	0	0	1	0	0	0	0	0	0	0	0	1	0	0	0	0	0	0	1	0	0	0	0	0	0	0	0	0	1	0	0	0	0	0	0	0	0	0	0	0	0	0	0	0	0	1	0	0	0	0	0	1	0	0	0	0	0	0	0	0	0	0	1	0	0	0	0	1	0	1	0	0	0	0	0	0	0	1	0	0	0	0	1	0	0	0	0	0	1	0
513	-0.115156	-0.012775	-0.513939	-0.223442	0.119563	-0.176705	-0.769750	-0.111211	-0.860557	-0.447904	0	0	1	0	0	0	0	0	0	0	1	0	0	0	0	0	0	0	1	0	0	0	0	0	0	0	1	0	0	0	0	0	0	0	0	0	1	0	0	0	0	0	0	1	0	0	1	0	0	1	0	0	1	0	0	0	0	0	0	0	0	0	1	0	0	0	0	1	0	1	0	0	0	0	0	0	0	1	0	0	0	0	1	0	0	0	0	0	1	0
467	-0.086269	-0.764271	1.258264	-0.106571	-0.764234	-0.722635	1.060654	-0.111211	0.401627	0.908879	0	0	1	0	0	0	0	0	0	0	0	1	0	0	0	0	0	0	0	0	0	0	0	0	0	0	1	0	0	0	0	0	0	0	0	0	0	0	0	0	0	0	0	0	0	0	0	1	0	0	0	1	0	0	0	0	0	0	0	0	0	0	1	0	0	0	1	0	0	1	0	0	0	0	0	0	0	1	0	0	0	0	1	0	0	0	0	0	1	0
993	-0.148775	-0.012775	-0.513939	-1.008820	-0.709617	-1.115022	1.046127	-0.111211	0.079368	-1.209026	0	0	1	0	0	0	0	0	0	0	0	0	0	0	0	0	0	0	1	0	0	0	0	0	0	0	1	0	0	0	0	0	0	0	0	0	1	0	0	0	0	0	0	1	0	0	1	0	0	0	0	1	1	0	0	0	0	0	0	0	0	0	1	0	0	0	1	0	0	1	0	0	0	0	0	0	0	1	0	0	0	0	1	0	0	0	0	0	0	1
X_train_rfe.shape
(1000, 100)
# predict
y_train_pred = lm.predict(X_train)
metrics.r2_score(y_true=y_train, y_pred=y_train_pred)
0.9397595940782206
y_test_pred = lm.predict(X_test)
metrics.r2_score(y_true=y_test, y_pred=y_test_pred)
-1.413955862482251e+20
Since the Test R2 is too low, we will check for some alternate methods of Regression
# Check the ranks
list(zip(X_test.columns,rfe.support_,rfe.ranking_))
[('MSSubClass', False, 28),
 ('LotFrontage', False, 84),
 ('LotArea', True, 1),
 ('OverallQual', True, 1),
 ('OverallCond', True, 1),
 ('MasVnrArea', False, 98),
 ('BsmtFinSF1', True, 1),
 ('BsmtFinSF2', False, 86),
 ('TotalBsmtSF', True, 1),
 ('1stFlrSF', True, 1),
 ('2ndFlrSF', True, 1),
 ('LowQualFinSF', True, 1),
 ('GrLivArea', True, 1),
 ('BsmtFullBath', False, 56),
 ('BsmtHalfBath', False, 108),
 ('FullBath', False, 80),
 ('HalfBath', False, 71),
 ('BedroomAbvGr', False, 105),
 ('KitchenAbvGr', False, 101),
 ('Fireplaces', False, 104),
 ('GarageArea', False, 6),
 ('WoodDeckSF', False, 47),
 ('OpenPorchSF', False, 111),
 ('EnclosedPorch', False, 55),
 ('3SsnPorch', False, 88),
 ('ScreenPorch', False, 50),
 ('PoolArea', False, 79),
 ('PropAge', True, 1),
 ('MSZoning_FV', True, 1),
 ('MSZoning_RH', True, 1),
 ('MSZoning_RL', True, 1),
 ('MSZoning_RM', True, 1),
 ('LotShape_IR2', False, 95),
 ('LotShape_IR3', True, 1),
 ('LotShape_Reg', False, 110),
 ('LandContour_HLS', False, 48),
 ('LandContour_Low', False, 19),
 ('LandContour_Lvl', False, 99),
 ('LotConfig_CulDSac', False, 83),
 ('LotConfig_FR2', False, 23),
 ('LotConfig_FR3', True, 1),
 ('LotConfig_Inside', False, 3),
 ('LandSlope_Mod', False, 7),
 ('LandSlope_Sev', True, 1),
 ('Neighborhood_Blueste', False, 39),
 ('Neighborhood_BrDale', False, 32),
 ('Neighborhood_BrkSide', False, 66),
 ('Neighborhood_ClearCr', False, 89),
 ('Neighborhood_CollgCr', False, 65),
 ('Neighborhood_Crawfor', True, 1),
 ('Neighborhood_Edwards', True, 1),
 ('Neighborhood_Gilbert', False, 67),
 ('Neighborhood_IDOTRR', False, 17),
 ('Neighborhood_MeadowV', True, 1),
 ('Neighborhood_Mitchel', True, 1),
 ('Neighborhood_NAmes', True, 1),
 ('Neighborhood_NPkVill', False, 27),
 ('Neighborhood_NWAmes', False, 68),
 ('Neighborhood_NoRidge', True, 1),
 ('Neighborhood_NridgHt', True, 1),
 ('Neighborhood_OldTown', True, 1),
 ('Neighborhood_SWISU', True, 1),
 ('Neighborhood_Sawyer', False, 52),
 ('Neighborhood_SawyerW', False, 62),
 ('Neighborhood_Somerst', False, 63),
 ('Neighborhood_StoneBr', True, 1),
 ('Neighborhood_Timber', False, 64),
 ('Neighborhood_Veenker', True, 1),
 ('Condition1_Feedr', False, 8),
 ('Condition1_Norm', True, 1),
 ('Condition1_PosA', False, 49),
 ('Condition1_PosN', True, 1),
 ('Condition1_RRAe', True, 1),
 ('Condition1_RRAn', True, 1),
 ('Condition1_RRNe', True, 1),
 ('Condition1_RRNn', True, 1),
 ('BldgType_2fmCon', False, 26),
 ('BldgType_Duplex', False, 60),
 ('BldgType_Twnhs', True, 1),
 ('BldgType_TwnhsE', False, 69),
 ('HouseStyle_1.5Unf', False, 41),
 ('HouseStyle_1Story', False, 96),
 ('HouseStyle_2.5Fin', True, 1),
 ('HouseStyle_2.5Unf', False, 2),
 ('HouseStyle_2Story', False, 70),
 ('HouseStyle_SFoyer', False, 24),
 ('HouseStyle_SLvl', False, 11),
 ('RoofStyle_Gable', True, 1),
 ('RoofStyle_Gambrel', True, 1),
 ('RoofStyle_Hip', True, 1),
 ('RoofStyle_Mansard', True, 1),
 ('RoofStyle_Shed', False, 100),
 ('Exterior1st_AsphShn', True, 1),
 ('Exterior1st_BrkComm', True, 1),
 ('Exterior1st_BrkFace', False, 42),
 ('Exterior1st_CBlock', True, 1),
 ('Exterior1st_CemntBd', True, 1),
 ('Exterior1st_HdBoard', True, 1),
 ('Exterior1st_ImStucc', False, 53),
 ('Exterior1st_MetalSd', False, 97),
 ('Exterior1st_Plywood', True, 1),
 ('Exterior1st_Stone', False, 91),
 ('Exterior1st_Stucco', False, 44),
 ('Exterior1st_VinylSd', True, 1),
 ('Exterior1st_Wd Sdng', True, 1),
 ('Exterior1st_WdShing', True, 1),
 ('Exterior2nd_AsphShn', False, 22),
 ('Exterior2nd_Brk Cmn', False, 16),
 ('Exterior2nd_BrkFace', False, 73),
 ('Exterior2nd_CBlock', True, 1),
 ('Exterior2nd_CmentBd', True, 1),
 ('Exterior2nd_HdBoard', False, 18),
 ('Exterior2nd_ImStucc', False, 106),
 ('Exterior2nd_MetalSd', False, 45),
 ('Exterior2nd_Other', True, 1),
 ('Exterior2nd_Plywood', False, 12),
 ('Exterior2nd_Stone', True, 1),
 ('Exterior2nd_Stucco', False, 76),
 ('Exterior2nd_VinylSd', True, 1),
 ('Exterior2nd_Wd Sdng', True, 1),
 ('Exterior2nd_Wd Shng', False, 20),
 ('MasVnrType_BrkFace', True, 1),
 ('MasVnrType_None', True, 1),
 ('MasVnrType_Stone', True, 1),
 ('MasVnrType_none', False, 61),
 ('ExterQual_Fa', False, 29),
 ('ExterQual_Gd', False, 31),
 ('ExterQual_TA', False, 30),
 ('ExterCond_Fa', True, 1),
 ('ExterCond_Gd', True, 1),
 ('ExterCond_Po', True, 1),
 ('ExterCond_TA', True, 1),
 ('Foundation_CBlock', False, 34),
 ('Foundation_PConc', True, 1),
 ('Foundation_Slab', False, 102),
 ('Foundation_Stone', True, 1),
 ('Foundation_Wood', True, 1),
 ('BsmtQual_Fa', False, 57),
 ('BsmtQual_Gd', False, 36),
 ('BsmtQual_TA', False, 35),
 ('BsmtQual_none', True, 1),
 ('BsmtCond_Gd', False, 78),
 ('BsmtCond_Po', True, 1),
 ('BsmtCond_TA', False, 58),
 ('BsmtCond_none', True, 1),
 ('BsmtExposure_Gd', True, 1),
 ('BsmtExposure_Mn', False, 103),
 ('BsmtExposure_No', False, 59),
 ('BsmtExposure_none', False, 25),
 ('BsmtFinType1_BLQ', False, 14),
 ('BsmtFinType1_GLQ', False, 15),
 ('BsmtFinType1_LwQ', False, 51),
 ('BsmtFinType1_Rec', False, 75),
 ('BsmtFinType1_Unf', False, 74),
 ('BsmtFinType1_none', True, 1),
 ('BsmtFinType2_BLQ', False, 72),
 ('BsmtFinType2_GLQ', True, 1),
 ('BsmtFinType2_LwQ', False, 77),
 ('BsmtFinType2_Rec', False, 13),
 ('BsmtFinType2_Unf', False, 87),
 ('BsmtFinType2_none', True, 1),
 ('HeatingQC_Fa', False, 38),
 ('HeatingQC_Gd', False, 37),
 ('HeatingQC_Po', False, 33),
 ('HeatingQC_TA', False, 10),
 ('CentralAir_Y', True, 1),
 ('Electrical_FuseF', True, 1),
 ('Electrical_FuseP', False, 9),
 ('Electrical_Mix', True, 1),
 ('Electrical_SBrkr', False, 109),
 ('KitchenQual_Fa', True, 1),
 ('KitchenQual_Gd', True, 1),
 ('KitchenQual_TA', True, 1),
 ('FireplaceQu_Fa', False, 81),
 ('FireplaceQu_Gd', False, 5),
 ('FireplaceQu_Po', True, 1),
 ('FireplaceQu_TA', False, 40),
 ('FireplaceQu_none', False, 82),
 ('GarageType_Attchd', True, 1),
 ('GarageType_Basment', True, 1),
 ('GarageType_BuiltIn', True, 1),
 ('GarageType_CarPort', True, 1),
 ('GarageType_Detchd', True, 1),
 ('GarageType_none', True, 1),
 ('GarageFinish_RFn', False, 107),
 ('GarageFinish_Unf', False, 92),
 ('GarageFinish_none', True, 1),
 ('GarageQual_Fa', True, 1),
 ('GarageQual_Gd', False, 54),
 ('GarageQual_Po', False, 21),
 ('GarageQual_TA', True, 1),
 ('GarageQual_none', True, 1),
 ('PavedDrive_P', True, 1),
 ('PavedDrive_Y', False, 85),
 ('MiscFeature_Othr', True, 1),
 ('MiscFeature_Shed', True, 1),
 ('MiscFeature_none', True, 1),
 ('SaleType_CWD', True, 1),
 ('SaleType_Con', True, 1),
 ('SaleType_ConLD', True, 1),
 ('SaleType_ConLI', True, 1),
 ('SaleType_ConLw', False, 93),
 ('SaleType_New', False, 4),
 ('SaleType_Oth', False, 94),
 ('SaleType_WD', False, 43),
 ('SaleCondition_AdjLand', True, 1),
 ('SaleCondition_Alloca', False, 90),
 ('SaleCondition_Family', False, 46),
 ('SaleCondition_Normal', True, 1),
 ('SaleCondition_Partial', True, 1)]
# Select the top 100 variables
​
col1 = X_test.columns[rfe.support_]
col1
Index(['LotArea', 'OverallQual', 'OverallCond', 'BsmtFinSF1', 'TotalBsmtSF',
       '1stFlrSF', '2ndFlrSF', 'LowQualFinSF', 'GrLivArea', 'PropAge',
       'MSZoning_FV', 'MSZoning_RH', 'MSZoning_RL', 'MSZoning_RM',
       'LotShape_IR3', 'LotConfig_FR3', 'LandSlope_Sev',
       'Neighborhood_Crawfor', 'Neighborhood_Edwards', 'Neighborhood_MeadowV',
       'Neighborhood_Mitchel', 'Neighborhood_NAmes', 'Neighborhood_NoRidge',
       'Neighborhood_NridgHt', 'Neighborhood_OldTown', 'Neighborhood_SWISU',
       'Neighborhood_StoneBr', 'Neighborhood_Veenker', 'Condition1_Norm',
       'Condition1_PosN', 'Condition1_RRAe', 'Condition1_RRAn',
       'Condition1_RRNe', 'Condition1_RRNn', 'BldgType_Twnhs',
       'HouseStyle_2.5Fin', 'RoofStyle_Gable', 'RoofStyle_Gambrel',
       'RoofStyle_Hip', 'RoofStyle_Mansard', 'Exterior1st_AsphShn',
       'Exterior1st_BrkComm', 'Exterior1st_CBlock', 'Exterior1st_CemntBd',
       'Exterior1st_HdBoard', 'Exterior1st_Plywood', 'Exterior1st_VinylSd',
       'Exterior1st_Wd Sdng', 'Exterior1st_WdShing', 'Exterior2nd_CBlock',
       'Exterior2nd_CmentBd', 'Exterior2nd_Other', 'Exterior2nd_Stone',
       'Exterior2nd_VinylSd', 'Exterior2nd_Wd Sdng', 'MasVnrType_BrkFace',
       'MasVnrType_None', 'MasVnrType_Stone', 'ExterCond_Fa', 'ExterCond_Gd',
       'ExterCond_Po', 'ExterCond_TA', 'Foundation_PConc', 'Foundation_Stone',
       'Foundation_Wood', 'BsmtQual_none', 'BsmtCond_Po', 'BsmtCond_none',
       'BsmtExposure_Gd', 'BsmtFinType1_none', 'BsmtFinType2_GLQ',
       'BsmtFinType2_none', 'CentralAir_Y', 'Electrical_FuseF',
       'Electrical_Mix', 'KitchenQual_Fa', 'KitchenQual_Gd', 'KitchenQual_TA',
       'FireplaceQu_Po', 'GarageType_Attchd', 'GarageType_Basment',
       'GarageType_BuiltIn', 'GarageType_CarPort', 'GarageType_Detchd',
       'GarageType_none', 'GarageFinish_none', 'GarageQual_Fa',
       'GarageQual_TA', 'GarageQual_none', 'PavedDrive_P', 'MiscFeature_Othr',
       'MiscFeature_Shed', 'MiscFeature_none', 'SaleType_CWD', 'SaleType_Con',
       'SaleType_ConLD', 'SaleType_ConLI', 'SaleCondition_AdjLand',
       'SaleCondition_Normal', 'SaleCondition_Partial'],
      dtype='object')
X_test_rfe = X_test[col1]
X_test_rfe.head()
LotArea	OverallQual	OverallCond	BsmtFinSF1	TotalBsmtSF	1stFlrSF	2ndFlrSF	LowQualFinSF	GrLivArea	PropAge	MSZoning_FV	MSZoning_RH	MSZoning_RL	MSZoning_RM	LotShape_IR3	LotConfig_FR3	LandSlope_Sev	Neighborhood_Crawfor	Neighborhood_Edwards	Neighborhood_MeadowV	Neighborhood_Mitchel	Neighborhood_NAmes	Neighborhood_NoRidge	Neighborhood_NridgHt	Neighborhood_OldTown	Neighborhood_SWISU	Neighborhood_StoneBr	Neighborhood_Veenker	Condition1_Norm	Condition1_PosN	Condition1_RRAe	Condition1_RRAn	Condition1_RRNe	Condition1_RRNn	BldgType_Twnhs	HouseStyle_2.5Fin	RoofStyle_Gable	RoofStyle_Gambrel	RoofStyle_Hip	RoofStyle_Mansard	Exterior1st_AsphShn	Exterior1st_BrkComm	Exterior1st_CBlock	Exterior1st_CemntBd	Exterior1st_HdBoard	Exterior1st_Plywood	Exterior1st_VinylSd	Exterior1st_Wd Sdng	Exterior1st_WdShing	Exterior2nd_CBlock	Exterior2nd_CmentBd	Exterior2nd_Other	Exterior2nd_Stone	Exterior2nd_VinylSd	Exterior2nd_Wd Sdng	MasVnrType_BrkFace	MasVnrType_None	MasVnrType_Stone	ExterCond_Fa	ExterCond_Gd	ExterCond_Po	ExterCond_TA	Foundation_PConc	Foundation_Stone	Foundation_Wood	BsmtQual_none	BsmtCond_Po	BsmtCond_none	BsmtExposure_Gd	BsmtFinType1_none	BsmtFinType2_GLQ	BsmtFinType2_none	CentralAir_Y	Electrical_FuseF	Electrical_Mix	KitchenQual_Fa	KitchenQual_Gd	KitchenQual_TA	FireplaceQu_Po	GarageType_Attchd	GarageType_Basment	GarageType_BuiltIn	GarageType_CarPort	GarageType_Detchd	GarageType_none	GarageFinish_none	GarageQual_Fa	GarageQual_TA	GarageQual_none	PavedDrive_P	MiscFeature_Othr	MiscFeature_Shed	MiscFeature_none	SaleType_CWD	SaleType_Con	SaleType_ConLD	SaleType_ConLI	SaleCondition_AdjLand	SaleCondition_Normal	SaleCondition_Partial
461	-0.339155	0.620334	3.325664	-0.211663	-1.205047	-1.556925	0.506037	-0.09698	-0.813247	1.326790	0	0	1	0	0	0	0	0	0	0	0	0	0	0	0	1	0	0	0	0	0	0	0	0	0	0	1	0	0	0	0	0	0	0	0	0	0	1	0	0	0	0	0	0	1	0	1	0	0	1	0	0	1	0	0	0	0	0	0	0	0	0	1	0	0	0	1	0	0	0	0	0	0	1	0	0	0	1	0	0	0	0	1	0	0	0	0	0	1	0
335	17.009026	-0.825989	0.435637	1.881258	1.075768	1.258064	-0.435654	-0.09698	0.616745	0.303675	0	0	1	0	0	0	1	0	0	0	0	0	0	0	0	0	0	0	1	0	0	0	0	0	0	0	1	0	0	0	0	0	0	0	0	1	0	0	0	0	0	0	0	0	0	0	1	0	0	0	0	1	0	0	0	0	0	0	1	0	0	0	1	0	0	0	0	1	0	1	0	0	0	0	0	0	0	1	0	0	0	1	0	0	0	0	0	0	1	0
200	-0.190859	-1.549150	-0.527705	-1.026482	0.157612	-0.084718	-0.835813	-0.09698	-0.843999	-0.924063	0	0	0	1	0	0	0	0	1	0	0	0	0	0	0	0	0	0	1	0	0	0	0	0	0	0	1	0	0	0	0	0	0	0	0	0	1	0	0	0	0	0	0	1	0	0	1	0	0	0	0	1	1	0	0	0	0	0	0	0	0	0	1	0	0	0	0	1	0	1	0	0	0	0	0	0	0	1	0	0	0	0	1	0	0	0	0	0	1	0
214	0.068493	-0.102827	1.398980	-0.146477	-0.891708	-1.249541	0.848688	-0.09698	-0.248718	-0.037363	0	0	1	0	0	0	0	0	0	0	0	0	0	0	0	0	0	0	1	0	0	0	0	0	0	0	1	0	0	0	0	0	0	0	1	0	0	0	0	0	0	0	0	0	0	1	0	0	0	0	0	1	0	0	0	0	0	0	0	0	0	0	1	0	0	0	0	1	0	1	0	0	0	0	0	0	0	1	0	0	0	1	0	0	0	0	0	0	1	0
1003	0.134598	-0.825989	0.435637	-1.026482	1.515413	1.422541	-0.835813	-0.09698	0.383905	-0.105571	0	0	1	0	0	0	0	0	0	0	0	0	0	0	0	0	0	0	0	0	0	0	0	0	0	0	1	0	0	0	0	0	0	0	0	0	1	0	0	0	0	0	0	1	0	1	0	0	0	0	0	1	0	0	0	0	0	0	0	0	0	0	1	0	0	0	0	1	0	0	0	0	0	1	0	0	0	1	0	0	0	0	1	0	0	0	0	0	1	0
Lasso and Ridge Regression
Let's now try predicting house prices and perform lasso and ridge regression.

Lasso Regression
# Checking the dimension of X_train & y_train
print("X_train", X_train.shape)
print("y_train", y_train.shape)
X_train (1000, 210)
y_train (1000,)
# Applying Lasso
​
# list of alphas to tune
params = {'alpha': [0.0001, 0.001, 0.01, 0.05, 0.1, 
 0.2, 0.3, 0.4, 0.5, 0.6, 0.7, 0.8, 0.9, 1.0, 2.0, 3.0, 
 4.0, 5.0, 6.0, 7.0, 8.0, 9.0, 10.0, 20, 50, 100, 500, 1000 ]}
lasso = Lasso()
​
# cross validation
folds = 5
model_cv = GridSearchCV(estimator = lasso, 
                        param_grid = params, 
                        scoring= 'neg_mean_absolute_error', 
                        cv = folds, 
                        return_train_score=True,
                        verbose = 1)            
​
model_cv.fit(X_train, y_train) 
Fitting 5 folds for each of 28 candidates, totalling 140 fits
[Parallel(n_jobs=1)]: Using backend SequentialBackend with 1 concurrent workers.
[Parallel(n_jobs=1)]: Done 140 out of 140 | elapsed:    3.0s finished
GridSearchCV(cv=5, error_score='raise-deprecating',
             estimator=Lasso(alpha=1.0, copy_X=True, fit_intercept=True,
                             max_iter=1000, normalize=False, positive=False,
                             precompute=False, random_state=None,
                             selection='cyclic', tol=0.0001, warm_start=False),
             iid='warn', n_jobs=None,
             param_grid={'alpha': [0.0001, 0.001, 0.01, 0.05, 0.1, 0.2, 0.3,
                                   0.4, 0.5, 0.6, 0.7, 0.8, 0.9, 1.0, 2.0, 3.0,
                                   4.0, 5.0, 6.0, 7.0, 8.0, 9.0, 10.0, 20, 50,
                                   100, 500, 1000]},
             pre_dispatch='2*n_jobs', refit=True, return_train_score=True,
             scoring='neg_mean_absolute_error', verbose=1)
# cv_results
cv_results = pd.DataFrame(model_cv.cv_results_)
cv_results = cv_results[cv_results['param_alpha']<=1]
cv_results.head()
mean_fit_time	std_fit_time	mean_score_time	std_score_time	param_alpha	params	split0_test_score	split1_test_score	split2_test_score	split3_test_score	split4_test_score	mean_test_score	std_test_score	rank_test_score	split0_train_score	split1_train_score	split2_train_score	split3_train_score	split4_train_score	mean_train_score	std_train_score
0	0.175812	0.019337	0.001705	0.001533	0.0001	{'alpha': 0.0001}	-0.089702	-0.078848	-0.088372	-0.085734	-0.077120	-0.083955	0.005070	2	-0.065801	-0.068092	-0.065346	-0.066311	-0.067607	-0.066631	0.001052
1	0.027411	0.003626	0.001825	0.001481	0.001	{'alpha': 0.001}	-0.082755	-0.083177	-0.087933	-0.082553	-0.079647	-0.083213	0.002670	1	-0.075478	-0.077009	-0.074278	-0.076496	-0.076136	-0.075880	0.000943
2	0.012793	0.000977	0.002183	0.000819	0.01	{'alpha': 0.01}	-0.090790	-0.093399	-0.097715	-0.092036	-0.088628	-0.092514	0.003038	3	-0.091236	-0.090420	-0.089019	-0.090524	-0.091156	-0.090471	0.000796
3	0.010841	0.001781	0.001584	0.000479	0.05	{'alpha': 0.05}	-0.129246	-0.113828	-0.132264	-0.112722	-0.113127	-0.120237	0.008648	4	-0.119298	-0.118718	-0.117623	-0.118882	-0.119586	-0.118822	0.000673
4	0.008971	0.001637	0.001845	0.000470	0.1	{'alpha': 0.1}	-0.172055	-0.148653	-0.168033	-0.143888	-0.146182	-0.155762	0.011827	5	-0.155429	-0.155643	-0.153254	-0.153682	-0.156270	-0.154856	0.001174
# plotting mean test and train scoes with alpha 
cv_results['param_alpha'] = cv_results['param_alpha'].astype('float32')
​
# plotting
plt.plot(cv_results['param_alpha'], cv_results['mean_train_score'])
plt.plot(cv_results['param_alpha'], cv_results['mean_test_score'])
plt.xlabel('alpha')
plt.ylabel('Negative Mean Absolute Error')
plt.title("Negative Mean Absolute Error and alpha")
plt.legend(['train score', 'test score'], loc='upper left')
plt.show()

From the above graph we can see that the Negative Mean Absolute Error is quite low at alpha = 0.4 and stabilises thereafter,
but we will choose a low value of alpha to balance the trade-off between Bias-Variance
and to get the coefficients of smallest of features.
# At alpha = 0.01, even the smallest of negative coefficients that have some predictive power towards 'SalePrice' have been generated
​
alpha = 0.01
lasso = Lasso(alpha=alpha)
​
lasso.fit(X_train, y_train)
lasso.coef_
array([-0.00698318,  0.01385863,  0.01530092,  0.11219857,  0.04956005,
        0.        ,  0.03451586,  0.        ,  0.04155321,  0.        ,
        0.        , -0.        ,  0.12480705,  0.00976136,  0.        ,
        0.        ,  0.        , -0.        , -0.00805575,  0.02372561,
        0.033997  ,  0.00962824,  0.        ,  0.        ,  0.        ,
        0.00541322,  0.        , -0.0953824 ,  0.        , -0.        ,
        0.        , -0.        ,  0.        , -0.        , -0.        ,
        0.        ,  0.        , -0.        ,  0.        ,  0.        ,
       -0.        , -0.        ,  0.        ,  0.        , -0.        ,
       -0.        ,  0.        ,  0.        ,  0.        ,  0.        ,
       -0.        ,  0.        , -0.        , -0.        , -0.        ,
        0.        , -0.        , -0.        ,  0.        ,  0.        ,
       -0.        , -0.        , -0.        , -0.        ,  0.        ,
        0.        ,  0.        ,  0.        , -0.        ,  0.        ,
       -0.        ,  0.        , -0.        ,  0.        ,  0.        ,
       -0.        , -0.        , -0.        , -0.        ,  0.        ,
       -0.        ,  0.        , -0.        , -0.        ,  0.        ,
       -0.        ,  0.        , -0.        , -0.        ,  0.        ,
        0.        , -0.        ,  0.        , -0.        ,  0.        ,
       -0.        ,  0.        , -0.        , -0.        ,  0.        ,
       -0.        ,  0.        ,  0.        ,  0.        , -0.        ,
       -0.        ,  0.        , -0.        ,  0.        , -0.        ,
        0.        , -0.        , -0.        ,  0.        ,  0.        ,
       -0.        ,  0.        ,  0.        ,  0.        , -0.        ,
       -0.        , -0.        , -0.        ,  0.        , -0.        ,
       -0.        ,  0.        , -0.        , -0.        ,  0.        ,
        0.        ,  0.        , -0.        ,  0.        , -0.        ,
        0.        , -0.        ,  0.        ,  0.        , -0.        ,
        0.        ,  0.        , -0.        ,  0.        ,  0.        ,
        0.        ,  0.        , -0.        ,  0.        ,  0.        ,
        0.        , -0.        , -0.        , -0.        ,  0.        ,
       -0.        ,  0.        ,  0.        , -0.        , -0.        ,
        0.        , -0.        , -0.        , -0.        , -0.        ,
        0.        , -0.        , -0.        , -0.        ,  0.        ,
       -0.        ,  0.        , -0.00713365,  0.        ,  0.        ,
        0.        , -0.        , -0.        ,  0.        , -0.        ,
        0.        , -0.        , -0.        , -0.        ,  0.        ,
       -0.        , -0.        , -0.        ,  0.        , -0.        ,
        0.        , -0.        , -0.        ,  0.        ,  0.        ,
       -0.        ,  0.        ,  0.        ,  0.        , -0.        ,
       -0.        , -0.        ,  0.        , -0.        , -0.        ,
        0.        , -0.        , -0.        ,  0.        ,  0.        ])
The advantage of this technique is clearly visible here as Lasso brings the coefficients of insignificant features to zero
# lasso model parameters
model_parameters = list(lasso.coef_ )
model_parameters.insert(0, lasso.intercept_)
model_parameters = [round(x, 3) for x in model_parameters]
cols = X.columns
cols = cols.insert(0, "constant")
list(zip(cols, model_parameters))
[('constant', 12.003),
 ('MSSubClass', -0.007),
 ('LotFrontage', 0.014),
 ('LotArea', 0.015),
 ('OverallQual', 0.112),
 ('OverallCond', 0.05),
 ('MasVnrArea', 0.0),
 ('BsmtFinSF1', 0.035),
 ('BsmtFinSF2', 0.0),
 ('TotalBsmtSF', 0.042),
 ('1stFlrSF', 0.0),
 ('2ndFlrSF', 0.0),
 ('LowQualFinSF', -0.0),
 ('GrLivArea', 0.125),
 ('BsmtFullBath', 0.01),
 ('BsmtHalfBath', 0.0),
 ('FullBath', 0.0),
 ('HalfBath', 0.0),
 ('BedroomAbvGr', -0.0),
 ('KitchenAbvGr', -0.008),
 ('Fireplaces', 0.024),
 ('GarageArea', 0.034),
 ('WoodDeckSF', 0.01),
 ('OpenPorchSF', 0.0),
 ('EnclosedPorch', 0.0),
 ('3SsnPorch', 0.0),
 ('ScreenPorch', 0.005),
 ('PoolArea', 0.0),
 ('PropAge', -0.095),
 ('MSZoning_FV', 0.0),
 ('MSZoning_RH', -0.0),
 ('MSZoning_RL', 0.0),
 ('MSZoning_RM', -0.0),
 ('LotShape_IR2', 0.0),
 ('LotShape_IR3', -0.0),
 ('LotShape_Reg', -0.0),
 ('LandContour_HLS', 0.0),
 ('LandContour_Low', 0.0),
 ('LandContour_Lvl', -0.0),
 ('LotConfig_CulDSac', 0.0),
 ('LotConfig_FR2', 0.0),
 ('LotConfig_FR3', -0.0),
 ('LotConfig_Inside', -0.0),
 ('LandSlope_Mod', 0.0),
 ('LandSlope_Sev', 0.0),
 ('Neighborhood_Blueste', -0.0),
 ('Neighborhood_BrDale', -0.0),
 ('Neighborhood_BrkSide', 0.0),
 ('Neighborhood_ClearCr', 0.0),
 ('Neighborhood_CollgCr', 0.0),
 ('Neighborhood_Crawfor', 0.0),
 ('Neighborhood_Edwards', -0.0),
 ('Neighborhood_Gilbert', 0.0),
 ('Neighborhood_IDOTRR', -0.0),
 ('Neighborhood_MeadowV', -0.0),
 ('Neighborhood_Mitchel', -0.0),
 ('Neighborhood_NAmes', 0.0),
 ('Neighborhood_NPkVill', -0.0),
 ('Neighborhood_NWAmes', -0.0),
 ('Neighborhood_NoRidge', 0.0),
 ('Neighborhood_NridgHt', 0.0),
 ('Neighborhood_OldTown', -0.0),
 ('Neighborhood_SWISU', -0.0),
 ('Neighborhood_Sawyer', -0.0),
 ('Neighborhood_SawyerW', -0.0),
 ('Neighborhood_Somerst', 0.0),
 ('Neighborhood_StoneBr', 0.0),
 ('Neighborhood_Timber', 0.0),
 ('Neighborhood_Veenker', 0.0),
 ('Condition1_Feedr', -0.0),
 ('Condition1_Norm', 0.0),
 ('Condition1_PosA', -0.0),
 ('Condition1_PosN', 0.0),
 ('Condition1_RRAe', -0.0),
 ('Condition1_RRAn', 0.0),
 ('Condition1_RRNe', 0.0),
 ('Condition1_RRNn', -0.0),
 ('BldgType_2fmCon', -0.0),
 ('BldgType_Duplex', -0.0),
 ('BldgType_Twnhs', -0.0),
 ('BldgType_TwnhsE', 0.0),
 ('HouseStyle_1.5Unf', -0.0),
 ('HouseStyle_1Story', 0.0),
 ('HouseStyle_2.5Fin', -0.0),
 ('HouseStyle_2.5Unf', -0.0),
 ('HouseStyle_2Story', 0.0),
 ('HouseStyle_SFoyer', -0.0),
 ('HouseStyle_SLvl', 0.0),
 ('RoofStyle_Gable', -0.0),
 ('RoofStyle_Gambrel', -0.0),
 ('RoofStyle_Hip', 0.0),
 ('RoofStyle_Mansard', 0.0),
 ('RoofStyle_Shed', -0.0),
 ('Exterior1st_AsphShn', 0.0),
 ('Exterior1st_BrkComm', -0.0),
 ('Exterior1st_BrkFace', 0.0),
 ('Exterior1st_CBlock', -0.0),
 ('Exterior1st_CemntBd', 0.0),
 ('Exterior1st_HdBoard', -0.0),
 ('Exterior1st_ImStucc', -0.0),
 ('Exterior1st_MetalSd', 0.0),
 ('Exterior1st_Plywood', -0.0),
 ('Exterior1st_Stone', 0.0),
 ('Exterior1st_Stucco', 0.0),
 ('Exterior1st_VinylSd', 0.0),
 ('Exterior1st_Wd Sdng', -0.0),
 ('Exterior1st_WdShing', -0.0),
 ('Exterior2nd_AsphShn', 0.0),
 ('Exterior2nd_Brk Cmn', -0.0),
 ('Exterior2nd_BrkFace', 0.0),
 ('Exterior2nd_CBlock', -0.0),
 ('Exterior2nd_CmentBd', 0.0),
 ('Exterior2nd_HdBoard', -0.0),
 ('Exterior2nd_ImStucc', -0.0),
 ('Exterior2nd_MetalSd', 0.0),
 ('Exterior2nd_Other', 0.0),
 ('Exterior2nd_Plywood', -0.0),
 ('Exterior2nd_Stone', 0.0),
 ('Exterior2nd_Stucco', 0.0),
 ('Exterior2nd_VinylSd', 0.0),
 ('Exterior2nd_Wd Sdng', -0.0),
 ('Exterior2nd_Wd Shng', -0.0),
 ('MasVnrType_BrkFace', -0.0),
 ('MasVnrType_None', -0.0),
 ('MasVnrType_Stone', 0.0),
 ('MasVnrType_none', -0.0),
 ('ExterQual_Fa', -0.0),
 ('ExterQual_Gd', 0.0),
 ('ExterQual_TA', -0.0),
 ('ExterCond_Fa', -0.0),
 ('ExterCond_Gd', 0.0),
 ('ExterCond_Po', 0.0),
 ('ExterCond_TA', 0.0),
 ('Foundation_CBlock', -0.0),
 ('Foundation_PConc', 0.0),
 ('Foundation_Slab', -0.0),
 ('Foundation_Stone', 0.0),
 ('Foundation_Wood', -0.0),
 ('BsmtQual_Fa', 0.0),
 ('BsmtQual_Gd', 0.0),
 ('BsmtQual_TA', -0.0),
 ('BsmtQual_none', 0.0),
 ('BsmtCond_Gd', 0.0),
 ('BsmtCond_Po', -0.0),
 ('BsmtCond_TA', 0.0),
 ('BsmtCond_none', 0.0),
 ('BsmtExposure_Gd', 0.0),
 ('BsmtExposure_Mn', 0.0),
 ('BsmtExposure_No', -0.0),
 ('BsmtExposure_none', 0.0),
 ('BsmtFinType1_BLQ', 0.0),
 ('BsmtFinType1_GLQ', 0.0),
 ('BsmtFinType1_LwQ', -0.0),
 ('BsmtFinType1_Rec', -0.0),
 ('BsmtFinType1_Unf', -0.0),
 ('BsmtFinType1_none', 0.0),
 ('BsmtFinType2_BLQ', -0.0),
 ('BsmtFinType2_GLQ', 0.0),
 ('BsmtFinType2_LwQ', 0.0),
 ('BsmtFinType2_Rec', -0.0),
 ('BsmtFinType2_Unf', -0.0),
 ('BsmtFinType2_none', 0.0),
 ('HeatingQC_Fa', -0.0),
 ('HeatingQC_Gd', -0.0),
 ('HeatingQC_Po', -0.0),
 ('HeatingQC_TA', -0.0),
 ('CentralAir_Y', 0.0),
 ('Electrical_FuseF', -0.0),
 ('Electrical_FuseP', -0.0),
 ('Electrical_Mix', -0.0),
 ('Electrical_SBrkr', 0.0),
 ('KitchenQual_Fa', -0.0),
 ('KitchenQual_Gd', 0.0),
 ('KitchenQual_TA', -0.007),
 ('FireplaceQu_Fa', 0.0),
 ('FireplaceQu_Gd', 0.0),
 ('FireplaceQu_Po', 0.0),
 ('FireplaceQu_TA', -0.0),
 ('FireplaceQu_none', -0.0),
 ('GarageType_Attchd', 0.0),
 ('GarageType_Basment', -0.0),
 ('GarageType_BuiltIn', 0.0),
 ('GarageType_CarPort', -0.0),
 ('GarageType_Detchd', -0.0),
 ('GarageType_none', -0.0),
 ('GarageFinish_RFn', 0.0),
 ('GarageFinish_Unf', -0.0),
 ('GarageFinish_none', -0.0),
 ('GarageQual_Fa', -0.0),
 ('GarageQual_Gd', 0.0),
 ('GarageQual_Po', -0.0),
 ('GarageQual_TA', 0.0),
 ('GarageQual_none', -0.0),
 ('PavedDrive_P', -0.0),
 ('PavedDrive_Y', 0.0),
 ('MiscFeature_Othr', 0.0),
 ('MiscFeature_Shed', -0.0),
 ('MiscFeature_none', 0.0),
 ('SaleType_CWD', 0.0),
 ('SaleType_Con', 0.0),
 ('SaleType_ConLD', -0.0),
 ('SaleType_ConLI', -0.0),
 ('SaleType_ConLw', -0.0),
 ('SaleType_New', 0.0),
 ('SaleType_Oth', -0.0),
 ('SaleType_WD', -0.0),
 ('SaleCondition_AdjLand', 0.0),
 ('SaleCondition_Alloca', -0.0),
 ('SaleCondition_Family', -0.0),
 ('SaleCondition_Normal', 0.0),
 ('SaleCondition_Partial', 0.0)]
# lasso regression
lm = Lasso(alpha=0.01)
lm.fit(X_train, y_train)
​
# prediction on the test set(Using R2)
y_train_pred = lm.predict(X_train)
print(metrics.r2_score(y_true=y_train, y_pred=y_train_pred))
y_test_pred = lm.predict(X_test)
print(metrics.r2_score(y_true=y_test, y_pred=y_test_pred))
0.8854624158407248
0.8894603158029368
print('RMSE :', np.sqrt(metrics.mean_squared_error(y_test, y_test_pred)))
RMSE : 0.12573595366706636
#### The R2 values for Train and Test matches well, indicating an optimum model
# Creating a dataframe for the coefficients obtained from Lasso
mod = list(zip(cols, model_parameters))
para = pd.DataFrame(mod)
para.columns = ['Variable', 'Coeff']
para.head()
Variable	Coeff
0	constant	12.003
1	MSSubClass	-0.007
2	LotFrontage	0.014
3	LotArea	0.015
4	OverallQual	0.112
# sort the coefficients in ascending order
para = para.sort_values((['Coeff']), axis = 0, ascending = False)
para
Variable	Coeff
0	constant	12.003
13	GrLivArea	0.125
4	OverallQual	0.112
5	OverallCond	0.050
9	TotalBsmtSF	0.042
7	BsmtFinSF1	0.035
21	GarageArea	0.034
20	Fireplaces	0.024
3	LotArea	0.015
2	LotFrontage	0.014
14	BsmtFullBath	0.010
22	WoodDeckSF	0.010
26	ScreenPorch	0.005
142	BsmtCond_Gd	0.000
147	BsmtExposure_Mn	0.000
140	BsmtQual_TA	-0.000
143	BsmtCond_Po	-0.000
144	BsmtCond_TA	0.000
145	BsmtCond_none	0.000
146	BsmtExposure_Gd	0.000
139	BsmtQual_Gd	0.000
138	BsmtQual_Fa	0.000
141	BsmtQual_none	0.000
150	BsmtFinType1_BLQ	0.000
148	BsmtExposure_No	-0.000
149	BsmtExposure_none	0.000
136	Foundation_Stone	0.000
151	BsmtFinType1_GLQ	0.000
152	BsmtFinType1_LwQ	-0.000
153	BsmtFinType1_Rec	-0.000
154	BsmtFinType1_Unf	-0.000
155	BsmtFinType1_none	0.000
156	BsmtFinType2_BLQ	-0.000
157	BsmtFinType2_GLQ	0.000
158	BsmtFinType2_LwQ	0.000
137	Foundation_Wood	-0.000
129	ExterCond_Fa	-0.000
135	Foundation_Slab	-0.000
134	Foundation_PConc	0.000
113	Exterior2nd_ImStucc	-0.000
114	Exterior2nd_MetalSd	0.000
115	Exterior2nd_Other	0.000
116	Exterior2nd_Plywood	-0.000
117	Exterior2nd_Stone	0.000
118	Exterior2nd_Stucco	0.000
119	Exterior2nd_VinylSd	0.000
120	Exterior2nd_Wd Sdng	-0.000
121	Exterior2nd_Wd Shng	-0.000
122	MasVnrType_BrkFace	-0.000
123	MasVnrType_None	-0.000
...	...	...
63	Neighborhood_Sawyer	-0.000
97	Exterior1st_CemntBd	0.000
88	RoofStyle_Gable	-0.000
89	RoofStyle_Gambrel	-0.000
90	RoofStyle_Hip	0.000
91	RoofStyle_Mansard	0.000
92	RoofStyle_Shed	-0.000
93	Exterior1st_AsphShn	0.000
94	Exterior1st_BrkComm	-0.000
95	Exterior1st_BrkFace	0.000
96	Exterior1st_CBlock	-0.000
98	Exterior1st_HdBoard	-0.000
86	HouseStyle_SFoyer	-0.000
99	Exterior1st_ImStucc	-0.000
100	Exterior1st_MetalSd	0.000
101	Exterior1st_Plywood	-0.000
102	Exterior1st_Stone	0.000
103	Exterior1st_Stucco	0.000
104	Exterior1st_VinylSd	0.000
106	Exterior1st_WdShing	-0.000
107	Exterior2nd_AsphShn	0.000
108	Exterior2nd_Brk Cmn	-0.000
64	Neighborhood_SawyerW	-0.000
87	HouseStyle_SLvl	0.000
85	HouseStyle_2Story	0.000
84	HouseStyle_2.5Unf	-0.000
65	Neighborhood_Somerst	0.000
66	Neighborhood_StoneBr	0.000
67	Neighborhood_Timber	0.000
68	Neighborhood_Veenker	0.000
69	Condition1_Feedr	-0.000
70	Condition1_Norm	0.000
71	Condition1_PosA	-0.000
72	Condition1_PosN	0.000
73	Condition1_RRAe	-0.000
74	Condition1_RRAn	0.000
75	Condition1_RRNe	0.000
76	Condition1_RRNn	-0.000
77	BldgType_2fmCon	-0.000
78	BldgType_Duplex	-0.000
79	BldgType_Twnhs	-0.000
80	BldgType_TwnhsE	0.000
81	HouseStyle_1.5Unf	-0.000
82	HouseStyle_1Story	0.000
83	HouseStyle_2.5Fin	-0.000
210	SaleCondition_Partial	0.000
173	KitchenQual_TA	-0.007
1	MSSubClass	-0.007
19	KitchenAbvGr	-0.008
28	PropAge	-0.095
211 rows × 2 columns

# Chose variables whose coefficients are non-zero
pred = pd.DataFrame(para[(para['Coeff'] != 0)])
pred
Variable	Coeff
0	constant	12.003
13	GrLivArea	0.125
4	OverallQual	0.112
5	OverallCond	0.050
9	TotalBsmtSF	0.042
7	BsmtFinSF1	0.035
21	GarageArea	0.034
20	Fireplaces	0.024
3	LotArea	0.015
2	LotFrontage	0.014
14	BsmtFullBath	0.010
22	WoodDeckSF	0.010
26	ScreenPorch	0.005
173	KitchenQual_TA	-0.007
1	MSSubClass	-0.007
19	KitchenAbvGr	-0.008
28	PropAge	-0.095
# These 16 variables obtained from Lasso Regression can be concluded to have the strong effect on the SalePrice
pred.shape
(17, 2)
Lassso_var = list(pred['Variable'])
print(Lassso_var)
['constant', 'GrLivArea', 'OverallQual', 'OverallCond', 'TotalBsmtSF', 'BsmtFinSF1', 'GarageArea', 'Fireplaces', 'LotArea', 'LotFrontage', 'BsmtFullBath', 'WoodDeckSF', 'ScreenPorch', 'KitchenQual_TA', 'MSSubClass', 'KitchenAbvGr', 'PropAge']
X_train_lasso = X_train[['GrLivArea', 'OverallQual', 'OverallCond', 'TotalBsmtSF', 'GarageArea', 'BsmtFinSF1', 'Fireplaces', 'LotArea', 'LotFrontage', 'BsmtFullBath', 'Foundation_PConc', 'OpenPorchSF', 'FullBath', 'ScreenPorch', 'WoodDeckSF']]
                        
X_train_lasso.head()
GrLivArea	OverallQual	OverallCond	TotalBsmtSF	GarageArea	BsmtFinSF1	Fireplaces	LotArea	LotFrontage	BsmtFullBath	Foundation_PConc	OpenPorchSF	FullBath	ScreenPorch	WoodDeckSF
11	1.923409	2.241710	-0.513939	0.345478	1.267298	1.323938	2.231812	0.154684	0.746261	1.131973	1	-0.351334	2.754667	-0.268919	0.485675
1070	-0.932170	-0.764271	-0.513939	0.030191	-0.857140	0.360916	-0.918240	-0.020017	0.130905	1.131973	0	-0.368801	-0.990631	3.351363	-0.758474
513	-0.860557	-0.012775	-0.513939	0.119563	0.077613	-0.223442	-0.918240	-0.115156	0.083570	-0.816345	1	-0.718144	-0.990631	-0.268919	0.257158
467	0.401627	-0.764271	1.258264	-0.764234	-0.734395	-0.106571	2.231812	-0.086269	0.462250	-0.816345	0	-0.718144	-0.990631	-0.268919	0.663411
993	0.079368	-0.012775	-0.513939	-0.709617	0.455291	-1.008820	-0.918240	-0.148775	-0.058435	-0.816345	1	-0.106794	0.882018	-0.268919	-0.758474
X_train_lasso.shape
(1000, 15)
X_test_lasso = X_test[['GrLivArea', 'OverallQual', 'OverallCond', 'TotalBsmtSF', 'GarageArea', 'BsmtFinSF1', 'Fireplaces', 'LotArea', 'LotFrontage', 'BsmtFullBath', 'Foundation_PConc', 'OpenPorchSF', 'FullBath', 'ScreenPorch', 'WoodDeckSF']]
                        
X_test_lasso.head()
GrLivArea	OverallQual	OverallCond	TotalBsmtSF	GarageArea	BsmtFinSF1	Fireplaces	LotArea	LotFrontage	BsmtFullBath	Foundation_PConc	OpenPorchSF	FullBath	ScreenPorch	WoodDeckSF
461	-0.813247	0.620334	3.325664	-1.205047	0.530538	-0.211663	-0.988037	-0.339155	-0.495702	1.073876	1	-0.747921	-1.099305	-0.27671	1.165362
335	0.616745	-0.825989	0.435637	1.075768	0.299231	1.881258	2.151725	17.009026	0.729276	2.969732	0	-0.747921	0.802316	-0.27671	4.227488
200	-0.843999	-1.549150	-0.527705	0.157612	-0.138775	-1.026482	-0.988037	-0.190859	0.484280	-0.821980	1	0.135073	0.802316	-0.27671	0.248203
214	-0.248718	-0.102827	1.398980	-0.891708	-0.832694	-0.146477	-0.988037	0.068493	-0.005711	-0.821980	0	-0.251236	-1.099305	-0.27671	-0.728127
1003	0.383905	-0.825989	0.435637	1.515413	0.294310	-1.026482	-0.988037	0.134598	0.484280	-0.821980	0	-0.747921	0.802316	-0.27671	-0.728127
Ridge Regression
# list of alphas to tune
params = {'alpha': [0.0001, 0.001, 0.01, 0.05, 0.1, 
 0.2, 0.3, 0.4, 0.5, 0.6, 0.7, 0.8, 0.9, 1.0, 2.0, 3.0, 
 4.0, 5.0, 6.0, 7.0, 8.0, 9.0, 10.0, 20, 50, 100, 500, 1000 ]}
​
​
ridge = Ridge()
​
# cross validation
folds = 5
model_cv = GridSearchCV(estimator = ridge, 
                        param_grid = params, 
                        scoring= 'neg_mean_absolute_error', 
                        cv = folds, 
                        return_train_score=True,
                        verbose = 1)            
model_cv.fit(X_train, y_train) 
Fitting 5 folds for each of 28 candidates, totalling 140 fits
[Parallel(n_jobs=1)]: Using backend SequentialBackend with 1 concurrent workers.
[Parallel(n_jobs=1)]: Done 140 out of 140 | elapsed:    2.0s finished
GridSearchCV(cv=5, error_score='raise-deprecating',
             estimator=Ridge(alpha=1.0, copy_X=True, fit_intercept=True,
                             max_iter=None, normalize=False, random_state=None,
                             solver='auto', tol=0.001),
             iid='warn', n_jobs=None,
             param_grid={'alpha': [0.0001, 0.001, 0.01, 0.05, 0.1, 0.2, 0.3,
                                   0.4, 0.5, 0.6, 0.7, 0.8, 0.9, 1.0, 2.0, 3.0,
                                   4.0, 5.0, 6.0, 7.0, 8.0, 9.0, 10.0, 20, 50,
                                   100, 500, 1000]},
             pre_dispatch='2*n_jobs', refit=True, return_train_score=True,
             scoring='neg_mean_absolute_error', verbose=1)
cv_results = pd.DataFrame(model_cv.cv_results_)
cv_results = cv_results[cv_results['param_alpha']<=5]
cv_results.head()
mean_fit_time	std_fit_time	mean_score_time	std_score_time	param_alpha	params	split0_test_score	split1_test_score	split2_test_score	split3_test_score	split4_test_score	mean_test_score	std_test_score	rank_test_score	split0_train_score	split1_train_score	split2_train_score	split3_train_score	split4_train_score	mean_train_score	std_train_score
0	0.007777	0.002776	0.004064	0.000809	0.0001	{'alpha': 0.0001}	-0.098827	-0.080586	-0.093923	-0.093385	-0.081908	-0.089726	0.007190	26	-0.063890	-0.066811	-0.062901	-0.064702	-0.065821	-0.064825	0.001380
1	0.010512	0.001720	0.000898	0.001110	0.001	{'alpha': 0.001}	-0.098810	-0.080580	-0.093891	-0.093357	-0.081877	-0.089703	0.007188	25	-0.063891	-0.066811	-0.062903	-0.064704	-0.065823	-0.064826	0.001380
2	0.010258	0.001869	0.001421	0.001766	0.01	{'alpha': 0.01}	-0.098639	-0.080523	-0.093591	-0.093089	-0.081615	-0.089491	0.007154	24	-0.063904	-0.066811	-0.062931	-0.064715	-0.065846	-0.064842	0.001374
3	0.008517	0.002220	0.002298	0.001886	0.05	{'alpha': 0.05}	-0.097945	-0.080315	-0.092583	-0.092083	-0.081129	-0.088811	0.006922	23	-0.063979	-0.066830	-0.063098	-0.064761	-0.065935	-0.064921	0.001335
4	0.009867	0.002644	0.002154	0.001585	0.1	{'alpha': 0.1}	-0.097200	-0.080133	-0.091735	-0.091160	-0.080831	-0.088212	0.006658	22	-0.064088	-0.066874	-0.063300	-0.064818	-0.066043	-0.065025	0.001292
# plotting mean test and train scoes with alpha 
cv_results['param_alpha'] = cv_results['param_alpha'].astype('int32')
​
# plotting
plt.plot(cv_results['param_alpha'], cv_results['mean_train_score'])
plt.plot(cv_results['param_alpha'], cv_results['mean_test_score'])
plt.xlabel('alpha')
plt.ylabel('Negative Mean Absolute Error')
plt.title("Negative Mean Absolute Error and alpha")
plt.legend(['train score', 'test score'], loc='upper left')
plt.show()

since the Negative Mean Absolute Error stabilises at alpha = 2, we will choose this for further analysis
alpha = 2
ridge = Ridge(alpha=alpha)
​
ridge.fit(X_train, y_train)
ridge.coef_
array([-0.01661814,  0.00879344,  0.02534461,  0.06457657,  0.05124942,
       -0.00169877,  0.0304906 ,  0.00747482,  0.03650081,  0.03991915,
        0.04767425,  0.00523671,  0.07595503,  0.01170416, -0.00092158,
        0.00892371,  0.01249545,  0.0003776 , -0.00534099,  0.00350875,
        0.02078896,  0.01348507, -0.0010637 ,  0.01230575,  0.00491464,
        0.0141215 ,  0.00971184, -0.0702245 ,  0.14857807,  0.10523788,
        0.12502615,  0.09704995,  0.00219378, -0.0208621 ,  0.00027408,
        0.01235864, -0.02072982,  0.00302972,  0.01744635, -0.02148039,
       -0.05117096, -0.02397809,  0.01020923, -0.03899013, -0.0150698 ,
       -0.02340803,  0.00931668,  0.03728476, -0.00759928,  0.11394039,
       -0.05593223, -0.00971649, -0.08597375, -0.11266515, -0.04195278,
       -0.01867322,  0.04765164, -0.02093394,  0.03560318,  0.04414944,
       -0.0527455 , -0.04663915, -0.00821161,  0.00358752,  0.02349391,
        0.09259274, -0.00371216,  0.03744706,  0.01443113,  0.06657113,
       -0.03426037,  0.0480804 , -0.0564439 ,  0.04897665,  0.0186921 ,
        0.02829856,  0.03294526,  0.00356988, -0.04904027, -0.00211279,
        0.01248938, -0.00336536, -0.09974669, -0.02243104, -0.00934262,
        0.02158726,  0.02205955, -0.02477328, -0.04896389, -0.03375157,
        0.03933884, -0.00116791,  0.        , -0.09570161,  0.06855018,
       -0.01564316, -0.02090358, -0.02176426,  0.00262202,  0.02660443,
       -0.01864088, -0.00152479,  0.05491534, -0.02252611, -0.04617031,
       -0.01376371,  0.01452098, -0.05031844, -0.03514282, -0.01564316,
        0.0326572 ,  0.0041462 , -0.02834453, -0.00727858,  0.        ,
       -0.00138449, -0.04145296, -0.03032255,  0.02193795,  0.03912536,
       -0.0109263 ,  0.03016852,  0.02426654,  0.0524687 , -0.01805023,
        0.00639812,  0.00181613,  0.01333847, -0.04795866, -0.00713641,
        0.        ,  0.01099352,  0.02031477,  0.05093578,  0.00145567,
        0.06650144, -0.05886281,  0.01621104, -0.01186543, -0.01599737,
        0.0114272 ,  0.01496961,  0.00631816,  0.01340311,  0.0114272 ,
        0.04763113, -0.0026089 , -0.01006554, -0.00752408,  0.01189597,
        0.00822396, -0.02919434, -0.02362872, -0.01454754,  0.0114272 ,
       -0.01735872,  0.01146087, -0.01556235, -0.04442294,  0.00528201,
       -0.01971572, -0.02108974, -0.01651765, -0.01721806, -0.03316122,
        0.05067932,  0.00998974, -0.01908463, -0.03386936, -0.00034725,
       -0.06841249, -0.0654142 , -0.07996969, -0.02470646,  0.00964123,
        0.05003853, -0.00453408, -0.01864042,  0.03979777, -0.01172016,
        0.0284846 ,  0.01518725,  0.04076478, -0.01840686, -0.00114335,
       -0.0018659 , -0.01840686, -0.04303768,  0.02905014, -0.04131782,
       -0.01767408, -0.01840686, -0.00629071,  0.00702421,  0.01445663,
       -0.00518292,  0.02600727,  0.05396848,  0.03299049,  0.0584817 ,
       -0.01713427, -0.00039039,  0.01515489,  0.01168028, -0.01466376,
        0.06126474, -0.01023007,  0.01176977,  0.0736808 ,  0.09692439])
# ridge model parameters
model_parameters = list(ridge.coef_)
model_parameters.insert(0, ridge.intercept_)
model_parameters = [round(x, 3) for x in model_parameters]
cols = X.columns
cols = cols.insert(0, "constant")
list(zip(cols, model_parameters))
[('constant', 11.739),
 ('MSSubClass', -0.017),
 ('LotFrontage', 0.009),
 ('LotArea', 0.025),
 ('OverallQual', 0.065),
 ('OverallCond', 0.051),
 ('MasVnrArea', -0.002),
 ('BsmtFinSF1', 0.03),
 ('BsmtFinSF2', 0.007),
 ('TotalBsmtSF', 0.037),
 ('1stFlrSF', 0.04),
 ('2ndFlrSF', 0.048),
 ('LowQualFinSF', 0.005),
 ('GrLivArea', 0.076),
 ('BsmtFullBath', 0.012),
 ('BsmtHalfBath', -0.001),
 ('FullBath', 0.009),
 ('HalfBath', 0.012),
 ('BedroomAbvGr', 0.0),
 ('KitchenAbvGr', -0.005),
 ('Fireplaces', 0.004),
 ('GarageArea', 0.021),
 ('WoodDeckSF', 0.013),
 ('OpenPorchSF', -0.001),
 ('EnclosedPorch', 0.012),
 ('3SsnPorch', 0.005),
 ('ScreenPorch', 0.014),
 ('PoolArea', 0.01),
 ('PropAge', -0.07),
 ('MSZoning_FV', 0.149),
 ('MSZoning_RH', 0.105),
 ('MSZoning_RL', 0.125),
 ('MSZoning_RM', 0.097),
 ('LotShape_IR2', 0.002),
 ('LotShape_IR3', -0.021),
 ('LotShape_Reg', 0.0),
 ('LandContour_HLS', 0.012),
 ('LandContour_Low', -0.021),
 ('LandContour_Lvl', 0.003),
 ('LotConfig_CulDSac', 0.017),
 ('LotConfig_FR2', -0.021),
 ('LotConfig_FR3', -0.051),
 ('LotConfig_Inside', -0.024),
 ('LandSlope_Mod', 0.01),
 ('LandSlope_Sev', -0.039),
 ('Neighborhood_Blueste', -0.015),
 ('Neighborhood_BrDale', -0.023),
 ('Neighborhood_BrkSide', 0.009),
 ('Neighborhood_ClearCr', 0.037),
 ('Neighborhood_CollgCr', -0.008),
 ('Neighborhood_Crawfor', 0.114),
 ('Neighborhood_Edwards', -0.056),
 ('Neighborhood_Gilbert', -0.01),
 ('Neighborhood_IDOTRR', -0.086),
 ('Neighborhood_MeadowV', -0.113),
 ('Neighborhood_Mitchel', -0.042),
 ('Neighborhood_NAmes', -0.019),
 ('Neighborhood_NPkVill', 0.048),
 ('Neighborhood_NWAmes', -0.021),
 ('Neighborhood_NoRidge', 0.036),
 ('Neighborhood_NridgHt', 0.044),
 ('Neighborhood_OldTown', -0.053),
 ('Neighborhood_SWISU', -0.047),
 ('Neighborhood_Sawyer', -0.008),
 ('Neighborhood_SawyerW', 0.004),
 ('Neighborhood_Somerst', 0.023),
 ('Neighborhood_StoneBr', 0.093),
 ('Neighborhood_Timber', -0.004),
 ('Neighborhood_Veenker', 0.037),
 ('Condition1_Feedr', 0.014),
 ('Condition1_Norm', 0.067),
 ('Condition1_PosA', -0.034),
 ('Condition1_PosN', 0.048),
 ('Condition1_RRAe', -0.056),
 ('Condition1_RRAn', 0.049),
 ('Condition1_RRNe', 0.019),
 ('Condition1_RRNn', 0.028),
 ('BldgType_2fmCon', 0.033),
 ('BldgType_Duplex', 0.004),
 ('BldgType_Twnhs', -0.049),
 ('BldgType_TwnhsE', -0.002),
 ('HouseStyle_1.5Unf', 0.012),
 ('HouseStyle_1Story', -0.003),
 ('HouseStyle_2.5Fin', -0.1),
 ('HouseStyle_2.5Unf', -0.022),
 ('HouseStyle_2Story', -0.009),
 ('HouseStyle_SFoyer', 0.022),
 ('HouseStyle_SLvl', 0.022),
 ('RoofStyle_Gable', -0.025),
 ('RoofStyle_Gambrel', -0.049),
 ('RoofStyle_Hip', -0.034),
 ('RoofStyle_Mansard', 0.039),
 ('RoofStyle_Shed', -0.001),
 ('Exterior1st_AsphShn', 0.0),
 ('Exterior1st_BrkComm', -0.096),
 ('Exterior1st_BrkFace', 0.069),
 ('Exterior1st_CBlock', -0.016),
 ('Exterior1st_CemntBd', -0.021),
 ('Exterior1st_HdBoard', -0.022),
 ('Exterior1st_ImStucc', 0.003),
 ('Exterior1st_MetalSd', 0.027),
 ('Exterior1st_Plywood', -0.019),
 ('Exterior1st_Stone', -0.002),
 ('Exterior1st_Stucco', 0.055),
 ('Exterior1st_VinylSd', -0.023),
 ('Exterior1st_Wd Sdng', -0.046),
 ('Exterior1st_WdShing', -0.014),
 ('Exterior2nd_AsphShn', 0.015),
 ('Exterior2nd_Brk Cmn', -0.05),
 ('Exterior2nd_BrkFace', -0.035),
 ('Exterior2nd_CBlock', -0.016),
 ('Exterior2nd_CmentBd', 0.033),
 ('Exterior2nd_HdBoard', 0.004),
 ('Exterior2nd_ImStucc', -0.028),
 ('Exterior2nd_MetalSd', -0.007),
 ('Exterior2nd_Other', 0.0),
 ('Exterior2nd_Plywood', -0.001),
 ('Exterior2nd_Stone', -0.041),
 ('Exterior2nd_Stucco', -0.03),
 ('Exterior2nd_VinylSd', 0.022),
 ('Exterior2nd_Wd Sdng', 0.039),
 ('Exterior2nd_Wd Shng', -0.011),
 ('MasVnrType_BrkFace', 0.03),
 ('MasVnrType_None', 0.024),
 ('MasVnrType_Stone', 0.052),
 ('MasVnrType_none', -0.018),
 ('ExterQual_Fa', 0.006),
 ('ExterQual_Gd', 0.002),
 ('ExterQual_TA', 0.013),
 ('ExterCond_Fa', -0.048),
 ('ExterCond_Gd', -0.007),
 ('ExterCond_Po', 0.0),
 ('ExterCond_TA', 0.011),
 ('Foundation_CBlock', 0.02),
 ('Foundation_PConc', 0.051),
 ('Foundation_Slab', 0.001),
 ('Foundation_Stone', 0.067),
 ('Foundation_Wood', -0.059),
 ('BsmtQual_Fa', 0.016),
 ('BsmtQual_Gd', -0.012),
 ('BsmtQual_TA', -0.016),
 ('BsmtQual_none', 0.011),
 ('BsmtCond_Gd', 0.015),
 ('BsmtCond_Po', 0.006),
 ('BsmtCond_TA', 0.013),
 ('BsmtCond_none', 0.011),
 ('BsmtExposure_Gd', 0.048),
 ('BsmtExposure_Mn', -0.003),
 ('BsmtExposure_No', -0.01),
 ('BsmtExposure_none', -0.008),
 ('BsmtFinType1_BLQ', 0.012),
 ('BsmtFinType1_GLQ', 0.008),
 ('BsmtFinType1_LwQ', -0.029),
 ('BsmtFinType1_Rec', -0.024),
 ('BsmtFinType1_Unf', -0.015),
 ('BsmtFinType1_none', 0.011),
 ('BsmtFinType2_BLQ', -0.017),
 ('BsmtFinType2_GLQ', 0.011),
 ('BsmtFinType2_LwQ', -0.016),
 ('BsmtFinType2_Rec', -0.044),
 ('BsmtFinType2_Unf', 0.005),
 ('BsmtFinType2_none', -0.02),
 ('HeatingQC_Fa', -0.021),
 ('HeatingQC_Gd', -0.017),
 ('HeatingQC_Po', -0.017),
 ('HeatingQC_TA', -0.033),
 ('CentralAir_Y', 0.051),
 ('Electrical_FuseF', 0.01),
 ('Electrical_FuseP', -0.019),
 ('Electrical_Mix', -0.034),
 ('Electrical_SBrkr', -0.0),
 ('KitchenQual_Fa', -0.068),
 ('KitchenQual_Gd', -0.065),
 ('KitchenQual_TA', -0.08),
 ('FireplaceQu_Fa', -0.025),
 ('FireplaceQu_Gd', 0.01),
 ('FireplaceQu_Po', 0.05),
 ('FireplaceQu_TA', -0.005),
 ('FireplaceQu_none', -0.019),
 ('GarageType_Attchd', 0.04),
 ('GarageType_Basment', -0.012),
 ('GarageType_BuiltIn', 0.028),
 ('GarageType_CarPort', 0.015),
 ('GarageType_Detchd', 0.041),
 ('GarageType_none', -0.018),
 ('GarageFinish_RFn', -0.001),
 ('GarageFinish_Unf', -0.002),
 ('GarageFinish_none', -0.018),
 ('GarageQual_Fa', -0.043),
 ('GarageQual_Gd', 0.029),
 ('GarageQual_Po', -0.041),
 ('GarageQual_TA', -0.018),
 ('GarageQual_none', -0.018),
 ('PavedDrive_P', -0.006),
 ('PavedDrive_Y', 0.007),
 ('MiscFeature_Othr', 0.014),
 ('MiscFeature_Shed', -0.005),
 ('MiscFeature_none', 0.026),
 ('SaleType_CWD', 0.054),
 ('SaleType_Con', 0.033),
 ('SaleType_ConLD', 0.058),
 ('SaleType_ConLI', -0.017),
 ('SaleType_ConLw', -0.0),
 ('SaleType_New', 0.015),
 ('SaleType_Oth', 0.012),
 ('SaleType_WD', -0.015),
 ('SaleCondition_AdjLand', 0.061),
 ('SaleCondition_Alloca', -0.01),
 ('SaleCondition_Family', 0.012),
 ('SaleCondition_Normal', 0.074),
 ('SaleCondition_Partial', 0.097)]
# ridge regression
lm = Ridge(alpha=2)
lm.fit(X_train, y_train)
​
# predict
y_train_pred = lm.predict(X_train)
print(metrics.r2_score(y_true=y_train, y_pred=y_train_pred))
y_test_pred = lm.predict(X_test)
print(metrics.r2_score(y_true=y_test, y_pred=y_test_pred))
0.9364594823911133
0.9077597079466581
print('RMSE :', np.sqrt(metrics.mean_squared_error(y_test, y_test_pred)))
RMSE : 0.11485785595060997
It is visible that the model performance is better than Lasso. The train and the test scores are matching well
# Create a dataframe for Ridge Coefficients
mod_ridge = list(zip(cols, model_parameters))
paraRFE = pd.DataFrame(mod_ridge)
paraRFE.columns = ['Variable', 'Coeff']
res=paraRFE.sort_values(by=['Coeff'], ascending = False)
res.head(20)
Variable	Coeff
0	constant	11.739
29	MSZoning_FV	0.149
31	MSZoning_RL	0.125
50	Neighborhood_Crawfor	0.114
30	MSZoning_RH	0.105
32	MSZoning_RM	0.097
210	SaleCondition_Partial	0.097
66	Neighborhood_StoneBr	0.093
13	GrLivArea	0.076
209	SaleCondition_Normal	0.074
95	Exterior1st_BrkFace	0.069
70	Condition1_Norm	0.067
136	Foundation_Stone	0.067
4	OverallQual	0.065
206	SaleCondition_AdjLand	0.061
200	SaleType_ConLD	0.058
103	Exterior1st_Stucco	0.055
198	SaleType_CWD	0.054
124	MasVnrType_Stone	0.052
5	OverallCond	0.051
# Sorting the coefficients in ascending order
paraRFE = paraRFE.sort_values((['Coeff']), axis = 0, ascending = False)
paraRFE
Variable	Coeff
0	constant	11.739
29	MSZoning_FV	0.149
31	MSZoning_RL	0.125
50	Neighborhood_Crawfor	0.114
30	MSZoning_RH	0.105
32	MSZoning_RM	0.097
210	SaleCondition_Partial	0.097
66	Neighborhood_StoneBr	0.093
13	GrLivArea	0.076
209	SaleCondition_Normal	0.074
95	Exterior1st_BrkFace	0.069
70	Condition1_Norm	0.067
136	Foundation_Stone	0.067
4	OverallQual	0.065
206	SaleCondition_AdjLand	0.061
200	SaleType_ConLD	0.058
103	Exterior1st_Stucco	0.055
198	SaleType_CWD	0.054
124	MasVnrType_Stone	0.052
5	OverallCond	0.051
134	Foundation_PConc	0.051
166	CentralAir_Y	0.051
176	FireplaceQu_Po	0.050
74	Condition1_RRAn	0.049
11	2ndFlrSF	0.048
57	Neighborhood_NPkVill	0.048
72	Condition1_PosN	0.048
146	BsmtExposure_Gd	0.048
60	Neighborhood_NridgHt	0.044
183	GarageType_Detchd	0.041
179	GarageType_Attchd	0.040
10	1stFlrSF	0.040
91	RoofStyle_Mansard	0.039
120	Exterior2nd_Wd Sdng	0.039
9	TotalBsmtSF	0.037
68	Neighborhood_Veenker	0.037
48	Neighborhood_ClearCr	0.037
59	Neighborhood_NoRidge	0.036
199	SaleType_Con	0.033
77	BldgType_2fmCon	0.033
111	Exterior2nd_CmentBd	0.033
122	MasVnrType_BrkFace	0.030
7	BsmtFinSF1	0.030
189	GarageQual_Gd	0.029
76	Condition1_RRNn	0.028
181	GarageType_BuiltIn	0.028
100	Exterior1st_MetalSd	0.027
197	MiscFeature_none	0.026
3	LotArea	0.025
123	MasVnrType_None	0.024
...	...	...
178	FireplaceQu_none	-0.019
56	Neighborhood_NAmes	-0.019
161	BsmtFinType2_none	-0.020
34	LotShape_IR3	-0.021
37	LandContour_Low	-0.021
40	LotConfig_FR2	-0.021
58	Neighborhood_NWAmes	-0.021
97	Exterior1st_CemntBd	-0.021
162	HeatingQC_Fa	-0.021
98	Exterior1st_HdBoard	-0.022
84	HouseStyle_2.5Unf	-0.022
104	Exterior1st_VinylSd	-0.023
46	Neighborhood_BrDale	-0.023
42	LotConfig_Inside	-0.024
153	BsmtFinType1_Rec	-0.024
88	RoofStyle_Gable	-0.025
174	FireplaceQu_Fa	-0.025
113	Exterior2nd_ImStucc	-0.028
152	BsmtFinType1_LwQ	-0.029
118	Exterior2nd_Stucco	-0.030
165	HeatingQC_TA	-0.033
169	Electrical_Mix	-0.034
71	Condition1_PosA	-0.034
90	RoofStyle_Hip	-0.034
109	Exterior2nd_BrkFace	-0.035
44	LandSlope_Sev	-0.039
117	Exterior2nd_Stone	-0.041
190	GarageQual_Po	-0.041
55	Neighborhood_Mitchel	-0.042
188	GarageQual_Fa	-0.043
159	BsmtFinType2_Rec	-0.044
105	Exterior1st_Wd Sdng	-0.046
62	Neighborhood_SWISU	-0.047
129	ExterCond_Fa	-0.048
89	RoofStyle_Gambrel	-0.049
79	BldgType_Twnhs	-0.049
108	Exterior2nd_Brk Cmn	-0.050
41	LotConfig_FR3	-0.051
61	Neighborhood_OldTown	-0.053
51	Neighborhood_Edwards	-0.056
73	Condition1_RRAe	-0.056
137	Foundation_Wood	-0.059
172	KitchenQual_Gd	-0.065
171	KitchenQual_Fa	-0.068
28	PropAge	-0.070
173	KitchenQual_TA	-0.080
53	Neighborhood_IDOTRR	-0.086
94	Exterior1st_BrkComm	-0.096
83	HouseStyle_2.5Fin	-0.100
54	Neighborhood_MeadowV	-0.113
211 rows × 2 columns

## since there were few coefficients at 0, we removed them from features
predRFE = pd.DataFrame(paraRFE[(paraRFE['Coeff'] != 0)])
predRFE
Variable	Coeff
0	constant	11.739
29	MSZoning_FV	0.149
31	MSZoning_RL	0.125
50	Neighborhood_Crawfor	0.114
30	MSZoning_RH	0.105
32	MSZoning_RM	0.097
210	SaleCondition_Partial	0.097
66	Neighborhood_StoneBr	0.093
13	GrLivArea	0.076
209	SaleCondition_Normal	0.074
95	Exterior1st_BrkFace	0.069
70	Condition1_Norm	0.067
136	Foundation_Stone	0.067
4	OverallQual	0.065
206	SaleCondition_AdjLand	0.061
200	SaleType_ConLD	0.058
103	Exterior1st_Stucco	0.055
198	SaleType_CWD	0.054
124	MasVnrType_Stone	0.052
5	OverallCond	0.051
134	Foundation_PConc	0.051
166	CentralAir_Y	0.051
176	FireplaceQu_Po	0.050
74	Condition1_RRAn	0.049
11	2ndFlrSF	0.048
57	Neighborhood_NPkVill	0.048
72	Condition1_PosN	0.048
146	BsmtExposure_Gd	0.048
60	Neighborhood_NridgHt	0.044
183	GarageType_Detchd	0.041
179	GarageType_Attchd	0.040
10	1stFlrSF	0.040
91	RoofStyle_Mansard	0.039
120	Exterior2nd_Wd Sdng	0.039
9	TotalBsmtSF	0.037
68	Neighborhood_Veenker	0.037
48	Neighborhood_ClearCr	0.037
59	Neighborhood_NoRidge	0.036
199	SaleType_Con	0.033
77	BldgType_2fmCon	0.033
111	Exterior2nd_CmentBd	0.033
122	MasVnrType_BrkFace	0.030
7	BsmtFinSF1	0.030
189	GarageQual_Gd	0.029
76	Condition1_RRNn	0.028
181	GarageType_BuiltIn	0.028
100	Exterior1st_MetalSd	0.027
197	MiscFeature_none	0.026
3	LotArea	0.025
123	MasVnrType_None	0.024
...	...	...
178	FireplaceQu_none	-0.019
56	Neighborhood_NAmes	-0.019
161	BsmtFinType2_none	-0.020
34	LotShape_IR3	-0.021
37	LandContour_Low	-0.021
40	LotConfig_FR2	-0.021
58	Neighborhood_NWAmes	-0.021
97	Exterior1st_CemntBd	-0.021
162	HeatingQC_Fa	-0.021
98	Exterior1st_HdBoard	-0.022
84	HouseStyle_2.5Unf	-0.022
104	Exterior1st_VinylSd	-0.023
46	Neighborhood_BrDale	-0.023
42	LotConfig_Inside	-0.024
153	BsmtFinType1_Rec	-0.024
88	RoofStyle_Gable	-0.025
174	FireplaceQu_Fa	-0.025
113	Exterior2nd_ImStucc	-0.028
152	BsmtFinType1_LwQ	-0.029
118	Exterior2nd_Stucco	-0.030
165	HeatingQC_TA	-0.033
169	Electrical_Mix	-0.034
71	Condition1_PosA	-0.034
90	RoofStyle_Hip	-0.034
109	Exterior2nd_BrkFace	-0.035
44	LandSlope_Sev	-0.039
117	Exterior2nd_Stone	-0.041
190	GarageQual_Po	-0.041
55	Neighborhood_Mitchel	-0.042
188	GarageQual_Fa	-0.043
159	BsmtFinType2_Rec	-0.044
105	Exterior1st_Wd Sdng	-0.046
62	Neighborhood_SWISU	-0.047
129	ExterCond_Fa	-0.048
89	RoofStyle_Gambrel	-0.049
79	BldgType_Twnhs	-0.049
108	Exterior2nd_Brk Cmn	-0.050
41	LotConfig_FR3	-0.051
61	Neighborhood_OldTown	-0.053
51	Neighborhood_Edwards	-0.056
73	Condition1_RRAe	-0.056
137	Foundation_Wood	-0.059
172	KitchenQual_Gd	-0.065
171	KitchenQual_Fa	-0.068
28	PropAge	-0.070
173	KitchenQual_TA	-0.080
53	Neighborhood_IDOTRR	-0.086
94	Exterior1st_BrkComm	-0.096
83	HouseStyle_2.5Fin	-0.100
54	Neighborhood_MeadowV	-0.113
204 rows × 2 columns

predRFE.shape
(204, 2)
Observation:
Though the model performance by Ridge Regression was better in terms of R2 values of Train and Test,
it is better to use Lasso, since it brings and assigns a zero value to insignificant features, enabling us to choose
the predictive variables.
It is always advisable to use simple yet robust model.
Equation can be formulated using the features and coefficients obtained by Lasso
### Assign the Features as x1, x2.....
​
pred.set_index(pd.Index(['C','x1', 'x2', 'x3', 'x4', 'x5' , 'x6', 'x7', 'x8', 'x9', 'x10', 'x11', 'x12', 'x13', 'x14', 'x15', 'x16']), inplace = True) 
pred
Variable	Coeff
C	constant	12.003
x1	GrLivArea	0.125
x2	OverallQual	0.112
x3	OverallCond	0.050
x4	TotalBsmtSF	0.042
x5	BsmtFinSF1	0.035
x6	GarageArea	0.034
x7	Fireplaces	0.024
x8	LotArea	0.015
x9	LotFrontage	0.014
x10	BsmtFullBath	0.010
x11	WoodDeckSF	0.010
x12	ScreenPorch	0.005
x13	KitchenQual_TA	-0.007
x14	MSSubClass	-0.007
x15	KitchenAbvGr	-0.008
x16	PropAge	-0.095
These are the final features that should be selected for predicting the price of house
Hence the equation:
Log(Y) = C + 0.125(x1) + 0.112(x2) + 0.050(x3) + 0.042(x4) + 0.035(x5) + 0.034(x6) + 0.024(x7) + 0.015(x8) + 0.014(x9) + 0.010(x10)
+ 0.010(x11) + 0.005(x12) - 0.007(x13) - 0.007(x14) - 0.008(x15) - 0.095(x16) + Error term(RSS + alpha * (sum of absolute value of coefficients)
INFERENCE
Suggestions for Surprise Housing is to keep a check on these predictors affecting the price of the house.
The higher values of positive coeeficients suggest a high sale value.
Some of those features are:-
Feature	Description
GrLivArea	Above grade (ground) living area square feet
OverallQual	Rates the overall material and finish of the house
OverallCond	Rates the overall condition of the house
TotalBsmtSF	Total square feet of basement area
GarageArea	Size of garage in square feet
The higher values of negative coeeficients suggest a decrease in sale value.
Some of those features are:-
Feature	Description
PropAge	Age of the property at the time of seeling
MSSubClass	Identifies the type of dwelling involved in the sale
When the market value of the property is lower than the Predicted Sale Price, its the time to buy.
​
